{
 "cells": [
  {
   "cell_type": "code",
   "execution_count": 1,
   "metadata": {},
   "outputs": [],
   "source": [
    "import numpy as np\n",
    "import pandas as pd\n",
    "import matplotlib.pyplot as plt\n",
    "%matplotlib inline\n",
    "import seaborn as sns"
   ]
  },
  {
   "cell_type": "code",
   "execution_count": 37,
   "metadata": {},
   "outputs": [],
   "source": [
    "vehicles_2018 = pd.read_csv('databases/vehicles_involved/csv/2018_accidents_vehicles_gu_bcn_.csv')"
   ]
  },
  {
   "cell_type": "code",
   "execution_count": 81,
   "metadata": {},
   "outputs": [
    {
     "data": {
      "text/plain": [
       "Index(['Codi_expedient', 'Codi_districte', 'Nom_districte', 'Codi_barri',\n",
       "       'Nom_barri', 'Codi_carrer', 'Nom_carrer', 'Num_postal ',\n",
       "       'Descripcio_dia_setmana', 'Dia_setmana', 'Descripcio_tipus_dia',\n",
       "       'NK_Any', 'Mes_any', 'Nom_mes', 'Dia_mes', 'Hora_dia',\n",
       "       'Descripcio_torn', 'Descripcio_causa_vianant',\n",
       "       'Descripcio_tipus_vehicle', 'Descripcio_model', 'Descripcio_marca',\n",
       "       'Descripcio_color', 'Descripcio_carnet', 'Antiguitat_carnet',\n",
       "       'Coordenada_UTM_X', 'Coordenada_UTM_Y', 'Longitud', 'Latitud'],\n",
       "      dtype='object')"
      ]
     },
     "execution_count": 81,
     "metadata": {},
     "output_type": "execute_result"
    }
   ],
   "source": [
    "vehicles_2018.columns"
   ]
  },
  {
   "cell_type": "code",
   "execution_count": 84,
   "metadata": {},
   "outputs": [
    {
     "data": {
      "text/plain": [
       "28"
      ]
     },
     "execution_count": 84,
     "metadata": {},
     "output_type": "execute_result"
    }
   ],
   "source": [
    "len(vehicles_2018.columns)"
   ]
  },
  {
   "cell_type": "code",
   "execution_count": 38,
   "metadata": {},
   "outputs": [],
   "source": [
    "vehicles_2017 = pd.read_excel('databases/vehicles_involved/excel/2017_accidents_vehicles_gu_bcn_.xlsx')"
   ]
  },
  {
   "cell_type": "code",
   "execution_count": 88,
   "metadata": {},
   "outputs": [],
   "source": [
    "vehicles_2017.columns = ['Codi_expedient', 'Codi_districte', 'Nom_districte', 'Codi_barri',\n",
    "       'Nom_barri', 'Codi_carrer', 'Nom_carrer', 'Num_postal ',\n",
    "       'Descripcio_dia_setmana', 'Dia_setmana', 'Descripcio_tipus_dia',\n",
    "       'NK_Any', 'Mes_any', 'Nom_mes', 'Dia_mes', 'Hora_dia',\n",
    "       'Descripcio_causa_vianant', 'Descripcio_tipus_vehicle', \n",
    "       'Descripcio_model', 'Descripcio_marca', 'Descripcio_color', \n",
    "       'Descripcio_carnet', 'Antiguitat_carnet', 'Coordenada_UTM_X', 'Coordenada_UTM_Y', 'Longitud', 'Latitud']"
   ]
  },
  {
   "cell_type": "code",
   "execution_count": 93,
   "metadata": {},
   "outputs": [
    {
     "data": {
      "text/plain": [
       "27"
      ]
     },
     "execution_count": 93,
     "metadata": {},
     "output_type": "execute_result"
    }
   ],
   "source": [
    "len(vehicles_2017.columns)"
   ]
  },
  {
   "cell_type": "code",
   "execution_count": 39,
   "metadata": {},
   "outputs": [],
   "source": [
    "vehicles_2016 = pd.read_excel('databases/vehicles_involved/excel/2016_accidents_vehicles_gu_bcn_.xlsx')"
   ]
  },
  {
   "cell_type": "code",
   "execution_count": 97,
   "metadata": {},
   "outputs": [],
   "source": [
    "vehicles_2016.columns = ['Codi_expedient', 'Codi_districte', 'Nom_districte', 'Codi_barri',\n",
    "       'Nom_barri', 'Codi_carrer', 'Nom_carrer', 'Num_postal ',\n",
    "       'Descripcio_dia_setmana', 'Dia_setmana', 'Descripcio_tipus_dia',\n",
    "       'NK_Any', 'Mes_any', 'Nom_mes', 'Dia_mes', 'Hora_dia',\n",
    "       'Descripcio_causa_vianant', 'Descripcio_tipus_vehicle', \n",
    "       'Descripcio_model', 'Descripcio_marca', 'Descripcio_color', \n",
    "       'Descripcio_carnet', 'Antiguitat_carnet', 'Coordenada_UTM_X', 'Coordenada_UTM_Y', 'Longitud', 'Latitud']"
   ]
  },
  {
   "cell_type": "code",
   "execution_count": 41,
   "metadata": {},
   "outputs": [],
   "source": [
    "vehicles_2015 = pd.read_excel('databases/vehicles_involved/excel/2015_accidents_vehicles_gu_bcn_2015.xlsx')"
   ]
  },
  {
   "cell_type": "code",
   "execution_count": 102,
   "metadata": {},
   "outputs": [],
   "source": [
    "vehicles_2015.columns = ['Codi_expedient', 'Codi_districte', 'Nom_districte', 'Codi_barri',\n",
    "       'Nom_barri', 'Codi_carrer', 'Nom_carrer', 'Num_postal ',\n",
    "       'Descripcio_dia_setmana', 'Dia_setmana', 'Descripcio_tipus_dia',\n",
    "       'NK_Any', 'Mes_any', 'Nom_mes', 'Dia_mes', 'Hora_dia',\n",
    "       'Descripcio_causa_vianant', 'Descripcio_tipus_vehicle', \n",
    "       'Descripcio_model', 'Descripcio_marca', 'Descripcio_color', \n",
    "       'Descripcio_carnet', 'Antiguitat_carnet', 'Coordenada_UTM_Y', 'Coordenada_UTM_X']"
   ]
  },
  {
   "cell_type": "code",
   "execution_count": 103,
   "metadata": {},
   "outputs": [
    {
     "data": {
      "text/plain": [
       "25"
      ]
     },
     "execution_count": 103,
     "metadata": {},
     "output_type": "execute_result"
    }
   ],
   "source": [
    "len(vehicles_2015.columns)"
   ]
  },
  {
   "cell_type": "code",
   "execution_count": 42,
   "metadata": {},
   "outputs": [],
   "source": [
    "vehicles_2014 = pd.read_excel('databases/vehicles_involved/excel/2014_accidents_vehicles_gu_bcn_2014.xlsx')"
   ]
  },
  {
   "cell_type": "code",
   "execution_count": 107,
   "metadata": {},
   "outputs": [],
   "source": [
    "vehicles_2014.columns = ['Codi_expedient', 'Codi_districte', 'Nom_districte', 'Codi_barri',\n",
    "       'Nom_barri', 'Codi_carrer', 'Nom_carrer', 'Num_postal ',\n",
    "       'Descripcio_dia_setmana', 'Dia_setmana', 'Descripcio_tipus_dia',\n",
    "       'NK_Any', 'Mes_any', 'Nom_mes', 'Dia_mes', 'Hora_dia',\n",
    "       'Descripcio_causa_vianant', 'Descripcio_tipus_vehicle', \n",
    "       'Descripcio_model', 'Descripcio_marca', 'Descripcio_color', \n",
    "       'Descripcio_carnet', 'Antiguitat_carnet', 'Coordenada_UTM_Y', 'Coordenada_UTM_X']"
   ]
  },
  {
   "cell_type": "code",
   "execution_count": 109,
   "metadata": {},
   "outputs": [
    {
     "data": {
      "text/plain": [
       "25"
      ]
     },
     "execution_count": 109,
     "metadata": {},
     "output_type": "execute_result"
    }
   ],
   "source": [
    "len(vehicles_2014.columns)"
   ]
  },
  {
   "cell_type": "code",
   "execution_count": 43,
   "metadata": {},
   "outputs": [],
   "source": [
    "vehicles_2013 = pd.read_excel('databases/vehicles_involved/excel/2013_accidents_vehicles_gu_bcn_2013.xlsx')"
   ]
  },
  {
   "cell_type": "code",
   "execution_count": 112,
   "metadata": {},
   "outputs": [],
   "source": [
    "vehicles_2013.columns = ['Codi_expedient', 'Codi_districte', 'Nom_districte', 'Codi_barri',\n",
    "       'Nom_barri', 'Codi_carrer', 'Nom_carrer', 'Num_postal ',\n",
    "       'Descripcio_dia_setmana', 'Dia_setmana', 'Descripcio_tipus_dia',\n",
    "       'NK_Any', 'Mes_any', 'Nom_mes', 'Dia_mes', 'Hora_dia',\n",
    "       'Descripcio_causa_vianant', 'Descripcio_tipus_vehicle', \n",
    "       'Descripcio_model', 'Descripcio_marca', 'Descripcio_color', \n",
    "       'Descripcio_carnet', 'Antiguitat_carnet', 'Coordenada_UTM_Y', 'Coordenada_UTM_X']"
   ]
  },
  {
   "cell_type": "code",
   "execution_count": 44,
   "metadata": {},
   "outputs": [],
   "source": [
    "vehicles_2012 = pd.read_excel('databases/vehicles_involved/excel/2012_accidents_vehicles_gu_bcn_2012.xlsx')"
   ]
  },
  {
   "cell_type": "code",
   "execution_count": 116,
   "metadata": {},
   "outputs": [],
   "source": [
    "vehicles_2012.columns = ['Codi_expedient', 'Codi_districte', 'Nom_districte', 'Codi_barri',\n",
    "       'Nom_barri', 'Codi_carrer', 'Nom_carrer', 'Num_postal ',\n",
    "       'Descripcio_dia_setmana', 'Dia_setmana', 'Descripcio_tipus_dia',\n",
    "       'NK_Any', 'Mes_any', 'Nom_mes', 'Dia_mes', 'Hora_dia',\n",
    "       'Descripcio_causa_vianant', 'Descripcio_tipus_vehicle', \n",
    "       'Descripcio_model', 'Descripcio_marca', 'Descripcio_color', \n",
    "       'Descripcio_carnet', 'Antiguitat_carnet', 'Coordenada_UTM_Y', 'Coordenada_UTM_X']"
   ]
  },
  {
   "cell_type": "code",
   "execution_count": 46,
   "metadata": {},
   "outputs": [],
   "source": [
    "vehicles_2011 = pd.read_excel('databases/vehicles_involved/excel/2011_accidents_vehicles_gu_bcn_2011.xlsx')"
   ]
  },
  {
   "cell_type": "code",
   "execution_count": 119,
   "metadata": {},
   "outputs": [],
   "source": [
    "vehicles_2011.columns = ['Codi_expedient', 'Codi_districte', 'Nom_districte', 'Codi_barri',\n",
    "       'Nom_barri', 'Codi_carrer', 'Nom_carrer', 'Num_postal ',\n",
    "       'Descripcio_dia_setmana', 'Dia_setmana', 'Descripcio_tipus_dia',\n",
    "       'NK_Any', 'Mes_any', 'Nom_mes', 'Dia_mes', 'Hora_dia',\n",
    "       'Descripcio_causa_vianant', 'Descripcio_tipus_vehicle', \n",
    "       'Descripcio_model', 'Descripcio_marca', 'Descripcio_color', \n",
    "       'Descripcio_carnet', 'Antiguitat_carnet', 'Coordenada_UTM_Y', 'Coordenada_UTM_X']"
   ]
  },
  {
   "cell_type": "code",
   "execution_count": 47,
   "metadata": {},
   "outputs": [],
   "source": [
    "vehicles_2010 = pd.read_excel('databases/vehicles_involved/excel/2010_accidents_vehicles_gu_bcn_2010.xlsx')"
   ]
  },
  {
   "cell_type": "code",
   "execution_count": 121,
   "metadata": {},
   "outputs": [],
   "source": [
    "vehicles_2010.columns = ['Codi_expedient', 'Codi_districte', 'Nom_districte', 'Codi_barri',\n",
    "       'Nom_barri', 'Codi_carrer', 'Nom_carrer', 'Num_postal ',\n",
    "       'Descripcio_dia_setmana', 'Dia_setmana', 'Descripcio_tipus_dia',\n",
    "       'NK_Any', 'Mes_any', 'Nom_mes', 'Dia_mes', 'Hora_dia',\n",
    "       'Descripcio_causa_vianant', 'Descripcio_tipus_vehicle', \n",
    "       'Descripcio_model', 'Descripcio_marca', 'Descripcio_color', \n",
    "       'Descripcio_carnet', 'Antiguitat_carnet', 'Coordenada_UTM_Y', 'Coordenada_UTM_X']"
   ]
  },
  {
   "cell_type": "code",
   "execution_count": null,
   "metadata": {},
   "outputs": [],
   "source": [
    "# merge all vehicles_YYYY into one data set"
   ]
  },
  {
   "cell_type": "code",
   "execution_count": 122,
   "metadata": {},
   "outputs": [],
   "source": [
    "vehicles = pd.concat([vehicles_2010, vehicles_2011, vehicles_2012, vehicles_2013, vehicles_2014, vehicles_2015, vehicles_2016, vehicles_2017, vehicles_2018], sort=False, ignore_index=True)"
   ]
  },
  {
   "cell_type": "code",
   "execution_count": 128,
   "metadata": {},
   "outputs": [
    {
     "data": {
      "text/plain": [
       "Index(['Codi_expedient', 'Codi_districte', 'Nom_districte', 'Codi_barri',\n",
       "       'Nom_barri', 'Codi_carrer', 'Nom_carrer', 'Num_postal ',\n",
       "       'Descripcio_dia_setmana', 'Dia_setmana', 'Descripcio_tipus_dia',\n",
       "       'NK_Any', 'Mes_any', 'Nom_mes', 'Dia_mes', 'Hora_dia',\n",
       "       'Descripcio_causa_vianant', 'Descripcio_tipus_vehicle',\n",
       "       'Descripcio_model', 'Descripcio_marca', 'Descripcio_color',\n",
       "       'Descripcio_carnet', 'Antiguitat_carnet', 'Coordenada_UTM_Y',\n",
       "       'Coordenada_UTM_X', 'Longitud', 'Latitud', 'Descripcio_torn'],\n",
       "      dtype='object')"
      ]
     },
     "execution_count": 128,
     "metadata": {},
     "output_type": "execute_result"
    }
   ],
   "source": [
    "vehicles.columns"
   ]
  },
  {
   "cell_type": "code",
   "execution_count": 131,
   "metadata": {},
   "outputs": [],
   "source": [
    "vehicles.drop(['Longitud', 'Latitud', 'Descripcio_torn'], axis=1, inplace=True)"
   ]
  },
  {
   "cell_type": "code",
   "execution_count": 134,
   "metadata": {},
   "outputs": [
    {
     "name": "stdout",
     "output_type": "stream",
     "text": [
      "<class 'pandas.core.frame.DataFrame'>\n",
      "RangeIndex: 166552 entries, 0 to 166551\n",
      "Data columns (total 25 columns):\n",
      "Codi_expedient              166551 non-null object\n",
      "Codi_districte              166552 non-null object\n",
      "Nom_districte               166552 non-null object\n",
      "Codi_barri                  166552 non-null object\n",
      "Nom_barri                   166552 non-null object\n",
      "Codi_carrer                 166552 non-null object\n",
      "Nom_carrer                  166552 non-null object\n",
      "Num_postal                  152576 non-null object\n",
      "Descripcio_dia_setmana      166552 non-null object\n",
      "Dia_setmana                 166552 non-null object\n",
      "Descripcio_tipus_dia        166552 non-null object\n",
      "NK_Any                      166552 non-null int64\n",
      "Mes_any                     166552 non-null int64\n",
      "Nom_mes                     166552 non-null object\n",
      "Dia_mes                     166552 non-null int64\n",
      "Hora_dia                    166552 non-null int64\n",
      "Descripcio_causa_vianant    166552 non-null object\n",
      "Descripcio_tipus_vehicle    166551 non-null object\n",
      "Descripcio_model            166511 non-null object\n",
      "Descripcio_marca            166551 non-null object\n",
      "Descripcio_color            166551 non-null object\n",
      "Descripcio_carnet           166551 non-null object\n",
      "Antiguitat_carnet           166551 non-null object\n",
      "Coordenada_UTM_Y            166545 non-null object\n",
      "Coordenada_UTM_X            166545 non-null object\n",
      "dtypes: int64(4), object(21)\n",
      "memory usage: 31.8+ MB\n"
     ]
    }
   ],
   "source": [
    "vehicles.info()"
   ]
  },
  {
   "cell_type": "code",
   "execution_count": 137,
   "metadata": {},
   "outputs": [
    {
     "data": {
      "text/html": [
       "<div>\n",
       "<style scoped>\n",
       "    .dataframe tbody tr th:only-of-type {\n",
       "        vertical-align: middle;\n",
       "    }\n",
       "\n",
       "    .dataframe tbody tr th {\n",
       "        vertical-align: top;\n",
       "    }\n",
       "\n",
       "    .dataframe thead th {\n",
       "        text-align: right;\n",
       "    }\n",
       "</style>\n",
       "<table border=\"1\" class=\"dataframe\">\n",
       "  <thead>\n",
       "    <tr style=\"text-align: right;\">\n",
       "      <th></th>\n",
       "      <th>Codi_expedient</th>\n",
       "      <th>Codi_districte</th>\n",
       "      <th>Nom_districte</th>\n",
       "      <th>Codi_barri</th>\n",
       "      <th>Nom_barri</th>\n",
       "      <th>Codi_carrer</th>\n",
       "      <th>Nom_carrer</th>\n",
       "      <th>Num_postal</th>\n",
       "      <th>Descripcio_dia_setmana</th>\n",
       "      <th>Dia_setmana</th>\n",
       "      <th>...</th>\n",
       "      <th>Hora_dia</th>\n",
       "      <th>Descripcio_causa_vianant</th>\n",
       "      <th>Descripcio_tipus_vehicle</th>\n",
       "      <th>Descripcio_model</th>\n",
       "      <th>Descripcio_marca</th>\n",
       "      <th>Descripcio_color</th>\n",
       "      <th>Descripcio_carnet</th>\n",
       "      <th>Antiguitat_carnet</th>\n",
       "      <th>Coordenada_UTM_Y</th>\n",
       "      <th>Coordenada_UTM_X</th>\n",
       "    </tr>\n",
       "  </thead>\n",
       "  <tbody>\n",
       "    <tr>\n",
       "      <th>0</th>\n",
       "      <td>2010S002961</td>\n",
       "      <td>7</td>\n",
       "      <td>Horta-Guinardó</td>\n",
       "      <td>34</td>\n",
       "      <td>Can Baró</td>\n",
       "      <td>170601</td>\n",
       "      <td>José Millán González</td>\n",
       "      <td>0034 0034</td>\n",
       "      <td>Divendres</td>\n",
       "      <td>Dv</td>\n",
       "      <td>...</td>\n",
       "      <td>23</td>\n",
       "      <td>Creuar per fora pas de vianants</td>\n",
       "      <td>Turismo</td>\n",
       "      <td>GOLF</td>\n",
       "      <td>VOLKSWAGEN</td>\n",
       "      <td>Desconegut</td>\n",
       "      <td>B</td>\n",
       "      <td>3</td>\n",
       "      <td>4585536,52</td>\n",
       "      <td>429863,89</td>\n",
       "    </tr>\n",
       "    <tr>\n",
       "      <th>1</th>\n",
       "      <td>2010S003114</td>\n",
       "      <td>8</td>\n",
       "      <td>Nou Barris</td>\n",
       "      <td>53</td>\n",
       "      <td>la Trinitat Nova</td>\n",
       "      <td>4409</td>\n",
       "      <td>Aiguablava</td>\n",
       "      <td>0026 0026</td>\n",
       "      <td>Divendres</td>\n",
       "      <td>Dv</td>\n",
       "      <td>...</td>\n",
       "      <td>15</td>\n",
       "      <td>No és causa del  vianant</td>\n",
       "      <td>Ciclomotor</td>\n",
       "      <td>YR</td>\n",
       "      <td>YAMAHA</td>\n",
       "      <td>Negre</td>\n",
       "      <td>AM</td>\n",
       "      <td>1</td>\n",
       "      <td>4589093,65</td>\n",
       "      <td>431789,16</td>\n",
       "    </tr>\n",
       "    <tr>\n",
       "      <th>2</th>\n",
       "      <td>2010S001244</td>\n",
       "      <td>3</td>\n",
       "      <td>Sants-Montjuïc</td>\n",
       "      <td>11</td>\n",
       "      <td>el Poble Sec</td>\n",
       "      <td>701266</td>\n",
       "      <td>Litoral (Llobregat)</td>\n",
       "      <td>001380000</td>\n",
       "      <td>Divendres</td>\n",
       "      <td>Dv</td>\n",
       "      <td>...</td>\n",
       "      <td>15</td>\n",
       "      <td>No és causa del  vianant</td>\n",
       "      <td>Furgoneta</td>\n",
       "      <td>BERLINGO</td>\n",
       "      <td>CITROEN</td>\n",
       "      <td>Blanc</td>\n",
       "      <td>B</td>\n",
       "      <td>9</td>\n",
       "      <td>4578885,90</td>\n",
       "      <td>429949,38</td>\n",
       "    </tr>\n",
       "    <tr>\n",
       "      <th>3</th>\n",
       "      <td>2010S001244</td>\n",
       "      <td>3</td>\n",
       "      <td>Sants-Montjuïc</td>\n",
       "      <td>11</td>\n",
       "      <td>el Poble Sec</td>\n",
       "      <td>701266</td>\n",
       "      <td>Litoral (Llobregat)</td>\n",
       "      <td>001380000</td>\n",
       "      <td>Divendres</td>\n",
       "      <td>Dv</td>\n",
       "      <td>...</td>\n",
       "      <td>15</td>\n",
       "      <td>No és causa del  vianant</td>\n",
       "      <td>Taxi</td>\n",
       "      <td>TOLEDO</td>\n",
       "      <td>SEAT</td>\n",
       "      <td>Altres</td>\n",
       "      <td>BTP</td>\n",
       "      <td>16</td>\n",
       "      <td>4578885,90</td>\n",
       "      <td>429949,38</td>\n",
       "    </tr>\n",
       "    <tr>\n",
       "      <th>4</th>\n",
       "      <td>2010S001421</td>\n",
       "      <td>2</td>\n",
       "      <td>Eixample</td>\n",
       "      <td>5</td>\n",
       "      <td>el Fort Pienc</td>\n",
       "      <td>325005</td>\n",
       "      <td>Sicília</td>\n",
       "      <td>0159 0159</td>\n",
       "      <td>Divendres</td>\n",
       "      <td>Dv</td>\n",
       "      <td>...</td>\n",
       "      <td>14</td>\n",
       "      <td>No és causa del  vianant</td>\n",
       "      <td>Furgoneta</td>\n",
       "      <td>TRANSIT</td>\n",
       "      <td>FORD</td>\n",
       "      <td>Blanc</td>\n",
       "      <td>B</td>\n",
       "      <td>5</td>\n",
       "      <td>4583562,68</td>\n",
       "      <td>431291,81</td>\n",
       "    </tr>\n",
       "  </tbody>\n",
       "</table>\n",
       "<p>5 rows × 25 columns</p>\n",
       "</div>"
      ],
      "text/plain": [
       "  Codi_expedient Codi_districte   Nom_districte Codi_barri         Nom_barri  \\\n",
       "0    2010S002961              7  Horta-Guinardó         34          Can Baró   \n",
       "1    2010S003114              8      Nou Barris         53  la Trinitat Nova   \n",
       "2    2010S001244              3  Sants-Montjuïc         11      el Poble Sec   \n",
       "3    2010S001244              3  Sants-Montjuïc         11      el Poble Sec   \n",
       "4    2010S001421              2        Eixample          5     el Fort Pienc   \n",
       "\n",
       "  Codi_carrer            Nom_carrer Num_postal  Descripcio_dia_setmana  \\\n",
       "0      170601  José Millán González   0034 0034              Divendres   \n",
       "1        4409            Aiguablava   0026 0026              Divendres   \n",
       "2      701266   Litoral (Llobregat)   001380000              Divendres   \n",
       "3      701266   Litoral (Llobregat)   001380000              Divendres   \n",
       "4      325005               Sicília   0159 0159              Divendres   \n",
       "\n",
       "  Dia_setmana       ...        Hora_dia         Descripcio_causa_vianant  \\\n",
       "0          Dv       ...              23  Creuar per fora pas de vianants   \n",
       "1          Dv       ...              15         No és causa del  vianant   \n",
       "2          Dv       ...              15         No és causa del  vianant   \n",
       "3          Dv       ...              15         No és causa del  vianant   \n",
       "4          Dv       ...              14         No és causa del  vianant   \n",
       "\n",
       "   Descripcio_tipus_vehicle Descripcio_model  Descripcio_marca  \\\n",
       "0                   Turismo             GOLF        VOLKSWAGEN   \n",
       "1                Ciclomotor               YR            YAMAHA   \n",
       "2                 Furgoneta         BERLINGO           CITROEN   \n",
       "3                      Taxi           TOLEDO              SEAT   \n",
       "4                 Furgoneta          TRANSIT              FORD   \n",
       "\n",
       "   Descripcio_color Descripcio_carnet Antiguitat_carnet Coordenada_UTM_Y  \\\n",
       "0        Desconegut                 B                 3       4585536,52   \n",
       "1             Negre                AM                 1       4589093,65   \n",
       "2             Blanc                 B                 9       4578885,90   \n",
       "3            Altres               BTP                16       4578885,90   \n",
       "4             Blanc                 B                 5       4583562,68   \n",
       "\n",
       "  Coordenada_UTM_X  \n",
       "0        429863,89  \n",
       "1        431789,16  \n",
       "2        429949,38  \n",
       "3        429949,38  \n",
       "4        431291,81  \n",
       "\n",
       "[5 rows x 25 columns]"
      ]
     },
     "execution_count": 137,
     "metadata": {},
     "output_type": "execute_result"
    }
   ],
   "source": [
    "vehicles.head()"
   ]
  },
  {
   "cell_type": "code",
   "execution_count": 139,
   "metadata": {},
   "outputs": [],
   "source": [
    "vehicles.drop(['Dia_setmana', 'Num_postal ', 'Dia_setmana'], axis=1, inplace=True)"
   ]
  },
  {
   "cell_type": "code",
   "execution_count": 141,
   "metadata": {
    "scrolled": true
   },
   "outputs": [
    {
     "data": {
      "text/html": [
       "<div>\n",
       "<style scoped>\n",
       "    .dataframe tbody tr th:only-of-type {\n",
       "        vertical-align: middle;\n",
       "    }\n",
       "\n",
       "    .dataframe tbody tr th {\n",
       "        vertical-align: top;\n",
       "    }\n",
       "\n",
       "    .dataframe thead th {\n",
       "        text-align: right;\n",
       "    }\n",
       "</style>\n",
       "<table border=\"1\" class=\"dataframe\">\n",
       "  <thead>\n",
       "    <tr style=\"text-align: right;\">\n",
       "      <th></th>\n",
       "      <th>Codi_expedient</th>\n",
       "      <th>Codi_districte</th>\n",
       "      <th>Nom_districte</th>\n",
       "      <th>Codi_barri</th>\n",
       "      <th>Nom_barri</th>\n",
       "      <th>Codi_carrer</th>\n",
       "      <th>Nom_carrer</th>\n",
       "      <th>Descripcio_dia_setmana</th>\n",
       "      <th>Descripcio_tipus_dia</th>\n",
       "      <th>NK_Any</th>\n",
       "      <th>...</th>\n",
       "      <th>Hora_dia</th>\n",
       "      <th>Descripcio_causa_vianant</th>\n",
       "      <th>Descripcio_tipus_vehicle</th>\n",
       "      <th>Descripcio_model</th>\n",
       "      <th>Descripcio_marca</th>\n",
       "      <th>Descripcio_color</th>\n",
       "      <th>Descripcio_carnet</th>\n",
       "      <th>Antiguitat_carnet</th>\n",
       "      <th>Coordenada_UTM_Y</th>\n",
       "      <th>Coordenada_UTM_X</th>\n",
       "    </tr>\n",
       "  </thead>\n",
       "  <tbody>\n",
       "    <tr>\n",
       "      <th>0</th>\n",
       "      <td>2010S002961</td>\n",
       "      <td>7</td>\n",
       "      <td>Horta-Guinardó</td>\n",
       "      <td>34</td>\n",
       "      <td>Can Baró</td>\n",
       "      <td>170601</td>\n",
       "      <td>José Millán González</td>\n",
       "      <td>Divendres</td>\n",
       "      <td>Laboral</td>\n",
       "      <td>2010</td>\n",
       "      <td>...</td>\n",
       "      <td>23</td>\n",
       "      <td>Creuar per fora pas de vianants</td>\n",
       "      <td>Turismo</td>\n",
       "      <td>GOLF</td>\n",
       "      <td>VOLKSWAGEN</td>\n",
       "      <td>Desconegut</td>\n",
       "      <td>B</td>\n",
       "      <td>3</td>\n",
       "      <td>4585536,52</td>\n",
       "      <td>429863,89</td>\n",
       "    </tr>\n",
       "    <tr>\n",
       "      <th>1</th>\n",
       "      <td>2010S003114</td>\n",
       "      <td>8</td>\n",
       "      <td>Nou Barris</td>\n",
       "      <td>53</td>\n",
       "      <td>la Trinitat Nova</td>\n",
       "      <td>4409</td>\n",
       "      <td>Aiguablava</td>\n",
       "      <td>Divendres</td>\n",
       "      <td>Laboral</td>\n",
       "      <td>2010</td>\n",
       "      <td>...</td>\n",
       "      <td>15</td>\n",
       "      <td>No és causa del  vianant</td>\n",
       "      <td>Ciclomotor</td>\n",
       "      <td>YR</td>\n",
       "      <td>YAMAHA</td>\n",
       "      <td>Negre</td>\n",
       "      <td>AM</td>\n",
       "      <td>1</td>\n",
       "      <td>4589093,65</td>\n",
       "      <td>431789,16</td>\n",
       "    </tr>\n",
       "    <tr>\n",
       "      <th>2</th>\n",
       "      <td>2010S001244</td>\n",
       "      <td>3</td>\n",
       "      <td>Sants-Montjuïc</td>\n",
       "      <td>11</td>\n",
       "      <td>el Poble Sec</td>\n",
       "      <td>701266</td>\n",
       "      <td>Litoral (Llobregat)</td>\n",
       "      <td>Divendres</td>\n",
       "      <td>Laboral</td>\n",
       "      <td>2010</td>\n",
       "      <td>...</td>\n",
       "      <td>15</td>\n",
       "      <td>No és causa del  vianant</td>\n",
       "      <td>Furgoneta</td>\n",
       "      <td>BERLINGO</td>\n",
       "      <td>CITROEN</td>\n",
       "      <td>Blanc</td>\n",
       "      <td>B</td>\n",
       "      <td>9</td>\n",
       "      <td>4578885,90</td>\n",
       "      <td>429949,38</td>\n",
       "    </tr>\n",
       "    <tr>\n",
       "      <th>3</th>\n",
       "      <td>2010S001244</td>\n",
       "      <td>3</td>\n",
       "      <td>Sants-Montjuïc</td>\n",
       "      <td>11</td>\n",
       "      <td>el Poble Sec</td>\n",
       "      <td>701266</td>\n",
       "      <td>Litoral (Llobregat)</td>\n",
       "      <td>Divendres</td>\n",
       "      <td>Laboral</td>\n",
       "      <td>2010</td>\n",
       "      <td>...</td>\n",
       "      <td>15</td>\n",
       "      <td>No és causa del  vianant</td>\n",
       "      <td>Taxi</td>\n",
       "      <td>TOLEDO</td>\n",
       "      <td>SEAT</td>\n",
       "      <td>Altres</td>\n",
       "      <td>BTP</td>\n",
       "      <td>16</td>\n",
       "      <td>4578885,90</td>\n",
       "      <td>429949,38</td>\n",
       "    </tr>\n",
       "    <tr>\n",
       "      <th>4</th>\n",
       "      <td>2010S001421</td>\n",
       "      <td>2</td>\n",
       "      <td>Eixample</td>\n",
       "      <td>5</td>\n",
       "      <td>el Fort Pienc</td>\n",
       "      <td>325005</td>\n",
       "      <td>Sicília</td>\n",
       "      <td>Divendres</td>\n",
       "      <td>Laboral</td>\n",
       "      <td>2010</td>\n",
       "      <td>...</td>\n",
       "      <td>14</td>\n",
       "      <td>No és causa del  vianant</td>\n",
       "      <td>Furgoneta</td>\n",
       "      <td>TRANSIT</td>\n",
       "      <td>FORD</td>\n",
       "      <td>Blanc</td>\n",
       "      <td>B</td>\n",
       "      <td>5</td>\n",
       "      <td>4583562,68</td>\n",
       "      <td>431291,81</td>\n",
       "    </tr>\n",
       "  </tbody>\n",
       "</table>\n",
       "<p>5 rows × 23 columns</p>\n",
       "</div>"
      ],
      "text/plain": [
       "  Codi_expedient Codi_districte   Nom_districte Codi_barri         Nom_barri  \\\n",
       "0    2010S002961              7  Horta-Guinardó         34          Can Baró   \n",
       "1    2010S003114              8      Nou Barris         53  la Trinitat Nova   \n",
       "2    2010S001244              3  Sants-Montjuïc         11      el Poble Sec   \n",
       "3    2010S001244              3  Sants-Montjuïc         11      el Poble Sec   \n",
       "4    2010S001421              2        Eixample          5     el Fort Pienc   \n",
       "\n",
       "  Codi_carrer            Nom_carrer Descripcio_dia_setmana  \\\n",
       "0      170601  José Millán González              Divendres   \n",
       "1        4409            Aiguablava              Divendres   \n",
       "2      701266   Litoral (Llobregat)              Divendres   \n",
       "3      701266   Litoral (Llobregat)              Divendres   \n",
       "4      325005               Sicília              Divendres   \n",
       "\n",
       "  Descripcio_tipus_dia  NK_Any       ...         Hora_dia  \\\n",
       "0              Laboral    2010       ...               23   \n",
       "1              Laboral    2010       ...               15   \n",
       "2              Laboral    2010       ...               15   \n",
       "3              Laboral    2010       ...               15   \n",
       "4              Laboral    2010       ...               14   \n",
       "\n",
       "          Descripcio_causa_vianant  Descripcio_tipus_vehicle  \\\n",
       "0  Creuar per fora pas de vianants                   Turismo   \n",
       "1         No és causa del  vianant                Ciclomotor   \n",
       "2         No és causa del  vianant                 Furgoneta   \n",
       "3         No és causa del  vianant                      Taxi   \n",
       "4         No és causa del  vianant                 Furgoneta   \n",
       "\n",
       "   Descripcio_model Descripcio_marca Descripcio_color Descripcio_carnet  \\\n",
       "0              GOLF       VOLKSWAGEN       Desconegut                 B   \n",
       "1                YR           YAMAHA            Negre                AM   \n",
       "2          BERLINGO          CITROEN            Blanc                 B   \n",
       "3            TOLEDO             SEAT           Altres               BTP   \n",
       "4           TRANSIT             FORD            Blanc                 B   \n",
       "\n",
       "  Antiguitat_carnet Coordenada_UTM_Y Coordenada_UTM_X  \n",
       "0                 3       4585536,52        429863,89  \n",
       "1                 1       4589093,65        431789,16  \n",
       "2                 9       4578885,90        429949,38  \n",
       "3                16       4578885,90        429949,38  \n",
       "4                 5       4583562,68        431291,81  \n",
       "\n",
       "[5 rows x 23 columns]"
      ]
     },
     "execution_count": 141,
     "metadata": {},
     "output_type": "execute_result"
    }
   ],
   "source": [
    "vehicles.head()"
   ]
  },
  {
   "cell_type": "code",
   "execution_count": 142,
   "metadata": {},
   "outputs": [],
   "source": [
    "vehicles.to_excel('vehicles_db.xlsx')"
   ]
  },
  {
   "cell_type": "code",
   "execution_count": null,
   "metadata": {},
   "outputs": [],
   "source": []
  }
 ],
 "metadata": {
  "kernelspec": {
   "display_name": "Python 3",
   "language": "python",
   "name": "python3"
  },
  "language_info": {
   "codemirror_mode": {
    "name": "ipython",
    "version": 3
   },
   "file_extension": ".py",
   "mimetype": "text/x-python",
   "name": "python",
   "nbconvert_exporter": "python",
   "pygments_lexer": "ipython3",
   "version": "3.7.2"
  }
 },
 "nbformat": 4,
 "nbformat_minor": 2
}
