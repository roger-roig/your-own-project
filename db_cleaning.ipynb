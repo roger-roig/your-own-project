{
 "cells": [
  {
   "cell_type": "code",
   "execution_count": 1,
   "metadata": {},
   "outputs": [],
   "source": [
    "import numpy as np\n",
    "import pandas as pd\n",
    "import matplotlib.pyplot as plt\n",
    "%matplotlib inline\n",
    "import seaborn as sns"
   ]
  },
  {
   "cell_type": "code",
   "execution_count": 37,
   "metadata": {},
   "outputs": [],
   "source": [
    "vehicles_2018 = pd.read_csv('databases/vehicles_involved/csv/2018_accidents_vehicles_gu_bcn_.csv')"
   ]
  },
  {
   "cell_type": "code",
   "execution_count": 81,
   "metadata": {},
   "outputs": [
    {
     "data": {
      "text/plain": [
       "Index(['Codi_expedient', 'Codi_districte', 'Nom_districte', 'Codi_barri',\n",
       "       'Nom_barri', 'Codi_carrer', 'Nom_carrer', 'Num_postal ',\n",
       "       'Descripcio_dia_setmana', 'Dia_setmana', 'Descripcio_tipus_dia',\n",
       "       'NK_Any', 'Mes_any', 'Nom_mes', 'Dia_mes', 'Hora_dia',\n",
       "       'Descripcio_torn', 'Descripcio_causa_vianant',\n",
       "       'Descripcio_tipus_vehicle', 'Descripcio_model', 'Descripcio_marca',\n",
       "       'Descripcio_color', 'Descripcio_carnet', 'Antiguitat_carnet',\n",
       "       'Coordenada_UTM_X', 'Coordenada_UTM_Y', 'Longitud', 'Latitud'],\n",
       "      dtype='object')"
      ]
     },
     "execution_count": 81,
     "metadata": {},
     "output_type": "execute_result"
    }
   ],
   "source": [
    "vehicles_2018.columns"
   ]
  },
  {
   "cell_type": "code",
   "execution_count": 84,
   "metadata": {},
   "outputs": [
    {
     "data": {
      "text/plain": [
       "28"
      ]
     },
     "execution_count": 84,
     "metadata": {},
     "output_type": "execute_result"
    }
   ],
   "source": [
    "len(vehicles_2018.columns)"
   ]
  },
  {
   "cell_type": "code",
   "execution_count": 38,
   "metadata": {},
   "outputs": [],
   "source": [
    "vehicles_2017 = pd.read_excel('databases/vehicles_involved/excel/2017_accidents_vehicles_gu_bcn_.xlsx')"
   ]
  },
  {
   "cell_type": "code",
   "execution_count": 88,
   "metadata": {},
   "outputs": [],
   "source": [
    "vehicles_2017.columns = ['Codi_expedient', 'Codi_districte', 'Nom_districte', 'Codi_barri',\n",
    "       'Nom_barri', 'Codi_carrer', 'Nom_carrer', 'Num_postal ',\n",
    "       'Descripcio_dia_setmana', 'Dia_setmana', 'Descripcio_tipus_dia',\n",
    "       'NK_Any', 'Mes_any', 'Nom_mes', 'Dia_mes', 'Hora_dia',\n",
    "       'Descripcio_causa_vianant', 'Descripcio_tipus_vehicle', \n",
    "       'Descripcio_model', 'Descripcio_marca', 'Descripcio_color', \n",
    "       'Descripcio_carnet', 'Antiguitat_carnet', 'Coordenada_UTM_X', 'Coordenada_UTM_Y', 'Longitud', 'Latitud']"
   ]
  },
  {
   "cell_type": "code",
   "execution_count": 93,
   "metadata": {},
   "outputs": [
    {
     "data": {
      "text/plain": [
       "27"
      ]
     },
     "execution_count": 93,
     "metadata": {},
     "output_type": "execute_result"
    }
   ],
   "source": [
    "len(vehicles_2017.columns)"
   ]
  },
  {
   "cell_type": "code",
   "execution_count": 39,
   "metadata": {},
   "outputs": [],
   "source": [
    "vehicles_2016 = pd.read_excel('databases/vehicles_involved/excel/2016_accidents_vehicles_gu_bcn_.xlsx')"
   ]
  },
  {
   "cell_type": "code",
   "execution_count": 97,
   "metadata": {},
   "outputs": [],
   "source": [
    "vehicles_2016.columns = ['Codi_expedient', 'Codi_districte', 'Nom_districte', 'Codi_barri',\n",
    "       'Nom_barri', 'Codi_carrer', 'Nom_carrer', 'Num_postal ',\n",
    "       'Descripcio_dia_setmana', 'Dia_setmana', 'Descripcio_tipus_dia',\n",
    "       'NK_Any', 'Mes_any', 'Nom_mes', 'Dia_mes', 'Hora_dia',\n",
    "       'Descripcio_causa_vianant', 'Descripcio_tipus_vehicle', \n",
    "       'Descripcio_model', 'Descripcio_marca', 'Descripcio_color', \n",
    "       'Descripcio_carnet', 'Antiguitat_carnet', 'Coordenada_UTM_X', 'Coordenada_UTM_Y', 'Longitud', 'Latitud']"
   ]
  },
  {
   "cell_type": "code",
   "execution_count": 41,
   "metadata": {},
   "outputs": [],
   "source": [
    "vehicles_2015 = pd.read_excel('databases/vehicles_involved/excel/2015_accidents_vehicles_gu_bcn_2015.xlsx')"
   ]
  },
  {
   "cell_type": "code",
   "execution_count": 102,
   "metadata": {},
   "outputs": [],
   "source": [
    "vehicles_2015.columns = ['Codi_expedient', 'Codi_districte', 'Nom_districte', 'Codi_barri',\n",
    "       'Nom_barri', 'Codi_carrer', 'Nom_carrer', 'Num_postal ',\n",
    "       'Descripcio_dia_setmana', 'Dia_setmana', 'Descripcio_tipus_dia',\n",
    "       'NK_Any', 'Mes_any', 'Nom_mes', 'Dia_mes', 'Hora_dia',\n",
    "       'Descripcio_causa_vianant', 'Descripcio_tipus_vehicle', \n",
    "       'Descripcio_model', 'Descripcio_marca', 'Descripcio_color', \n",
    "       'Descripcio_carnet', 'Antiguitat_carnet', 'Coordenada_UTM_Y', 'Coordenada_UTM_X']"
   ]
  },
  {
   "cell_type": "code",
   "execution_count": 103,
   "metadata": {},
   "outputs": [
    {
     "data": {
      "text/plain": [
       "25"
      ]
     },
     "execution_count": 103,
     "metadata": {},
     "output_type": "execute_result"
    }
   ],
   "source": [
    "len(vehicles_2015.columns)"
   ]
  },
  {
   "cell_type": "code",
   "execution_count": 42,
   "metadata": {},
   "outputs": [],
   "source": [
    "vehicles_2014 = pd.read_excel('databases/vehicles_involved/excel/2014_accidents_vehicles_gu_bcn_2014.xlsx')"
   ]
  },
  {
   "cell_type": "code",
   "execution_count": 107,
   "metadata": {},
   "outputs": [],
   "source": [
    "vehicles_2014.columns = ['Codi_expedient', 'Codi_districte', 'Nom_districte', 'Codi_barri',\n",
    "       'Nom_barri', 'Codi_carrer', 'Nom_carrer', 'Num_postal ',\n",
    "       'Descripcio_dia_setmana', 'Dia_setmana', 'Descripcio_tipus_dia',\n",
    "       'NK_Any', 'Mes_any', 'Nom_mes', 'Dia_mes', 'Hora_dia',\n",
    "       'Descripcio_causa_vianant', 'Descripcio_tipus_vehicle', \n",
    "       'Descripcio_model', 'Descripcio_marca', 'Descripcio_color', \n",
    "       'Descripcio_carnet', 'Antiguitat_carnet', 'Coordenada_UTM_Y', 'Coordenada_UTM_X']"
   ]
  },
  {
   "cell_type": "code",
   "execution_count": 109,
   "metadata": {},
   "outputs": [
    {
     "data": {
      "text/plain": [
       "25"
      ]
     },
     "execution_count": 109,
     "metadata": {},
     "output_type": "execute_result"
    }
   ],
   "source": [
    "len(vehicles_2014.columns)"
   ]
  },
  {
   "cell_type": "code",
   "execution_count": 43,
   "metadata": {},
   "outputs": [],
   "source": [
    "vehicles_2013 = pd.read_excel('databases/vehicles_involved/excel/2013_accidents_vehicles_gu_bcn_2013.xlsx')"
   ]
  },
  {
   "cell_type": "code",
   "execution_count": 112,
   "metadata": {},
   "outputs": [],
   "source": [
    "vehicles_2013.columns = ['Codi_expedient', 'Codi_districte', 'Nom_districte', 'Codi_barri',\n",
    "       'Nom_barri', 'Codi_carrer', 'Nom_carrer', 'Num_postal ',\n",
    "       'Descripcio_dia_setmana', 'Dia_setmana', 'Descripcio_tipus_dia',\n",
    "       'NK_Any', 'Mes_any', 'Nom_mes', 'Dia_mes', 'Hora_dia',\n",
    "       'Descripcio_causa_vianant', 'Descripcio_tipus_vehicle', \n",
    "       'Descripcio_model', 'Descripcio_marca', 'Descripcio_color', \n",
    "       'Descripcio_carnet', 'Antiguitat_carnet', 'Coordenada_UTM_Y', 'Coordenada_UTM_X']"
   ]
  },
  {
   "cell_type": "code",
   "execution_count": 44,
   "metadata": {},
   "outputs": [],
   "source": [
    "vehicles_2012 = pd.read_excel('databases/vehicles_involved/excel/2012_accidents_vehicles_gu_bcn_2012.xlsx')"
   ]
  },
  {
   "cell_type": "code",
   "execution_count": 116,
   "metadata": {},
   "outputs": [],
   "source": [
    "vehicles_2012.columns = ['Codi_expedient', 'Codi_districte', 'Nom_districte', 'Codi_barri',\n",
    "       'Nom_barri', 'Codi_carrer', 'Nom_carrer', 'Num_postal ',\n",
    "       'Descripcio_dia_setmana', 'Dia_setmana', 'Descripcio_tipus_dia',\n",
    "       'NK_Any', 'Mes_any', 'Nom_mes', 'Dia_mes', 'Hora_dia',\n",
    "       'Descripcio_causa_vianant', 'Descripcio_tipus_vehicle', \n",
    "       'Descripcio_model', 'Descripcio_marca', 'Descripcio_color', \n",
    "       'Descripcio_carnet', 'Antiguitat_carnet', 'Coordenada_UTM_Y', 'Coordenada_UTM_X']"
   ]
  },
  {
   "cell_type": "code",
   "execution_count": 46,
   "metadata": {},
   "outputs": [],
   "source": [
    "vehicles_2011 = pd.read_excel('databases/vehicles_involved/excel/2011_accidents_vehicles_gu_bcn_2011.xlsx')"
   ]
  },
  {
   "cell_type": "code",
   "execution_count": 119,
   "metadata": {},
   "outputs": [],
   "source": [
    "vehicles_2011.columns = ['Codi_expedient', 'Codi_districte', 'Nom_districte', 'Codi_barri',\n",
    "       'Nom_barri', 'Codi_carrer', 'Nom_carrer', 'Num_postal ',\n",
    "       'Descripcio_dia_setmana', 'Dia_setmana', 'Descripcio_tipus_dia',\n",
    "       'NK_Any', 'Mes_any', 'Nom_mes', 'Dia_mes', 'Hora_dia',\n",
    "       'Descripcio_causa_vianant', 'Descripcio_tipus_vehicle', \n",
    "       'Descripcio_model', 'Descripcio_marca', 'Descripcio_color', \n",
    "       'Descripcio_carnet', 'Antiguitat_carnet', 'Coordenada_UTM_Y', 'Coordenada_UTM_X']"
   ]
  },
  {
   "cell_type": "code",
   "execution_count": 47,
   "metadata": {},
   "outputs": [],
   "source": [
    "vehicles_2010 = pd.read_excel('databases/vehicles_involved/excel/2010_accidents_vehicles_gu_bcn_2010.xlsx')"
   ]
  },
  {
   "cell_type": "code",
   "execution_count": 121,
   "metadata": {},
   "outputs": [],
   "source": [
    "vehicles_2010.columns = ['Codi_expedient', 'Codi_districte', 'Nom_districte', 'Codi_barri',\n",
    "       'Nom_barri', 'Codi_carrer', 'Nom_carrer', 'Num_postal ',\n",
    "       'Descripcio_dia_setmana', 'Dia_setmana', 'Descripcio_tipus_dia',\n",
    "       'NK_Any', 'Mes_any', 'Nom_mes', 'Dia_mes', 'Hora_dia',\n",
    "       'Descripcio_causa_vianant', 'Descripcio_tipus_vehicle', \n",
    "       'Descripcio_model', 'Descripcio_marca', 'Descripcio_color', \n",
    "       'Descripcio_carnet', 'Antiguitat_carnet', 'Coordenada_UTM_Y', 'Coordenada_UTM_X']"
   ]
  },
  {
   "cell_type": "code",
   "execution_count": null,
   "metadata": {},
   "outputs": [],
   "source": [
    "# merge all vehicles_YYYY into one data set"
   ]
  },
  {
   "cell_type": "code",
   "execution_count": 122,
   "metadata": {},
   "outputs": [],
   "source": [
    "vehicles = pd.concat([vehicles_2010, vehicles_2011, vehicles_2012, vehicles_2013, vehicles_2014, vehicles_2015, vehicles_2016, vehicles_2017, vehicles_2018], sort=False, ignore_index=True)"
   ]
  },
  {
   "cell_type": "code",
   "execution_count": 128,
   "metadata": {},
   "outputs": [
    {
     "data": {
      "text/plain": [
       "Index(['Codi_expedient', 'Codi_districte', 'Nom_districte', 'Codi_barri',\n",
       "       'Nom_barri', 'Codi_carrer', 'Nom_carrer', 'Num_postal ',\n",
       "       'Descripcio_dia_setmana', 'Dia_setmana', 'Descripcio_tipus_dia',\n",
       "       'NK_Any', 'Mes_any', 'Nom_mes', 'Dia_mes', 'Hora_dia',\n",
       "       'Descripcio_causa_vianant', 'Descripcio_tipus_vehicle',\n",
       "       'Descripcio_model', 'Descripcio_marca', 'Descripcio_color',\n",
       "       'Descripcio_carnet', 'Antiguitat_carnet', 'Coordenada_UTM_Y',\n",
       "       'Coordenada_UTM_X', 'Longitud', 'Latitud', 'Descripcio_torn'],\n",
       "      dtype='object')"
      ]
     },
     "execution_count": 128,
     "metadata": {},
     "output_type": "execute_result"
    }
   ],
   "source": [
    "vehicles.columns"
   ]
  },
  {
   "cell_type": "code",
   "execution_count": 131,
   "metadata": {},
   "outputs": [],
   "source": [
    "vehicles.drop(['Longitud', 'Latitud', 'Descripcio_torn'], axis=1, inplace=True)"
   ]
  },
  {
   "cell_type": "code",
   "execution_count": 134,
   "metadata": {},
   "outputs": [
    {
     "name": "stdout",
     "output_type": "stream",
     "text": [
      "<class 'pandas.core.frame.DataFrame'>\n",
      "RangeIndex: 166552 entries, 0 to 166551\n",
      "Data columns (total 25 columns):\n",
      "Codi_expedient              166551 non-null object\n",
      "Codi_districte              166552 non-null object\n",
      "Nom_districte               166552 non-null object\n",
      "Codi_barri                  166552 non-null object\n",
      "Nom_barri                   166552 non-null object\n",
      "Codi_carrer                 166552 non-null object\n",
      "Nom_carrer                  166552 non-null object\n",
      "Num_postal                  152576 non-null object\n",
      "Descripcio_dia_setmana      166552 non-null object\n",
      "Dia_setmana                 166552 non-null object\n",
      "Descripcio_tipus_dia        166552 non-null object\n",
      "NK_Any                      166552 non-null int64\n",
      "Mes_any                     166552 non-null int64\n",
      "Nom_mes                     166552 non-null object\n",
      "Dia_mes                     166552 non-null int64\n",
      "Hora_dia                    166552 non-null int64\n",
      "Descripcio_causa_vianant    166552 non-null object\n",
      "Descripcio_tipus_vehicle    166551 non-null object\n",
      "Descripcio_model            166511 non-null object\n",
      "Descripcio_marca            166551 non-null object\n",
      "Descripcio_color            166551 non-null object\n",
      "Descripcio_carnet           166551 non-null object\n",
      "Antiguitat_carnet           166551 non-null object\n",
      "Coordenada_UTM_Y            166545 non-null object\n",
      "Coordenada_UTM_X            166545 non-null object\n",
      "dtypes: int64(4), object(21)\n",
      "memory usage: 31.8+ MB\n"
     ]
    }
   ],
   "source": [
    "vehicles.info()"
   ]
  },
  {
   "cell_type": "code",
   "execution_count": 137,
   "metadata": {},
   "outputs": [
    {
     "data": {
      "text/html": [
       "<div>\n",
       "<style scoped>\n",
       "    .dataframe tbody tr th:only-of-type {\n",
       "        vertical-align: middle;\n",
       "    }\n",
       "\n",
       "    .dataframe tbody tr th {\n",
       "        vertical-align: top;\n",
       "    }\n",
       "\n",
       "    .dataframe thead th {\n",
       "        text-align: right;\n",
       "    }\n",
       "</style>\n",
       "<table border=\"1\" class=\"dataframe\">\n",
       "  <thead>\n",
       "    <tr style=\"text-align: right;\">\n",
       "      <th></th>\n",
       "      <th>Codi_expedient</th>\n",
       "      <th>Codi_districte</th>\n",
       "      <th>Nom_districte</th>\n",
       "      <th>Codi_barri</th>\n",
       "      <th>Nom_barri</th>\n",
       "      <th>Codi_carrer</th>\n",
       "      <th>Nom_carrer</th>\n",
       "      <th>Num_postal</th>\n",
       "      <th>Descripcio_dia_setmana</th>\n",
       "      <th>Dia_setmana</th>\n",
       "      <th>...</th>\n",
       "      <th>Hora_dia</th>\n",
       "      <th>Descripcio_causa_vianant</th>\n",
       "      <th>Descripcio_tipus_vehicle</th>\n",
       "      <th>Descripcio_model</th>\n",
       "      <th>Descripcio_marca</th>\n",
       "      <th>Descripcio_color</th>\n",
       "      <th>Descripcio_carnet</th>\n",
       "      <th>Antiguitat_carnet</th>\n",
       "      <th>Coordenada_UTM_Y</th>\n",
       "      <th>Coordenada_UTM_X</th>\n",
       "    </tr>\n",
       "  </thead>\n",
       "  <tbody>\n",
       "    <tr>\n",
       "      <th>0</th>\n",
       "      <td>2010S002961</td>\n",
       "      <td>7</td>\n",
       "      <td>Horta-Guinardó</td>\n",
       "      <td>34</td>\n",
       "      <td>Can Baró</td>\n",
       "      <td>170601</td>\n",
       "      <td>José Millán González</td>\n",
       "      <td>0034 0034</td>\n",
       "      <td>Divendres</td>\n",
       "      <td>Dv</td>\n",
       "      <td>...</td>\n",
       "      <td>23</td>\n",
       "      <td>Creuar per fora pas de vianants</td>\n",
       "      <td>Turismo</td>\n",
       "      <td>GOLF</td>\n",
       "      <td>VOLKSWAGEN</td>\n",
       "      <td>Desconegut</td>\n",
       "      <td>B</td>\n",
       "      <td>3</td>\n",
       "      <td>4585536,52</td>\n",
       "      <td>429863,89</td>\n",
       "    </tr>\n",
       "    <tr>\n",
       "      <th>1</th>\n",
       "      <td>2010S003114</td>\n",
       "      <td>8</td>\n",
       "      <td>Nou Barris</td>\n",
       "      <td>53</td>\n",
       "      <td>la Trinitat Nova</td>\n",
       "      <td>4409</td>\n",
       "      <td>Aiguablava</td>\n",
       "      <td>0026 0026</td>\n",
       "      <td>Divendres</td>\n",
       "      <td>Dv</td>\n",
       "      <td>...</td>\n",
       "      <td>15</td>\n",
       "      <td>No és causa del  vianant</td>\n",
       "      <td>Ciclomotor</td>\n",
       "      <td>YR</td>\n",
       "      <td>YAMAHA</td>\n",
       "      <td>Negre</td>\n",
       "      <td>AM</td>\n",
       "      <td>1</td>\n",
       "      <td>4589093,65</td>\n",
       "      <td>431789,16</td>\n",
       "    </tr>\n",
       "    <tr>\n",
       "      <th>2</th>\n",
       "      <td>2010S001244</td>\n",
       "      <td>3</td>\n",
       "      <td>Sants-Montjuïc</td>\n",
       "      <td>11</td>\n",
       "      <td>el Poble Sec</td>\n",
       "      <td>701266</td>\n",
       "      <td>Litoral (Llobregat)</td>\n",
       "      <td>001380000</td>\n",
       "      <td>Divendres</td>\n",
       "      <td>Dv</td>\n",
       "      <td>...</td>\n",
       "      <td>15</td>\n",
       "      <td>No és causa del  vianant</td>\n",
       "      <td>Furgoneta</td>\n",
       "      <td>BERLINGO</td>\n",
       "      <td>CITROEN</td>\n",
       "      <td>Blanc</td>\n",
       "      <td>B</td>\n",
       "      <td>9</td>\n",
       "      <td>4578885,90</td>\n",
       "      <td>429949,38</td>\n",
       "    </tr>\n",
       "    <tr>\n",
       "      <th>3</th>\n",
       "      <td>2010S001244</td>\n",
       "      <td>3</td>\n",
       "      <td>Sants-Montjuïc</td>\n",
       "      <td>11</td>\n",
       "      <td>el Poble Sec</td>\n",
       "      <td>701266</td>\n",
       "      <td>Litoral (Llobregat)</td>\n",
       "      <td>001380000</td>\n",
       "      <td>Divendres</td>\n",
       "      <td>Dv</td>\n",
       "      <td>...</td>\n",
       "      <td>15</td>\n",
       "      <td>No és causa del  vianant</td>\n",
       "      <td>Taxi</td>\n",
       "      <td>TOLEDO</td>\n",
       "      <td>SEAT</td>\n",
       "      <td>Altres</td>\n",
       "      <td>BTP</td>\n",
       "      <td>16</td>\n",
       "      <td>4578885,90</td>\n",
       "      <td>429949,38</td>\n",
       "    </tr>\n",
       "    <tr>\n",
       "      <th>4</th>\n",
       "      <td>2010S001421</td>\n",
       "      <td>2</td>\n",
       "      <td>Eixample</td>\n",
       "      <td>5</td>\n",
       "      <td>el Fort Pienc</td>\n",
       "      <td>325005</td>\n",
       "      <td>Sicília</td>\n",
       "      <td>0159 0159</td>\n",
       "      <td>Divendres</td>\n",
       "      <td>Dv</td>\n",
       "      <td>...</td>\n",
       "      <td>14</td>\n",
       "      <td>No és causa del  vianant</td>\n",
       "      <td>Furgoneta</td>\n",
       "      <td>TRANSIT</td>\n",
       "      <td>FORD</td>\n",
       "      <td>Blanc</td>\n",
       "      <td>B</td>\n",
       "      <td>5</td>\n",
       "      <td>4583562,68</td>\n",
       "      <td>431291,81</td>\n",
       "    </tr>\n",
       "  </tbody>\n",
       "</table>\n",
       "<p>5 rows × 25 columns</p>\n",
       "</div>"
      ],
      "text/plain": [
       "  Codi_expedient Codi_districte   Nom_districte Codi_barri         Nom_barri  \\\n",
       "0    2010S002961              7  Horta-Guinardó         34          Can Baró   \n",
       "1    2010S003114              8      Nou Barris         53  la Trinitat Nova   \n",
       "2    2010S001244              3  Sants-Montjuïc         11      el Poble Sec   \n",
       "3    2010S001244              3  Sants-Montjuïc         11      el Poble Sec   \n",
       "4    2010S001421              2        Eixample          5     el Fort Pienc   \n",
       "\n",
       "  Codi_carrer            Nom_carrer Num_postal  Descripcio_dia_setmana  \\\n",
       "0      170601  José Millán González   0034 0034              Divendres   \n",
       "1        4409            Aiguablava   0026 0026              Divendres   \n",
       "2      701266   Litoral (Llobregat)   001380000              Divendres   \n",
       "3      701266   Litoral (Llobregat)   001380000              Divendres   \n",
       "4      325005               Sicília   0159 0159              Divendres   \n",
       "\n",
       "  Dia_setmana       ...        Hora_dia         Descripcio_causa_vianant  \\\n",
       "0          Dv       ...              23  Creuar per fora pas de vianants   \n",
       "1          Dv       ...              15         No és causa del  vianant   \n",
       "2          Dv       ...              15         No és causa del  vianant   \n",
       "3          Dv       ...              15         No és causa del  vianant   \n",
       "4          Dv       ...              14         No és causa del  vianant   \n",
       "\n",
       "   Descripcio_tipus_vehicle Descripcio_model  Descripcio_marca  \\\n",
       "0                   Turismo             GOLF        VOLKSWAGEN   \n",
       "1                Ciclomotor               YR            YAMAHA   \n",
       "2                 Furgoneta         BERLINGO           CITROEN   \n",
       "3                      Taxi           TOLEDO              SEAT   \n",
       "4                 Furgoneta          TRANSIT              FORD   \n",
       "\n",
       "   Descripcio_color Descripcio_carnet Antiguitat_carnet Coordenada_UTM_Y  \\\n",
       "0        Desconegut                 B                 3       4585536,52   \n",
       "1             Negre                AM                 1       4589093,65   \n",
       "2             Blanc                 B                 9       4578885,90   \n",
       "3            Altres               BTP                16       4578885,90   \n",
       "4             Blanc                 B                 5       4583562,68   \n",
       "\n",
       "  Coordenada_UTM_X  \n",
       "0        429863,89  \n",
       "1        431789,16  \n",
       "2        429949,38  \n",
       "3        429949,38  \n",
       "4        431291,81  \n",
       "\n",
       "[5 rows x 25 columns]"
      ]
     },
     "execution_count": 137,
     "metadata": {},
     "output_type": "execute_result"
    }
   ],
   "source": [
    "vehicles.head()"
   ]
  },
  {
   "cell_type": "code",
   "execution_count": 139,
   "metadata": {},
   "outputs": [],
   "source": [
    "vehicles.drop(['Dia_setmana', 'Num_postal ', 'Dia_setmana'], axis=1, inplace=True)"
   ]
  },
  {
   "cell_type": "code",
   "execution_count": 145,
   "metadata": {
    "scrolled": true
   },
   "outputs": [
    {
     "data": {
      "text/html": [
       "<div>\n",
       "<style scoped>\n",
       "    .dataframe tbody tr th:only-of-type {\n",
       "        vertical-align: middle;\n",
       "    }\n",
       "\n",
       "    .dataframe tbody tr th {\n",
       "        vertical-align: top;\n",
       "    }\n",
       "\n",
       "    .dataframe thead th {\n",
       "        text-align: right;\n",
       "    }\n",
       "</style>\n",
       "<table border=\"1\" class=\"dataframe\">\n",
       "  <thead>\n",
       "    <tr style=\"text-align: right;\">\n",
       "      <th></th>\n",
       "      <th>Codi_expedient</th>\n",
       "      <th>Codi_districte</th>\n",
       "      <th>Nom_districte</th>\n",
       "      <th>Codi_barri</th>\n",
       "      <th>Nom_barri</th>\n",
       "      <th>Codi_carrer</th>\n",
       "      <th>Nom_carrer</th>\n",
       "      <th>Descripcio_dia_setmana</th>\n",
       "      <th>Descripcio_tipus_dia</th>\n",
       "      <th>NK_Any</th>\n",
       "      <th>...</th>\n",
       "      <th>Hora_dia</th>\n",
       "      <th>Descripcio_causa_vianant</th>\n",
       "      <th>Descripcio_tipus_vehicle</th>\n",
       "      <th>Descripcio_model</th>\n",
       "      <th>Descripcio_marca</th>\n",
       "      <th>Descripcio_color</th>\n",
       "      <th>Descripcio_carnet</th>\n",
       "      <th>Antiguitat_carnet</th>\n",
       "      <th>Coordenada_UTM_Y</th>\n",
       "      <th>Coordenada_UTM_X</th>\n",
       "    </tr>\n",
       "  </thead>\n",
       "  <tbody>\n",
       "    <tr>\n",
       "      <th>166547</th>\n",
       "      <td>2018S006251</td>\n",
       "      <td>10</td>\n",
       "      <td>Sant Martí</td>\n",
       "      <td>73</td>\n",
       "      <td>la Verneda i la Pau</td>\n",
       "      <td>150852</td>\n",
       "      <td>Fernando de los Ríos                          ...</td>\n",
       "      <td>Dilluns</td>\n",
       "      <td>Laboral</td>\n",
       "      <td>2018</td>\n",
       "      <td>...</td>\n",
       "      <td>23</td>\n",
       "      <td>No és causa del  vianant</td>\n",
       "      <td>Turisme</td>\n",
       "      <td>VECTRA</td>\n",
       "      <td>OPEL</td>\n",
       "      <td>Platejat</td>\n",
       "      <td>Desconegut</td>\n",
       "      <td>Desconegut</td>\n",
       "      <td>4.58631e+06</td>\n",
       "      <td>433930</td>\n",
       "    </tr>\n",
       "    <tr>\n",
       "      <th>166548</th>\n",
       "      <td>2018S006492</td>\n",
       "      <td>10</td>\n",
       "      <td>Sant Martí</td>\n",
       "      <td>73</td>\n",
       "      <td>la Verneda i la Pau</td>\n",
       "      <td>153205</td>\n",
       "      <td>Guipúscoa                                     ...</td>\n",
       "      <td>Diumenge</td>\n",
       "      <td>Laboral</td>\n",
       "      <td>2018</td>\n",
       "      <td>...</td>\n",
       "      <td>23</td>\n",
       "      <td>No és causa del  vianant</td>\n",
       "      <td>Turisme</td>\n",
       "      <td>307</td>\n",
       "      <td>PEUGEOT</td>\n",
       "      <td>Gris</td>\n",
       "      <td>B</td>\n",
       "      <td>1</td>\n",
       "      <td>4.58598e+06</td>\n",
       "      <td>433522</td>\n",
       "    </tr>\n",
       "    <tr>\n",
       "      <th>166549</th>\n",
       "      <td>2018S006492</td>\n",
       "      <td>10</td>\n",
       "      <td>Sant Martí</td>\n",
       "      <td>73</td>\n",
       "      <td>la Verneda i la Pau</td>\n",
       "      <td>153205</td>\n",
       "      <td>Guipúscoa                                     ...</td>\n",
       "      <td>Diumenge</td>\n",
       "      <td>Laboral</td>\n",
       "      <td>2018</td>\n",
       "      <td>...</td>\n",
       "      <td>23</td>\n",
       "      <td>No és causa del  vianant</td>\n",
       "      <td>Turisme</td>\n",
       "      <td>C4</td>\n",
       "      <td>CITROEN</td>\n",
       "      <td>Negre</td>\n",
       "      <td>B</td>\n",
       "      <td>24</td>\n",
       "      <td>4.58598e+06</td>\n",
       "      <td>433522</td>\n",
       "    </tr>\n",
       "    <tr>\n",
       "      <th>166550</th>\n",
       "      <td>2018S006492</td>\n",
       "      <td>10</td>\n",
       "      <td>Sant Martí</td>\n",
       "      <td>73</td>\n",
       "      <td>la Verneda i la Pau</td>\n",
       "      <td>153205</td>\n",
       "      <td>Guipúscoa                                     ...</td>\n",
       "      <td>Diumenge</td>\n",
       "      <td>Laboral</td>\n",
       "      <td>2018</td>\n",
       "      <td>...</td>\n",
       "      <td>23</td>\n",
       "      <td>No és causa del  vianant</td>\n",
       "      <td>Turisme</td>\n",
       "      <td>MINI COOPER</td>\n",
       "      <td>MINI</td>\n",
       "      <td>Desconegut</td>\n",
       "      <td>Desconegut</td>\n",
       "      <td>Desconegut</td>\n",
       "      <td>4.58598e+06</td>\n",
       "      <td>433522</td>\n",
       "    </tr>\n",
       "    <tr>\n",
       "      <th>166551</th>\n",
       "      <td>2018S009754</td>\n",
       "      <td>10</td>\n",
       "      <td>Sant Martí</td>\n",
       "      <td>73</td>\n",
       "      <td>la Verneda i la Pau</td>\n",
       "      <td>153205</td>\n",
       "      <td>Guipúscoa / Maresme                           ...</td>\n",
       "      <td>Dijous</td>\n",
       "      <td>Laboral</td>\n",
       "      <td>2018</td>\n",
       "      <td>...</td>\n",
       "      <td>23</td>\n",
       "      <td>No és causa del  vianant</td>\n",
       "      <td>Turisme</td>\n",
       "      <td>A4</td>\n",
       "      <td>AUDI</td>\n",
       "      <td>Vermell</td>\n",
       "      <td>B</td>\n",
       "      <td>29</td>\n",
       "      <td>4.58602e+06</td>\n",
       "      <td>433562</td>\n",
       "    </tr>\n",
       "  </tbody>\n",
       "</table>\n",
       "<p>5 rows × 23 columns</p>\n",
       "</div>"
      ],
      "text/plain": [
       "         Codi_expedient Codi_districte Nom_districte Codi_barri  \\\n",
       "166547  2018S006251                 10    Sant Martí         73   \n",
       "166548  2018S006492                 10    Sant Martí         73   \n",
       "166549  2018S006492                 10    Sant Martí         73   \n",
       "166550  2018S006492                 10    Sant Martí         73   \n",
       "166551  2018S009754                 10    Sant Martí         73   \n",
       "\n",
       "                  Nom_barri Codi_carrer  \\\n",
       "166547  la Verneda i la Pau      150852   \n",
       "166548  la Verneda i la Pau      153205   \n",
       "166549  la Verneda i la Pau      153205   \n",
       "166550  la Verneda i la Pau      153205   \n",
       "166551  la Verneda i la Pau      153205   \n",
       "\n",
       "                                               Nom_carrer  \\\n",
       "166547  Fernando de los Ríos                          ...   \n",
       "166548  Guipúscoa                                     ...   \n",
       "166549  Guipúscoa                                     ...   \n",
       "166550  Guipúscoa                                     ...   \n",
       "166551  Guipúscoa / Maresme                           ...   \n",
       "\n",
       "       Descripcio_dia_setmana Descripcio_tipus_dia  NK_Any       ...         \\\n",
       "166547                Dilluns              Laboral    2018       ...          \n",
       "166548               Diumenge              Laboral    2018       ...          \n",
       "166549               Diumenge              Laboral    2018       ...          \n",
       "166550               Diumenge              Laboral    2018       ...          \n",
       "166551                 Dijous              Laboral    2018       ...          \n",
       "\n",
       "        Hora_dia  Descripcio_causa_vianant  Descripcio_tipus_vehicle  \\\n",
       "166547        23  No és causa del  vianant                   Turisme   \n",
       "166548        23  No és causa del  vianant                   Turisme   \n",
       "166549        23  No és causa del  vianant                   Turisme   \n",
       "166550        23  No és causa del  vianant                   Turisme   \n",
       "166551        23  No és causa del  vianant                   Turisme   \n",
       "\n",
       "        Descripcio_model Descripcio_marca Descripcio_color Descripcio_carnet  \\\n",
       "166547            VECTRA             OPEL         Platejat        Desconegut   \n",
       "166548               307          PEUGEOT             Gris                 B   \n",
       "166549                C4          CITROEN            Negre                 B   \n",
       "166550       MINI COOPER             MINI       Desconegut        Desconegut   \n",
       "166551                A4             AUDI          Vermell                 B   \n",
       "\n",
       "       Antiguitat_carnet Coordenada_UTM_Y Coordenada_UTM_X  \n",
       "166547        Desconegut      4.58631e+06           433930  \n",
       "166548                 1      4.58598e+06           433522  \n",
       "166549                24      4.58598e+06           433522  \n",
       "166550        Desconegut      4.58598e+06           433522  \n",
       "166551                29      4.58602e+06           433562  \n",
       "\n",
       "[5 rows x 23 columns]"
      ]
     },
     "execution_count": 145,
     "metadata": {},
     "output_type": "execute_result"
    }
   ],
   "source": [
    "vehicles.tail()"
   ]
  },
  {
   "cell_type": "code",
   "execution_count": 142,
   "metadata": {},
   "outputs": [],
   "source": [
    "vehicles.to_excel('vehicles_db.xlsx')"
   ]
  },
  {
   "cell_type": "code",
   "execution_count": 143,
   "metadata": {},
   "outputs": [],
   "source": [
    "people_2018 = pd.read_csv('databases/people_involved/2018_accidents_persones_gu_bcn_.csv')"
   ]
  },
  {
   "cell_type": "code",
   "execution_count": 146,
   "metadata": {},
   "outputs": [
    {
     "data": {
      "text/plain": [
       "Index(['Numero_expedient', 'Codi_districte', 'Nom_districte', 'Codi_barri',\n",
       "       'Nom_barri', 'Codi_carrer', 'Nom_carrer', 'Num_postal ',\n",
       "       'Descripcio_dia_setmana', 'Dia_setmana', 'Descripcio_tipus_dia',\n",
       "       'NK_ Any', 'Mes_ any', 'Nom_mes', 'Dia_mes', 'Descripcio_torn',\n",
       "       'Hora_dia', 'Descripcio_causa_vianant', 'Desc_Tipus_vehicle_implicat',\n",
       "       'Descripcio_sexe', 'Edat', 'Descripcio_tipus_persona',\n",
       "       'Descripcio_situacio', 'Descripcio_victimitzacio', 'Coordenada_UTM_X',\n",
       "       'Coordenada_UTM_Y', 'Longitud', 'Latitud'],\n",
       "      dtype='object')"
      ]
     },
     "execution_count": 146,
     "metadata": {},
     "output_type": "execute_result"
    }
   ],
   "source": [
    "people_2018.columns"
   ]
  },
  {
   "cell_type": "code",
   "execution_count": 198,
   "metadata": {},
   "outputs": [],
   "source": [
    "people_2018.columns = ['Numero_expedient', 'Codi_districte', 'Nom_districte', 'Codi_barri',\n",
    "       'Nom_barri', 'Codi_carrer', 'Nom_carrer', 'Num_postal',\n",
    "       'Descripcio_dia_setmana', 'Dia_setmana', 'Descripcio_tipus_dia',\n",
    "       'NK_Any', 'Mes_any', 'Nom_mes', 'Dia_mes', 'Descripcio_torn',\n",
    "       'Hora_dia', 'Descripcio_causa_vianant', 'Desc_Tipus_vehicle_implicat',\n",
    "       'Descripcio_sexe', 'Edat', 'Descripcio_tipus_persona',\n",
    "       'Descripcio_situacio', 'Descripcio_victimitzacio', 'Coordenada_UTM_X',\n",
    "       'Coordenada_UTM_Y', 'Longitud', 'Latitud']"
   ]
  },
  {
   "cell_type": "code",
   "execution_count": 163,
   "metadata": {},
   "outputs": [
    {
     "data": {
      "text/plain": [
       "28"
      ]
     },
     "execution_count": 163,
     "metadata": {},
     "output_type": "execute_result"
    }
   ],
   "source": [
    "len(people_2018.columns)"
   ]
  },
  {
   "cell_type": "code",
   "execution_count": 147,
   "metadata": {},
   "outputs": [],
   "source": [
    "people_2017 = pd.read_excel('databases/people_involved/2017_accidents_persones_gu_bcn_.xlsx')"
   ]
  },
  {
   "cell_type": "code",
   "execution_count": 199,
   "metadata": {},
   "outputs": [],
   "source": [
    "people_2017.columns = ['Numero_expedient', 'Codi_districte', 'Nom_districte', 'Codi_barri',\n",
    "       'Nom_barri', 'Codi_carrer', 'Nom_carrer', 'Num_postal',\n",
    "       'Descripcio_dia_setmana', 'Dia_setmana', 'Descripcio_tipus_dia',\n",
    "       'NK_Any', 'Mes_any', 'Nom_mes', 'Dia_mes', 'Descripcio_torn',\n",
    "       'Hora_dia', 'Descripcio_causa_vianant', 'Desc_Tipus_vehicle_implicat',\n",
    "       'Descripcio_sexe', 'Edat', 'Descripcio_tipus_persona',\n",
    "       'Descripcio_situacio', 'Descripcio_victimitzacio', 'Coordenada_UTM_X',\n",
    "       'Coordenada_UTM_Y', 'Longitud', 'Latitud']"
   ]
  },
  {
   "cell_type": "code",
   "execution_count": 153,
   "metadata": {},
   "outputs": [],
   "source": [
    "people_2016 = pd.read_excel('databases/people_involved/2016_accidents_persones_gu_bcn_.xlsx')"
   ]
  },
  {
   "cell_type": "code",
   "execution_count": 200,
   "metadata": {},
   "outputs": [],
   "source": [
    "people_2016.columns = ['Numero_expedient', 'Codi_districte', 'Nom_districte', 'Codi_barri',\n",
    "       'Nom_barri', 'Codi_carrer', 'Nom_carrer', 'Num_postal',\n",
    "       'Descripcio_dia_setmana', 'Dia_setmana', 'Descripcio_tipus_dia',\n",
    "       'NK_Any', 'Mes_any', 'Nom_mes', 'Dia_mes', 'Descripcio_torn',\n",
    "       'Hora_dia', 'Descripcio_causa_vianant', 'Desc_Tipus_vehicle_implicat',\n",
    "       'Descripcio_sexe', 'Edat', 'Descripcio_tipus_persona',\n",
    "       'Descripcio_situacio', 'Descripcio_victimitzacio', 'Coordenada_UTM_X',\n",
    "       'Coordenada_UTM_Y', 'Longitud', 'Latitud']"
   ]
  },
  {
   "cell_type": "code",
   "execution_count": 169,
   "metadata": {},
   "outputs": [],
   "source": [
    "people_2015 = pd.read_excel('databases/people_involved/2015_ACCIDENTS_PERSONES_GU_BCN_2015.xlsx')"
   ]
  },
  {
   "cell_type": "code",
   "execution_count": 201,
   "metadata": {},
   "outputs": [],
   "source": [
    "people_2015.columns = ['Numero_expedient', 'Codi_districte', 'Nom_districte', 'Codi_barri',\n",
    "       'Nom_barri', 'Codi_carrer', 'Nom_carrer', 'Num_postal',\n",
    "       'Descripcio_dia_setmana', 'Dia_setmana', 'Descripcio_tipus_dia',\n",
    "       'NK_Any', 'Mes_any', 'Nom_mes', 'Dia_mes', 'Hora_dia', \n",
    "       'Descripcio_causa_vianant', 'Desc_Tipus_vehicle_implicat',\n",
    "       'Descripcio_sexe', 'Descripcio_tipus_persona', 'Edat',\n",
    "       'Descripcio_victimitzacio', 'Coordenada_UTM_Y', 'Coordenada_UTM_X']"
   ]
  },
  {
   "cell_type": "code",
   "execution_count": 172,
   "metadata": {},
   "outputs": [],
   "source": [
    "people_2014 = pd.read_excel('databases/people_involved/2014_ACCIDENTS_PERSONES_GU_BCN_2014.xlsx')"
   ]
  },
  {
   "cell_type": "code",
   "execution_count": 173,
   "metadata": {},
   "outputs": [
    {
     "data": {
      "text/plain": [
       "Index(['Número d'expedient', 'Codi districte', 'Nom districte', 'Codi barri',\n",
       "       'Nom barri', 'Codi carrer', 'Nom carrer', 'Num postal caption',\n",
       "       'Descripció dia setmana', 'Dia setmana', 'Descripció tipus dia',\n",
       "       'NK Any', 'Mes de any', 'Nom mes', 'Dia de mes', 'Hora de dia',\n",
       "       'Descripció causa vianant', 'Desc. Tipus vehicle implicat',\n",
       "       'Descripció sexe', 'Descripció tipus persona', 'Edat',\n",
       "       'Descripció victimització', 'Coordenada UTM (Y)', 'Coordenada UTM (X)'],\n",
       "      dtype='object')"
      ]
     },
     "execution_count": 173,
     "metadata": {},
     "output_type": "execute_result"
    }
   ],
   "source": [
    "people_2014.columns"
   ]
  },
  {
   "cell_type": "code",
   "execution_count": 202,
   "metadata": {},
   "outputs": [],
   "source": [
    "people_2014.columns = ['Numero_expedient', 'Codi_districte', 'Nom_districte', 'Codi_barri',\n",
    "       'Nom_barri', 'Codi_carrer', 'Nom_carrer', 'Num_postal',\n",
    "       'Descripcio_dia_setmana', 'Dia_setmana', 'Descripcio_tipus_dia',\n",
    "       'NK_Any', 'Mes_any', 'Nom_mes', 'Dia_mes', 'Hora_dia', \n",
    "       'Descripcio_causa_vianant', 'Desc_Tipus_vehicle_implicat',\n",
    "       'Descripcio_sexe', 'Descripcio_tipus_persona', 'Edat',\n",
    "       'Descripcio_victimitzacio', 'Coordenada_UTM_Y', 'Coordenada_UTM_X']"
   ]
  },
  {
   "cell_type": "code",
   "execution_count": 175,
   "metadata": {},
   "outputs": [],
   "source": [
    "people_2013 = pd.read_excel('databases/people_involved/2013_ACCIDENTS_PERSONES_GU_BCN_2013.xlsx')"
   ]
  },
  {
   "cell_type": "code",
   "execution_count": 203,
   "metadata": {},
   "outputs": [],
   "source": [
    "people_2013.columns = ['Numero_expedient', 'Codi_districte', 'Nom_districte', 'Codi_barri',\n",
    "       'Nom_barri', 'Codi_carrer', 'Nom_carrer', 'Num_postal',\n",
    "       'Descripcio_dia_setmana', 'Dia_setmana', 'Descripcio_tipus_dia',\n",
    "       'NK_Any', 'Mes_any', 'Nom_mes', 'Dia_mes', 'Descripcio_torn', 'Hora_dia', \n",
    "       'Descripcio_causa_vianant', 'Desc_Tipus_vehicle_implicat',\n",
    "       'Descripcio_sexe', 'Descripcio_tipus_persona', 'Edat',\n",
    "       'Descripcio_victimitzacio', 'Coordenada_UTM_Y', 'Coordenada_UTM_X']"
   ]
  },
  {
   "cell_type": "code",
   "execution_count": 180,
   "metadata": {},
   "outputs": [],
   "source": [
    "people_2012 = pd.read_excel('databases/people_involved/2012_ACCIDENTS_PERSONES_GU_BCN_2012.xlsx')"
   ]
  },
  {
   "cell_type": "code",
   "execution_count": 204,
   "metadata": {},
   "outputs": [],
   "source": [
    "people_2012.columns = ['Numero_expedient', 'Codi_districte', 'Nom_districte', 'Codi_barri',\n",
    "       'Nom_barri', 'Codi_carrer', 'Nom_carrer', 'Num_postal',\n",
    "       'Descripcio_dia_setmana', 'Dia_setmana', 'Descripcio_tipus_dia',\n",
    "       'NK_Any', 'Mes_any', 'Nom_mes', 'Dia_mes', 'Descripcio_torn', 'Hora_dia', \n",
    "       'Descripcio_causa_vianant', 'Desc_Tipus_vehicle_implicat',\n",
    "       'Descripcio_sexe', 'Descripcio_tipus_persona', 'Edat',\n",
    "       'Descripcio_victimitzacio', 'Coordenada_UTM_Y', 'Coordenada_UTM_X']"
   ]
  },
  {
   "cell_type": "code",
   "execution_count": 185,
   "metadata": {},
   "outputs": [],
   "source": [
    "people_2011 = pd.read_excel('databases/people_involved/2011_ACCIDENTS_PERSONES_GU_BCN_2011.xlsx')"
   ]
  },
  {
   "cell_type": "code",
   "execution_count": 205,
   "metadata": {},
   "outputs": [],
   "source": [
    "people_2011.columns = ['Numero_expedient', 'Codi_districte', 'Nom_districte', 'Codi_barri',\n",
    "       'Nom_barri', 'Codi_carrer', 'Nom_carrer', 'Num_postal',\n",
    "       'Descripcio_dia_setmana', 'Dia_setmana', 'Descripcio_tipus_dia',\n",
    "       'NK_Any', 'Mes_any', 'Nom_mes', 'Dia_mes', 'Descripcio_torn', 'Hora_dia', \n",
    "       'Descripcio_causa_vianant', 'Desc_Tipus_vehicle_implicat',\n",
    "       'Descripcio_sexe', 'Descripcio_tipus_persona', 'Edat',\n",
    "       'Descripcio_victimitzacio', 'Coordenada_UTM_Y', 'Coordenada_UTM_X']"
   ]
  },
  {
   "cell_type": "code",
   "execution_count": 190,
   "metadata": {},
   "outputs": [],
   "source": [
    "people_2010 = pd.read_excel('databases/people_involved/2010_ACCIDENTS_PERSONES_GU_BCN_2010.xlsx')"
   ]
  },
  {
   "cell_type": "code",
   "execution_count": 206,
   "metadata": {},
   "outputs": [],
   "source": [
    "people_2010.columns = ['Numero_expedient', 'Codi_districte', 'Nom_districte', 'Codi_barri',\n",
    "       'Nom_barri', 'Codi_carrer', 'Nom_carrer', 'Num_postal',\n",
    "       'Descripcio_dia_setmana', 'Dia_setmana', 'Descripcio_tipus_dia',\n",
    "       'NK_Any', 'Mes_any', 'Nom_mes', 'Dia_mes', 'Descripcio_torn', 'Hora_dia', \n",
    "       'Descripcio_causa_vianant', 'Desc_Tipus_vehicle_implicat',\n",
    "       'Descripcio_sexe', 'Descripcio_tipus_persona', 'Edat',\n",
    "       'Descripcio_victimitzacio', 'Coordenada_UTM_Y', 'Coordenada_UTM_X']"
   ]
  },
  {
   "cell_type": "code",
   "execution_count": 207,
   "metadata": {},
   "outputs": [],
   "source": [
    "people = pd.concat([people_2010,people_2011,people_2012,people_2013,people_2014,people_2015,people_2016,people_2017,people_2018],sort=False, ignore_index=True)"
   ]
  },
  {
   "cell_type": "code",
   "execution_count": 211,
   "metadata": {},
   "outputs": [
    {
     "data": {
      "text/plain": [
       "Index(['Numero_expedient', 'Codi_districte', 'Nom_districte', 'Codi_barri',\n",
       "       'Nom_barri', 'Codi_carrer', 'Nom_carrer', 'Num_postal',\n",
       "       'Descripcio_dia_setmana', 'Dia_setmana', 'Descripcio_tipus_dia',\n",
       "       'NK_Any', 'Mes_any', 'Nom_mes', 'Dia_mes', 'Descripcio_torn',\n",
       "       'Hora_dia', 'Descripcio_causa_vianant', 'Desc_Tipus_vehicle_implicat',\n",
       "       'Descripcio_sexe', 'Descripcio_tipus_persona', 'Edat',\n",
       "       'Descripcio_victimitzacio', 'Coordenada_UTM_Y', 'Coordenada_UTM_X',\n",
       "       'Descripcio_situacio', 'Longitud', 'Latitud'],\n",
       "      dtype='object')"
      ]
     },
     "execution_count": 211,
     "metadata": {},
     "output_type": "execute_result"
    }
   ],
   "source": [
    "people.columns"
   ]
  },
  {
   "cell_type": "code",
   "execution_count": 216,
   "metadata": {
    "scrolled": true
   },
   "outputs": [
    {
     "data": {
      "text/html": [
       "<div>\n",
       "<style scoped>\n",
       "    .dataframe tbody tr th:only-of-type {\n",
       "        vertical-align: middle;\n",
       "    }\n",
       "\n",
       "    .dataframe tbody tr th {\n",
       "        vertical-align: top;\n",
       "    }\n",
       "\n",
       "    .dataframe thead th {\n",
       "        text-align: right;\n",
       "    }\n",
       "</style>\n",
       "<table border=\"1\" class=\"dataframe\">\n",
       "  <thead>\n",
       "    <tr style=\"text-align: right;\">\n",
       "      <th></th>\n",
       "      <th>Numero_expedient</th>\n",
       "      <th>Codi_districte</th>\n",
       "      <th>Nom_districte</th>\n",
       "      <th>Codi_barri</th>\n",
       "      <th>Nom_barri</th>\n",
       "      <th>Codi_carrer</th>\n",
       "      <th>Nom_carrer</th>\n",
       "      <th>Num_postal</th>\n",
       "      <th>Descripcio_dia_setmana</th>\n",
       "      <th>Dia_setmana</th>\n",
       "      <th>...</th>\n",
       "      <th>Desc_Tipus_vehicle_implicat</th>\n",
       "      <th>Descripcio_sexe</th>\n",
       "      <th>Descripcio_tipus_persona</th>\n",
       "      <th>Edat</th>\n",
       "      <th>Descripcio_victimitzacio</th>\n",
       "      <th>Coordenada_UTM_Y</th>\n",
       "      <th>Coordenada_UTM_X</th>\n",
       "      <th>Descripcio_situacio</th>\n",
       "      <th>Longitud</th>\n",
       "      <th>Latitud</th>\n",
       "    </tr>\n",
       "  </thead>\n",
       "  <tbody>\n",
       "    <tr>\n",
       "      <th>0</th>\n",
       "      <td>2010S000001</td>\n",
       "      <td>2</td>\n",
       "      <td>Eixample</td>\n",
       "      <td>7</td>\n",
       "      <td>la Dreta de l'Eixample</td>\n",
       "      <td>335100</td>\n",
       "      <td>Tetuan</td>\n",
       "      <td>0030 0030</td>\n",
       "      <td>Divendres</td>\n",
       "      <td>Dv</td>\n",
       "      <td>...</td>\n",
       "      <td>Motocicleta</td>\n",
       "      <td>Home</td>\n",
       "      <td>Conductor</td>\n",
       "      <td>30</td>\n",
       "      <td>Ferit lleu</td>\n",
       "      <td>4583198,28</td>\n",
       "      <td>431179,27</td>\n",
       "      <td>NaN</td>\n",
       "      <td>NaN</td>\n",
       "      <td>NaN</td>\n",
       "    </tr>\n",
       "    <tr>\n",
       "      <th>1</th>\n",
       "      <td>2010S000001</td>\n",
       "      <td>2</td>\n",
       "      <td>Eixample</td>\n",
       "      <td>7</td>\n",
       "      <td>la Dreta de l'Eixample</td>\n",
       "      <td>335100</td>\n",
       "      <td>Tetuan</td>\n",
       "      <td>0030 0030</td>\n",
       "      <td>Divendres</td>\n",
       "      <td>Dv</td>\n",
       "      <td>...</td>\n",
       "      <td>Motocicleta</td>\n",
       "      <td>Home</td>\n",
       "      <td>Conductor</td>\n",
       "      <td>39</td>\n",
       "      <td>Ferit lleu</td>\n",
       "      <td>4583198,28</td>\n",
       "      <td>431179,27</td>\n",
       "      <td>NaN</td>\n",
       "      <td>NaN</td>\n",
       "      <td>NaN</td>\n",
       "    </tr>\n",
       "    <tr>\n",
       "      <th>2</th>\n",
       "      <td>2010S000002</td>\n",
       "      <td>2</td>\n",
       "      <td>Eixample</td>\n",
       "      <td>5</td>\n",
       "      <td>el Fort Pienc</td>\n",
       "      <td>76807</td>\n",
       "      <td>Sardenya</td>\n",
       "      <td>0242 0242</td>\n",
       "      <td>Divendres</td>\n",
       "      <td>Dv</td>\n",
       "      <td>...</td>\n",
       "      <td>Ciclomotor</td>\n",
       "      <td>Home</td>\n",
       "      <td>Conductor</td>\n",
       "      <td>39</td>\n",
       "      <td>Ferit lleu</td>\n",
       "      <td>4583631,60</td>\n",
       "      <td>431444,51</td>\n",
       "      <td>NaN</td>\n",
       "      <td>NaN</td>\n",
       "      <td>NaN</td>\n",
       "    </tr>\n",
       "    <tr>\n",
       "      <th>3</th>\n",
       "      <td>2010S000005</td>\n",
       "      <td>9</td>\n",
       "      <td>Sant Andreu</td>\n",
       "      <td>61</td>\n",
       "      <td>la Sagrera</td>\n",
       "      <td>209900</td>\n",
       "      <td>Meridiana</td>\n",
       "      <td>0315 0315</td>\n",
       "      <td>Divendres</td>\n",
       "      <td>Dv</td>\n",
       "      <td>...</td>\n",
       "      <td>Motocicleta</td>\n",
       "      <td>Home</td>\n",
       "      <td>Conductor</td>\n",
       "      <td>34</td>\n",
       "      <td>Ferit lleu</td>\n",
       "      <td>4586479,84</td>\n",
       "      <td>432062,05</td>\n",
       "      <td>NaN</td>\n",
       "      <td>NaN</td>\n",
       "      <td>NaN</td>\n",
       "    </tr>\n",
       "    <tr>\n",
       "      <th>4</th>\n",
       "      <td>2010S000006</td>\n",
       "      <td>10</td>\n",
       "      <td>Sant Martí</td>\n",
       "      <td>67</td>\n",
       "      <td>la Vila Olímpica del Poblenou</td>\n",
       "      <td>62609</td>\n",
       "      <td>Icària</td>\n",
       "      <td>0135 0135</td>\n",
       "      <td>Divendres</td>\n",
       "      <td>Dv</td>\n",
       "      <td>...</td>\n",
       "      <td>Turismo</td>\n",
       "      <td>Dona</td>\n",
       "      <td>Conductor</td>\n",
       "      <td>32</td>\n",
       "      <td>Ferit lleu</td>\n",
       "      <td>4582584,02</td>\n",
       "      <td>432826,97</td>\n",
       "      <td>NaN</td>\n",
       "      <td>NaN</td>\n",
       "      <td>NaN</td>\n",
       "    </tr>\n",
       "  </tbody>\n",
       "</table>\n",
       "<p>5 rows × 28 columns</p>\n",
       "</div>"
      ],
      "text/plain": [
       "  Numero_expedient Codi_districte Nom_districte Codi_barri  \\\n",
       "0  2010S000001                  2      Eixample          7   \n",
       "1  2010S000001                  2      Eixample          7   \n",
       "2  2010S000002                  2      Eixample          5   \n",
       "3  2010S000005                  9   Sant Andreu         61   \n",
       "4  2010S000006                 10    Sant Martí         67   \n",
       "\n",
       "                       Nom_barri Codi_carrer Nom_carrer Num_postal  \\\n",
       "0         la Dreta de l'Eixample      335100     Tetuan  0030 0030   \n",
       "1         la Dreta de l'Eixample      335100     Tetuan  0030 0030   \n",
       "2                  el Fort Pienc       76807   Sardenya  0242 0242   \n",
       "3                     la Sagrera      209900  Meridiana  0315 0315   \n",
       "4  la Vila Olímpica del Poblenou       62609     Icària  0135 0135   \n",
       "\n",
       "  Descripcio_dia_setmana Dia_setmana   ...   Desc_Tipus_vehicle_implicat  \\\n",
       "0              Divendres          Dv   ...                   Motocicleta   \n",
       "1              Divendres          Dv   ...                   Motocicleta   \n",
       "2              Divendres          Dv   ...                    Ciclomotor   \n",
       "3              Divendres          Dv   ...                   Motocicleta   \n",
       "4              Divendres          Dv   ...                       Turismo   \n",
       "\n",
       "   Descripcio_sexe  Descripcio_tipus_persona Edat  Descripcio_victimitzacio  \\\n",
       "0             Home                 Conductor   30                Ferit lleu   \n",
       "1             Home                 Conductor   39                Ferit lleu   \n",
       "2             Home                 Conductor   39                Ferit lleu   \n",
       "3             Home                 Conductor   34                Ferit lleu   \n",
       "4             Dona                 Conductor   32                Ferit lleu   \n",
       "\n",
       "  Coordenada_UTM_Y  Coordenada_UTM_X Descripcio_situacio Longitud Latitud  \n",
       "0       4583198,28         431179,27                 NaN      NaN     NaN  \n",
       "1       4583198,28         431179,27                 NaN      NaN     NaN  \n",
       "2       4583631,60         431444,51                 NaN      NaN     NaN  \n",
       "3       4586479,84         432062,05                 NaN      NaN     NaN  \n",
       "4       4582584,02         432826,97                 NaN      NaN     NaN  \n",
       "\n",
       "[5 rows x 28 columns]"
      ]
     },
     "execution_count": 216,
     "metadata": {},
     "output_type": "execute_result"
    }
   ],
   "source": [
    "people.head()"
   ]
  },
  {
   "cell_type": "code",
   "execution_count": 213,
   "metadata": {},
   "outputs": [
    {
     "data": {
      "text/plain": [
       "Numero_expedient                   0\n",
       "Codi_districte                     1\n",
       "Nom_districte                      1\n",
       "Codi_barri                         1\n",
       "Nom_barri                          1\n",
       "Codi_carrer                        1\n",
       "Nom_carrer                        12\n",
       "Num_postal                      7277\n",
       "Descripcio_dia_setmana             0\n",
       "Dia_setmana                        1\n",
       "Descripcio_tipus_dia               1\n",
       "NK_Any                             1\n",
       "Mes_any                            1\n",
       "Nom_mes                            1\n",
       "Dia_mes                            1\n",
       "Descripcio_torn                23167\n",
       "Hora_dia                           1\n",
       "Descripcio_causa_vianant           0\n",
       "Desc_Tipus_vehicle_implicat        1\n",
       "Descripcio_sexe                    1\n",
       "Descripcio_tipus_persona           1\n",
       "Edat                               1\n",
       "Descripcio_victimitzacio           1\n",
       "Coordenada_UTM_Y                  18\n",
       "Coordenada_UTM_X                  18\n",
       "Descripcio_situacio            66709\n",
       "Longitud                       66709\n",
       "Latitud                        66709\n",
       "dtype: int64"
      ]
     },
     "execution_count": 213,
     "metadata": {},
     "output_type": "execute_result"
    }
   ],
   "source": [
    "people.isna().sum()"
   ]
  },
  {
   "cell_type": "code",
   "execution_count": 219,
   "metadata": {},
   "outputs": [],
   "source": [
    "people.drop(['Num_postal','Descripcio_torn','Descripcio_situacio','Longitud','Latitud'],axis=1,inplace=True)"
   ]
  },
  {
   "cell_type": "code",
   "execution_count": 220,
   "metadata": {},
   "outputs": [
    {
     "name": "stdout",
     "output_type": "stream",
     "text": [
      "<class 'pandas.core.frame.DataFrame'>\n",
      "RangeIndex: 102783 entries, 0 to 102782\n",
      "Data columns (total 23 columns):\n",
      "Numero_expedient               102783 non-null object\n",
      "Codi_districte                 102782 non-null object\n",
      "Nom_districte                  102782 non-null object\n",
      "Codi_barri                     102782 non-null object\n",
      "Nom_barri                      102782 non-null object\n",
      "Codi_carrer                    102782 non-null object\n",
      "Nom_carrer                     102771 non-null object\n",
      "Descripcio_dia_setmana         102783 non-null object\n",
      "Dia_setmana                    102782 non-null object\n",
      "Descripcio_tipus_dia           102782 non-null object\n",
      "NK_Any                         102782 non-null float64\n",
      "Mes_any                        102782 non-null float64\n",
      "Nom_mes                        102782 non-null object\n",
      "Dia_mes                        102782 non-null float64\n",
      "Hora_dia                       102782 non-null float64\n",
      "Descripcio_causa_vianant       102783 non-null object\n",
      "Desc_Tipus_vehicle_implicat    102782 non-null object\n",
      "Descripcio_sexe                102782 non-null object\n",
      "Descripcio_tipus_persona       102782 non-null object\n",
      "Edat                           102782 non-null object\n",
      "Descripcio_victimitzacio       102782 non-null object\n",
      "Coordenada_UTM_Y               102765 non-null object\n",
      "Coordenada_UTM_X               102765 non-null object\n",
      "dtypes: float64(4), object(19)\n",
      "memory usage: 18.0+ MB\n"
     ]
    }
   ],
   "source": [
    "people.info()"
   ]
  },
  {
   "cell_type": "code",
   "execution_count": 221,
   "metadata": {},
   "outputs": [],
   "source": [
    "people.to_excel('people_db.xlsx')"
   ]
  },
  {
   "cell_type": "code",
   "execution_count": 222,
   "metadata": {},
   "outputs": [],
   "source": [
    "cause_2018 = pd.read_csv('databases/accident_cause/2018_accidents_causes_gu_bcn_.csv')"
   ]
  },
  {
   "cell_type": "code",
   "execution_count": 231,
   "metadata": {},
   "outputs": [],
   "source": [
    "cause_2018.columns = ['Numero_expedient', 'Codi_districte', 'Nom_districte', 'Codi_barri',\n",
    "       'Nom_barri', 'Codi_carrer', 'Nom_carrer', 'Num_postal',\n",
    "       'Descripcio_dia_setmana', 'Dia_setmana', 'Descripcio_tipus_dia',\n",
    "       'NK_Any', 'Mes_any', 'Nom_mes', 'Dia_mes', 'Hora_dia',\n",
    "       'Descripcio_torn', 'Descripcio_causa_mediata', 'Coordenada_UTM_X',\n",
    "       'Coordenada_UTM_Y', 'Longitud', 'Latitud']"
   ]
  },
  {
   "cell_type": "code",
   "execution_count": 225,
   "metadata": {},
   "outputs": [],
   "source": [
    "cause_2017 = pd.read_excel('databases/accident_cause/2017_accidents_causes_gu_bcn_.xlsx')"
   ]
  },
  {
   "cell_type": "code",
   "execution_count": 230,
   "metadata": {},
   "outputs": [],
   "source": [
    "cause_2017.columns = ['Numero_expedient', 'Codi_districte', 'Nom_districte', 'Codi_barri',\n",
    "       'Nom_barri', 'Codi_carrer', 'Nom_carrer', 'Carrer_Original',\n",
    "       'Num_postal', 'Descripcio_dia_setmana', 'Dia_setmana', \n",
    "       'Descripcio_tipus_dia', 'NK_Any', 'Mes_any', 'Nom_mes', 'Dia_mes', \n",
    "       'Hora_dia', 'Descripcio_torn', 'Descripcio_causa_mediata', \n",
    "       'Coordenada_UTM_X', 'Coordenada_UTM_Y', 'Longitud', 'Latitud']"
   ]
  },
  {
   "cell_type": "code",
   "execution_count": 236,
   "metadata": {},
   "outputs": [],
   "source": [
    "cause_2016 = pd.read_excel('databases/accident_cause/2016_accidents_causes_gu_bcn_.xlsx')"
   ]
  },
  {
   "cell_type": "code",
   "execution_count": 238,
   "metadata": {},
   "outputs": [],
   "source": [
    "cause_2016.columns = ['Numero_expedient', 'Codi_districte', 'Nom_districte', 'Codi_barri',\n",
    "       'Nom_barri', 'Codi_carrer', 'Nom_carrer', 'Num_postal',\n",
    "       'Descripcio_dia_setmana', 'Dia_setmana', 'Descripcio_tipus_dia',\n",
    "       'NK_Any', 'Mes_any', 'Nom_mes', 'Dia_mes', 'Hora_dia', \n",
    "       'Descripcio_torn', 'Descripcio_causa_mediata', 'Coordenada_UTM_X', \n",
    "       'Coordenada_UTM_Y', 'Longitud', 'Latitud']"
   ]
  },
  {
   "cell_type": "code",
   "execution_count": 233,
   "metadata": {},
   "outputs": [],
   "source": [
    "cause_2015 = pd.read_excel('databases/accident_cause/2015_ACCIDENTS_CAUSES_GU_BCN_2015.xlsx')"
   ]
  },
  {
   "cell_type": "code",
   "execution_count": 235,
   "metadata": {},
   "outputs": [],
   "source": [
    "cause_2015.columns = ['Numero_expedient', 'Codi_districte', 'Nom_districte', 'Codi_barri',\n",
    "       'Nom_barri', 'Codi_carrer', 'Nom_carrer', 'Num_postal',\n",
    "       'Descripcio_dia_setmana', 'Dia_setmana', 'Descripcio_tipus_dia',\n",
    "       'NK_Any', 'Mes_any', 'Nom_mes', 'Dia_mes', 'Hora_dia', \n",
    "       'Descripcio_torn', 'Descripcio_causa_mediata', 'Coordenada_UTM_Y', \n",
    "       'Coordenada_UTM_X']"
   ]
  },
  {
   "cell_type": "code",
   "execution_count": 239,
   "metadata": {},
   "outputs": [],
   "source": [
    "cause_2014 = pd.read_excel('databases/accident_cause/2014_ACCIDENTS_CAUSES_GU_BCN_2014.xlsx')"
   ]
  },
  {
   "cell_type": "code",
   "execution_count": 241,
   "metadata": {},
   "outputs": [],
   "source": [
    "cause_2014.columns = ['Numero_expedient', 'Codi_districte', 'Nom_districte', 'Codi_barri',\n",
    "       'Nom_barri', 'Codi_carrer', 'Nom_carrer', 'Num_postal',\n",
    "       'Descripcio_dia_setmana', 'Dia_setmana', 'Descripcio_tipus_dia',\n",
    "       'NK_Any', 'Mes_any', 'Nom_mes', 'Dia_mes', 'Hora_dia', \n",
    "       'Descripcio_torn', 'Descripcio_causa_mediata', 'Coordenada_UTM_Y', \n",
    "       'Coordenada_UTM_X']"
   ]
  },
  {
   "cell_type": "code",
   "execution_count": 242,
   "metadata": {},
   "outputs": [],
   "source": [
    "cause_2013 = pd.read_excel('databases/accident_cause/2013_ACCIDENTS_CAUSES_GU_BCN_2013.xlsx')"
   ]
  },
  {
   "cell_type": "code",
   "execution_count": 244,
   "metadata": {},
   "outputs": [],
   "source": [
    "cause_2013.columns = ['Numero_expedient', 'Codi_districte', 'Nom_districte', 'Codi_barri',\n",
    "       'Nom_barri', 'Codi_carrer', 'Nom_carrer', 'Num_postal',\n",
    "       'Descripcio_dia_setmana', 'Dia_setmana', 'Descripcio_tipus_dia',\n",
    "       'NK_Any', 'Mes_any', 'Nom_mes', 'Dia_mes', 'Hora_dia', \n",
    "       'Descripcio_torn', 'Descripcio_causa_mediata', 'Coordenada_UTM_Y', \n",
    "       'Coordenada_UTM_X']"
   ]
  },
  {
   "cell_type": "code",
   "execution_count": 245,
   "metadata": {},
   "outputs": [],
   "source": [
    "cause_2012 = pd.read_excel('databases/accident_cause/2012_ACCIDENTS_CAUSES_GU_BCN_2012.xlsx')"
   ]
  },
  {
   "cell_type": "code",
   "execution_count": 247,
   "metadata": {},
   "outputs": [],
   "source": [
    "cause_2012.columns = ['Numero_expedient', 'Codi_districte', 'Nom_districte', 'Codi_barri',\n",
    "       'Nom_barri', 'Codi_carrer', 'Nom_carrer', 'Num_postal',\n",
    "       'Descripcio_dia_setmana', 'Dia_setmana', 'Descripcio_tipus_dia',\n",
    "       'NK_Any', 'Mes_any', 'Nom_mes', 'Dia_mes', 'Hora_dia', \n",
    "       'Descripcio_torn', 'Descripcio_causa_mediata', 'Coordenada_UTM_Y', \n",
    "       'Coordenada_UTM_X']"
   ]
  },
  {
   "cell_type": "code",
   "execution_count": 248,
   "metadata": {},
   "outputs": [],
   "source": [
    "cause_2011 = pd.read_excel('databases/accident_cause/2011_ACCIDENTS_CAUSES_GU_BCN_2011.xlsx')"
   ]
  },
  {
   "cell_type": "code",
   "execution_count": 250,
   "metadata": {},
   "outputs": [],
   "source": [
    "cause_2011.columns = ['Numero_expedient', 'Codi_districte', 'Nom_districte', 'Codi_barri',\n",
    "       'Nom_barri', 'Codi_carrer', 'Nom_carrer', 'Num_postal',\n",
    "       'Descripcio_dia_setmana', 'Dia_setmana', 'Descripcio_tipus_dia',\n",
    "       'NK_Any', 'Mes_any', 'Nom_mes', 'Dia_mes', 'Hora_dia', \n",
    "       'Descripcio_torn', 'Descripcio_causa_mediata', 'Coordenada_UTM_Y', \n",
    "       'Coordenada_UTM_X']"
   ]
  },
  {
   "cell_type": "code",
   "execution_count": 251,
   "metadata": {},
   "outputs": [],
   "source": [
    "cause_2010 = pd.read_excel('databases/accident_cause/2010_ACCIDENTS_CAUSES_GU_BCN_2010.xlsx')"
   ]
  },
  {
   "cell_type": "code",
   "execution_count": 254,
   "metadata": {},
   "outputs": [],
   "source": [
    "cause_2010.columns = ['Numero_expedient', 'Codi_districte', 'Nom_districte', 'Codi_barri',\n",
    "       'Nom_barri', 'Codi_carrer', 'Nom_carrer', 'Num_postal',\n",
    "       'Descripcio_dia_setmana', 'Dia_setmana', 'Descripcio_tipus_dia',\n",
    "       'NK_Any', 'Mes_any', 'Nom_mes', 'Dia_mes', 'Hora_dia', \n",
    "       'Descripcio_torn', 'Descripcio_causa_mediata', 'Coordenada_UTM_Y', \n",
    "       'Coordenada_UTM_X']"
   ]
  },
  {
   "cell_type": "code",
   "execution_count": 255,
   "metadata": {},
   "outputs": [],
   "source": [
    "cause = pd.concat([cause_2010,cause_2011,cause_2012,cause_2013,cause_2014,cause_2015,cause_2016,cause_2017,cause_2018],sort=False, ignore_index=True)"
   ]
  },
  {
   "cell_type": "code",
   "execution_count": 257,
   "metadata": {},
   "outputs": [
    {
     "data": {
      "text/html": [
       "<div>\n",
       "<style scoped>\n",
       "    .dataframe tbody tr th:only-of-type {\n",
       "        vertical-align: middle;\n",
       "    }\n",
       "\n",
       "    .dataframe tbody tr th {\n",
       "        vertical-align: top;\n",
       "    }\n",
       "\n",
       "    .dataframe thead th {\n",
       "        text-align: right;\n",
       "    }\n",
       "</style>\n",
       "<table border=\"1\" class=\"dataframe\">\n",
       "  <thead>\n",
       "    <tr style=\"text-align: right;\">\n",
       "      <th></th>\n",
       "      <th>Numero_expedient</th>\n",
       "      <th>Codi_districte</th>\n",
       "      <th>Nom_districte</th>\n",
       "      <th>Codi_barri</th>\n",
       "      <th>Nom_barri</th>\n",
       "      <th>Codi_carrer</th>\n",
       "      <th>Nom_carrer</th>\n",
       "      <th>Num_postal</th>\n",
       "      <th>Descripcio_dia_setmana</th>\n",
       "      <th>Dia_setmana</th>\n",
       "      <th>...</th>\n",
       "      <th>Nom_mes</th>\n",
       "      <th>Dia_mes</th>\n",
       "      <th>Hora_dia</th>\n",
       "      <th>Descripcio_torn</th>\n",
       "      <th>Descripcio_causa_mediata</th>\n",
       "      <th>Coordenada_UTM_Y</th>\n",
       "      <th>Coordenada_UTM_X</th>\n",
       "      <th>Longitud</th>\n",
       "      <th>Latitud</th>\n",
       "      <th>Carrer_Original</th>\n",
       "    </tr>\n",
       "  </thead>\n",
       "  <tbody>\n",
       "    <tr>\n",
       "      <th>0</th>\n",
       "      <td>2010S006971</td>\n",
       "      <td>10</td>\n",
       "      <td>Sant Mart¡</td>\n",
       "      <td>64</td>\n",
       "      <td>el Camp de l'Arpa del Clot</td>\n",
       "      <td>346402</td>\n",
       "      <td>Trinxant</td>\n",
       "      <td>0090 0090</td>\n",
       "      <td>Dijous</td>\n",
       "      <td>Dj</td>\n",
       "      <td>...</td>\n",
       "      <td>Octubre</td>\n",
       "      <td>14</td>\n",
       "      <td>20</td>\n",
       "      <td>Tarda</td>\n",
       "      <td>No hi ha causa mediata</td>\n",
       "      <td>4.5854e+06</td>\n",
       "      <td>431941</td>\n",
       "      <td>NaN</td>\n",
       "      <td>NaN</td>\n",
       "      <td>NaN</td>\n",
       "    </tr>\n",
       "    <tr>\n",
       "      <th>1</th>\n",
       "      <td>2010S000574</td>\n",
       "      <td>10</td>\n",
       "      <td>Sant Mart¡</td>\n",
       "      <td>64</td>\n",
       "      <td>el Camp de l'Arpa del Clot</td>\n",
       "      <td>161407</td>\n",
       "      <td>Ind£stria</td>\n",
       "      <td>0253 0253</td>\n",
       "      <td>Dilluns</td>\n",
       "      <td>Dl</td>\n",
       "      <td>...</td>\n",
       "      <td>Gener</td>\n",
       "      <td>25</td>\n",
       "      <td>7</td>\n",
       "      <td>Mat¡</td>\n",
       "      <td>No hi ha causa mediata</td>\n",
       "      <td>4.58516e+06</td>\n",
       "      <td>431472</td>\n",
       "      <td>NaN</td>\n",
       "      <td>NaN</td>\n",
       "      <td>NaN</td>\n",
       "    </tr>\n",
       "    <tr>\n",
       "      <th>2</th>\n",
       "      <td>2010S004580</td>\n",
       "      <td>10</td>\n",
       "      <td>Sant Mart¡</td>\n",
       "      <td>64</td>\n",
       "      <td>el Camp de l'Arpa del Clot</td>\n",
       "      <td>161407</td>\n",
       "      <td>Ind£stria</td>\n",
       "      <td>0223 0225</td>\n",
       "      <td>Dijous</td>\n",
       "      <td>Dj</td>\n",
       "      <td>...</td>\n",
       "      <td>Juliol</td>\n",
       "      <td>1</td>\n",
       "      <td>20</td>\n",
       "      <td>Tarda</td>\n",
       "      <td>No hi ha causa mediata</td>\n",
       "      <td>4.58503e+06</td>\n",
       "      <td>431348</td>\n",
       "      <td>NaN</td>\n",
       "      <td>NaN</td>\n",
       "      <td>NaN</td>\n",
       "    </tr>\n",
       "    <tr>\n",
       "      <th>3</th>\n",
       "      <td>2010S002999</td>\n",
       "      <td>10</td>\n",
       "      <td>Sant Mart¡</td>\n",
       "      <td>64</td>\n",
       "      <td>el Camp de l'Arpa del Clot</td>\n",
       "      <td>297001</td>\n",
       "      <td>Sant Antoni Maria Claret</td>\n",
       "      <td>0270 0270</td>\n",
       "      <td>Dilluns</td>\n",
       "      <td>Dl</td>\n",
       "      <td>...</td>\n",
       "      <td>Maig</td>\n",
       "      <td>3</td>\n",
       "      <td>7</td>\n",
       "      <td>Mat¡</td>\n",
       "      <td>No hi ha causa mediata</td>\n",
       "      <td>4.5851e+06</td>\n",
       "      <td>431274</td>\n",
       "      <td>NaN</td>\n",
       "      <td>NaN</td>\n",
       "      <td>NaN</td>\n",
       "    </tr>\n",
       "    <tr>\n",
       "      <th>4</th>\n",
       "      <td>2010S007227</td>\n",
       "      <td>10</td>\n",
       "      <td>Sant Mart¡</td>\n",
       "      <td>64</td>\n",
       "      <td>el Camp de l'Arpa del Clot</td>\n",
       "      <td>134801</td>\n",
       "      <td>Freser</td>\n",
       "      <td>0007 0007</td>\n",
       "      <td>Dilluns</td>\n",
       "      <td>Dl</td>\n",
       "      <td>...</td>\n",
       "      <td>Octubre</td>\n",
       "      <td>25</td>\n",
       "      <td>9</td>\n",
       "      <td>Mat¡</td>\n",
       "      <td>No hi ha causa mediata</td>\n",
       "      <td>4.5848e+06</td>\n",
       "      <td>431492</td>\n",
       "      <td>NaN</td>\n",
       "      <td>NaN</td>\n",
       "      <td>NaN</td>\n",
       "    </tr>\n",
       "  </tbody>\n",
       "</table>\n",
       "<p>5 rows × 23 columns</p>\n",
       "</div>"
      ],
      "text/plain": [
       "  Numero_expedient Codi_districte Nom_districte Codi_barri  \\\n",
       "0      2010S006971             10    Sant Mart¡         64   \n",
       "1      2010S000574             10    Sant Mart¡         64   \n",
       "2      2010S004580             10    Sant Mart¡         64   \n",
       "3      2010S002999             10    Sant Mart¡         64   \n",
       "4      2010S007227             10    Sant Mart¡         64   \n",
       "\n",
       "                    Nom_barri Codi_carrer                Nom_carrer  \\\n",
       "0  el Camp de l'Arpa del Clot      346402                  Trinxant   \n",
       "1  el Camp de l'Arpa del Clot      161407                 Ind£stria   \n",
       "2  el Camp de l'Arpa del Clot      161407                 Ind£stria   \n",
       "3  el Camp de l'Arpa del Clot      297001  Sant Antoni Maria Claret   \n",
       "4  el Camp de l'Arpa del Clot      134801                    Freser   \n",
       "\n",
       "  Num_postal Descripcio_dia_setmana Dia_setmana       ...        Nom_mes  \\\n",
       "0  0090 0090                 Dijous          Dj       ...        Octubre   \n",
       "1  0253 0253                Dilluns          Dl       ...          Gener   \n",
       "2  0223 0225                 Dijous          Dj       ...         Juliol   \n",
       "3  0270 0270                Dilluns          Dl       ...           Maig   \n",
       "4  0007 0007                Dilluns          Dl       ...        Octubre   \n",
       "\n",
       "   Dia_mes  Hora_dia Descripcio_torn  Descripcio_causa_mediata  \\\n",
       "0       14        20           Tarda    No hi ha causa mediata   \n",
       "1       25         7            Mat¡    No hi ha causa mediata   \n",
       "2        1        20           Tarda    No hi ha causa mediata   \n",
       "3        3         7            Mat¡    No hi ha causa mediata   \n",
       "4       25         9            Mat¡    No hi ha causa mediata   \n",
       "\n",
       "   Coordenada_UTM_Y Coordenada_UTM_X Longitud Latitud Carrer_Original  \n",
       "0        4.5854e+06           431941      NaN     NaN             NaN  \n",
       "1       4.58516e+06           431472      NaN     NaN             NaN  \n",
       "2       4.58503e+06           431348      NaN     NaN             NaN  \n",
       "3        4.5851e+06           431274      NaN     NaN             NaN  \n",
       "4        4.5848e+06           431492      NaN     NaN             NaN  \n",
       "\n",
       "[5 rows x 23 columns]"
      ]
     },
     "execution_count": 257,
     "metadata": {},
     "output_type": "execute_result"
    }
   ],
   "source": [
    "cause.head()"
   ]
  },
  {
   "cell_type": "code",
   "execution_count": 263,
   "metadata": {},
   "outputs": [
    {
     "name": "stdout",
     "output_type": "stream",
     "text": [
      "<class 'pandas.core.frame.DataFrame'>\n",
      "RangeIndex: 86832 entries, 0 to 86831\n",
      "Data columns (total 23 columns):\n",
      "Numero_expedient            86832 non-null object\n",
      "Codi_districte              86832 non-null object\n",
      "Nom_districte               86832 non-null object\n",
      "Codi_barri                  86832 non-null object\n",
      "Nom_barri                   86832 non-null object\n",
      "Codi_carrer                 86832 non-null object\n",
      "Nom_carrer                  86832 non-null object\n",
      "Num_postal                  82034 non-null object\n",
      "Descripcio_dia_setmana      86832 non-null object\n",
      "Dia_setmana                 86832 non-null object\n",
      "Descripcio_tipus_dia        86832 non-null object\n",
      "NK_Any                      86832 non-null int64\n",
      "Mes_any                     86832 non-null int64\n",
      "Nom_mes                     86832 non-null object\n",
      "Dia_mes                     86832 non-null int64\n",
      "Hora_dia                    86832 non-null int64\n",
      "Descripcio_torn             86832 non-null object\n",
      "Descripcio_causa_mediata    86832 non-null object\n",
      "Coordenada_UTM_Y            86832 non-null object\n",
      "Coordenada_UTM_X            86832 non-null object\n",
      "Longitud                    30426 non-null float64\n",
      "Latitud                     30426 non-null float64\n",
      "Carrer_Original             10343 non-null object\n",
      "dtypes: float64(2), int64(4), object(17)\n",
      "memory usage: 15.2+ MB\n"
     ]
    }
   ],
   "source": [
    "cause.info()"
   ]
  },
  {
   "cell_type": "code",
   "execution_count": 264,
   "metadata": {},
   "outputs": [],
   "source": [
    "cause.drop(['Longitud','Latitud','Carrer_Original','Num_postal'],axis=1, inplace=True)"
   ]
  },
  {
   "cell_type": "code",
   "execution_count": 268,
   "metadata": {},
   "outputs": [],
   "source": [
    "cause.drop('Descripcio_torn',axis=1, inplace=True)"
   ]
  },
  {
   "cell_type": "code",
   "execution_count": 269,
   "metadata": {},
   "outputs": [
    {
     "data": {
      "text/html": [
       "<div>\n",
       "<style scoped>\n",
       "    .dataframe tbody tr th:only-of-type {\n",
       "        vertical-align: middle;\n",
       "    }\n",
       "\n",
       "    .dataframe tbody tr th {\n",
       "        vertical-align: top;\n",
       "    }\n",
       "\n",
       "    .dataframe thead th {\n",
       "        text-align: right;\n",
       "    }\n",
       "</style>\n",
       "<table border=\"1\" class=\"dataframe\">\n",
       "  <thead>\n",
       "    <tr style=\"text-align: right;\">\n",
       "      <th></th>\n",
       "      <th>Numero_expedient</th>\n",
       "      <th>Codi_districte</th>\n",
       "      <th>Nom_districte</th>\n",
       "      <th>Codi_barri</th>\n",
       "      <th>Nom_barri</th>\n",
       "      <th>Codi_carrer</th>\n",
       "      <th>Nom_carrer</th>\n",
       "      <th>Descripcio_dia_setmana</th>\n",
       "      <th>Dia_setmana</th>\n",
       "      <th>Descripcio_tipus_dia</th>\n",
       "      <th>NK_Any</th>\n",
       "      <th>Mes_any</th>\n",
       "      <th>Nom_mes</th>\n",
       "      <th>Dia_mes</th>\n",
       "      <th>Hora_dia</th>\n",
       "      <th>Descripcio_causa_mediata</th>\n",
       "      <th>Coordenada_UTM_Y</th>\n",
       "      <th>Coordenada_UTM_X</th>\n",
       "    </tr>\n",
       "  </thead>\n",
       "  <tbody>\n",
       "    <tr>\n",
       "      <th>0</th>\n",
       "      <td>2010S006971</td>\n",
       "      <td>10</td>\n",
       "      <td>Sant Mart¡</td>\n",
       "      <td>64</td>\n",
       "      <td>el Camp de l'Arpa del Clot</td>\n",
       "      <td>346402</td>\n",
       "      <td>Trinxant</td>\n",
       "      <td>Dijous</td>\n",
       "      <td>Dj</td>\n",
       "      <td>Laboral</td>\n",
       "      <td>2010</td>\n",
       "      <td>10</td>\n",
       "      <td>Octubre</td>\n",
       "      <td>14</td>\n",
       "      <td>20</td>\n",
       "      <td>No hi ha causa mediata</td>\n",
       "      <td>4.5854e+06</td>\n",
       "      <td>431941</td>\n",
       "    </tr>\n",
       "    <tr>\n",
       "      <th>1</th>\n",
       "      <td>2010S000574</td>\n",
       "      <td>10</td>\n",
       "      <td>Sant Mart¡</td>\n",
       "      <td>64</td>\n",
       "      <td>el Camp de l'Arpa del Clot</td>\n",
       "      <td>161407</td>\n",
       "      <td>Ind£stria</td>\n",
       "      <td>Dilluns</td>\n",
       "      <td>Dl</td>\n",
       "      <td>Laboral</td>\n",
       "      <td>2010</td>\n",
       "      <td>1</td>\n",
       "      <td>Gener</td>\n",
       "      <td>25</td>\n",
       "      <td>7</td>\n",
       "      <td>No hi ha causa mediata</td>\n",
       "      <td>4.58516e+06</td>\n",
       "      <td>431472</td>\n",
       "    </tr>\n",
       "    <tr>\n",
       "      <th>2</th>\n",
       "      <td>2010S004580</td>\n",
       "      <td>10</td>\n",
       "      <td>Sant Mart¡</td>\n",
       "      <td>64</td>\n",
       "      <td>el Camp de l'Arpa del Clot</td>\n",
       "      <td>161407</td>\n",
       "      <td>Ind£stria</td>\n",
       "      <td>Dijous</td>\n",
       "      <td>Dj</td>\n",
       "      <td>Laboral</td>\n",
       "      <td>2010</td>\n",
       "      <td>7</td>\n",
       "      <td>Juliol</td>\n",
       "      <td>1</td>\n",
       "      <td>20</td>\n",
       "      <td>No hi ha causa mediata</td>\n",
       "      <td>4.58503e+06</td>\n",
       "      <td>431348</td>\n",
       "    </tr>\n",
       "    <tr>\n",
       "      <th>3</th>\n",
       "      <td>2010S002999</td>\n",
       "      <td>10</td>\n",
       "      <td>Sant Mart¡</td>\n",
       "      <td>64</td>\n",
       "      <td>el Camp de l'Arpa del Clot</td>\n",
       "      <td>297001</td>\n",
       "      <td>Sant Antoni Maria Claret</td>\n",
       "      <td>Dilluns</td>\n",
       "      <td>Dl</td>\n",
       "      <td>Laboral</td>\n",
       "      <td>2010</td>\n",
       "      <td>5</td>\n",
       "      <td>Maig</td>\n",
       "      <td>3</td>\n",
       "      <td>7</td>\n",
       "      <td>No hi ha causa mediata</td>\n",
       "      <td>4.5851e+06</td>\n",
       "      <td>431274</td>\n",
       "    </tr>\n",
       "    <tr>\n",
       "      <th>4</th>\n",
       "      <td>2010S007227</td>\n",
       "      <td>10</td>\n",
       "      <td>Sant Mart¡</td>\n",
       "      <td>64</td>\n",
       "      <td>el Camp de l'Arpa del Clot</td>\n",
       "      <td>134801</td>\n",
       "      <td>Freser</td>\n",
       "      <td>Dilluns</td>\n",
       "      <td>Dl</td>\n",
       "      <td>Laboral</td>\n",
       "      <td>2010</td>\n",
       "      <td>10</td>\n",
       "      <td>Octubre</td>\n",
       "      <td>25</td>\n",
       "      <td>9</td>\n",
       "      <td>No hi ha causa mediata</td>\n",
       "      <td>4.5848e+06</td>\n",
       "      <td>431492</td>\n",
       "    </tr>\n",
       "  </tbody>\n",
       "</table>\n",
       "</div>"
      ],
      "text/plain": [
       "  Numero_expedient Codi_districte Nom_districte Codi_barri  \\\n",
       "0      2010S006971             10    Sant Mart¡         64   \n",
       "1      2010S000574             10    Sant Mart¡         64   \n",
       "2      2010S004580             10    Sant Mart¡         64   \n",
       "3      2010S002999             10    Sant Mart¡         64   \n",
       "4      2010S007227             10    Sant Mart¡         64   \n",
       "\n",
       "                    Nom_barri Codi_carrer                Nom_carrer  \\\n",
       "0  el Camp de l'Arpa del Clot      346402                  Trinxant   \n",
       "1  el Camp de l'Arpa del Clot      161407                 Ind£stria   \n",
       "2  el Camp de l'Arpa del Clot      161407                 Ind£stria   \n",
       "3  el Camp de l'Arpa del Clot      297001  Sant Antoni Maria Claret   \n",
       "4  el Camp de l'Arpa del Clot      134801                    Freser   \n",
       "\n",
       "  Descripcio_dia_setmana Dia_setmana Descripcio_tipus_dia  NK_Any  Mes_any  \\\n",
       "0                 Dijous          Dj              Laboral    2010       10   \n",
       "1                Dilluns          Dl              Laboral    2010        1   \n",
       "2                 Dijous          Dj              Laboral    2010        7   \n",
       "3                Dilluns          Dl              Laboral    2010        5   \n",
       "4                Dilluns          Dl              Laboral    2010       10   \n",
       "\n",
       "   Nom_mes  Dia_mes  Hora_dia Descripcio_causa_mediata Coordenada_UTM_Y  \\\n",
       "0  Octubre       14        20   No hi ha causa mediata       4.5854e+06   \n",
       "1    Gener       25         7   No hi ha causa mediata      4.58516e+06   \n",
       "2   Juliol        1        20   No hi ha causa mediata      4.58503e+06   \n",
       "3     Maig        3         7   No hi ha causa mediata       4.5851e+06   \n",
       "4  Octubre       25         9   No hi ha causa mediata       4.5848e+06   \n",
       "\n",
       "  Coordenada_UTM_X  \n",
       "0           431941  \n",
       "1           431472  \n",
       "2           431348  \n",
       "3           431274  \n",
       "4           431492  "
      ]
     },
     "execution_count": 269,
     "metadata": {},
     "output_type": "execute_result"
    }
   ],
   "source": [
    "cause.head()"
   ]
  },
  {
   "cell_type": "code",
   "execution_count": 270,
   "metadata": {},
   "outputs": [
    {
     "data": {
      "text/html": [
       "<div>\n",
       "<style scoped>\n",
       "    .dataframe tbody tr th:only-of-type {\n",
       "        vertical-align: middle;\n",
       "    }\n",
       "\n",
       "    .dataframe tbody tr th {\n",
       "        vertical-align: top;\n",
       "    }\n",
       "\n",
       "    .dataframe thead th {\n",
       "        text-align: right;\n",
       "    }\n",
       "</style>\n",
       "<table border=\"1\" class=\"dataframe\">\n",
       "  <thead>\n",
       "    <tr style=\"text-align: right;\">\n",
       "      <th></th>\n",
       "      <th>Numero_expedient</th>\n",
       "      <th>Codi_districte</th>\n",
       "      <th>Nom_districte</th>\n",
       "      <th>Codi_barri</th>\n",
       "      <th>Nom_barri</th>\n",
       "      <th>Codi_carrer</th>\n",
       "      <th>Nom_carrer</th>\n",
       "      <th>Descripcio_dia_setmana</th>\n",
       "      <th>Dia_setmana</th>\n",
       "      <th>Descripcio_tipus_dia</th>\n",
       "      <th>NK_Any</th>\n",
       "      <th>Mes_any</th>\n",
       "      <th>Nom_mes</th>\n",
       "      <th>Dia_mes</th>\n",
       "      <th>Hora_dia</th>\n",
       "      <th>Descripcio_causa_mediata</th>\n",
       "      <th>Coordenada_UTM_Y</th>\n",
       "      <th>Coordenada_UTM_X</th>\n",
       "    </tr>\n",
       "  </thead>\n",
       "  <tbody>\n",
       "    <tr>\n",
       "      <th>86827</th>\n",
       "      <td>2018S005018</td>\n",
       "      <td>10</td>\n",
       "      <td>Sant Martí</td>\n",
       "      <td>69</td>\n",
       "      <td>Diagonal Mar i el Front Marítim del Poblenou</td>\n",
       "      <td>700892</td>\n",
       "      <td>Litoral (Llobregat)                           ...</td>\n",
       "      <td>Divendres</td>\n",
       "      <td>Dv</td>\n",
       "      <td>Laboral</td>\n",
       "      <td>2018</td>\n",
       "      <td>6</td>\n",
       "      <td>Juny</td>\n",
       "      <td>29</td>\n",
       "      <td>13</td>\n",
       "      <td>No hi ha causa mediata</td>\n",
       "      <td>4.58473e+06</td>\n",
       "      <td>435017</td>\n",
       "    </tr>\n",
       "    <tr>\n",
       "      <th>86828</th>\n",
       "      <td>2018S005688</td>\n",
       "      <td>10</td>\n",
       "      <td>Sant Martí</td>\n",
       "      <td>70</td>\n",
       "      <td>el Besòs i el Maresme</td>\n",
       "      <td>701266</td>\n",
       "      <td>Litoral (Llobregat)                           ...</td>\n",
       "      <td>Dilluns</td>\n",
       "      <td>Dl</td>\n",
       "      <td>Laboral</td>\n",
       "      <td>2018</td>\n",
       "      <td>7</td>\n",
       "      <td>Juliol</td>\n",
       "      <td>23</td>\n",
       "      <td>10</td>\n",
       "      <td>No hi ha causa mediata</td>\n",
       "      <td>4.58473e+06</td>\n",
       "      <td>435017</td>\n",
       "    </tr>\n",
       "    <tr>\n",
       "      <th>86829</th>\n",
       "      <td>2018S007957</td>\n",
       "      <td>10</td>\n",
       "      <td>Sant Martí</td>\n",
       "      <td>70</td>\n",
       "      <td>el Besòs i el Maresme</td>\n",
       "      <td>701266</td>\n",
       "      <td>Litoral (Besòs)                               ...</td>\n",
       "      <td>Divendres</td>\n",
       "      <td>Dv</td>\n",
       "      <td>Laboral</td>\n",
       "      <td>2018</td>\n",
       "      <td>10</td>\n",
       "      <td>Octubre</td>\n",
       "      <td>19</td>\n",
       "      <td>19</td>\n",
       "      <td>No hi ha causa mediata</td>\n",
       "      <td>4.58473e+06</td>\n",
       "      <td>435033</td>\n",
       "    </tr>\n",
       "    <tr>\n",
       "      <th>86830</th>\n",
       "      <td>2018S005081</td>\n",
       "      <td>10</td>\n",
       "      <td>Sant Martí</td>\n",
       "      <td>70</td>\n",
       "      <td>el Besòs i el Maresme</td>\n",
       "      <td>701612</td>\n",
       "      <td>Fòrum                                         ...</td>\n",
       "      <td>Dilluns</td>\n",
       "      <td>Dl</td>\n",
       "      <td>Laboral</td>\n",
       "      <td>2018</td>\n",
       "      <td>7</td>\n",
       "      <td>Juliol</td>\n",
       "      <td>2</td>\n",
       "      <td>8</td>\n",
       "      <td>No hi ha causa mediata</td>\n",
       "      <td>4.58488e+06</td>\n",
       "      <td>435046</td>\n",
       "    </tr>\n",
       "    <tr>\n",
       "      <th>86831</th>\n",
       "      <td>2018S008516</td>\n",
       "      <td>10</td>\n",
       "      <td>Sant Martí</td>\n",
       "      <td>70</td>\n",
       "      <td>el Besòs i el Maresme</td>\n",
       "      <td>701266</td>\n",
       "      <td>Litoral (Llobregat)                           ...</td>\n",
       "      <td>Dimecres</td>\n",
       "      <td>Dc</td>\n",
       "      <td>Laboral</td>\n",
       "      <td>2018</td>\n",
       "      <td>11</td>\n",
       "      <td>Novembre</td>\n",
       "      <td>7</td>\n",
       "      <td>7</td>\n",
       "      <td>No hi ha causa mediata</td>\n",
       "      <td>4.58492e+06</td>\n",
       "      <td>435086</td>\n",
       "    </tr>\n",
       "  </tbody>\n",
       "</table>\n",
       "</div>"
      ],
      "text/plain": [
       "      Numero_expedient Codi_districte Nom_districte Codi_barri  \\\n",
       "86827  2018S005018                 10    Sant Martí         69   \n",
       "86828  2018S005688                 10    Sant Martí         70   \n",
       "86829  2018S007957                 10    Sant Martí         70   \n",
       "86830  2018S005081                 10    Sant Martí         70   \n",
       "86831  2018S008516                 10    Sant Martí         70   \n",
       "\n",
       "                                          Nom_barri Codi_carrer  \\\n",
       "86827  Diagonal Mar i el Front Marítim del Poblenou      700892   \n",
       "86828                         el Besòs i el Maresme      701266   \n",
       "86829                         el Besòs i el Maresme      701266   \n",
       "86830                         el Besòs i el Maresme      701612   \n",
       "86831                         el Besòs i el Maresme      701266   \n",
       "\n",
       "                                              Nom_carrer  \\\n",
       "86827  Litoral (Llobregat)                           ...   \n",
       "86828  Litoral (Llobregat)                           ...   \n",
       "86829  Litoral (Besòs)                               ...   \n",
       "86830  Fòrum                                         ...   \n",
       "86831  Litoral (Llobregat)                           ...   \n",
       "\n",
       "      Descripcio_dia_setmana Dia_setmana Descripcio_tipus_dia  NK_Any  \\\n",
       "86827              Divendres          Dv              Laboral    2018   \n",
       "86828                Dilluns          Dl              Laboral    2018   \n",
       "86829              Divendres          Dv              Laboral    2018   \n",
       "86830                Dilluns          Dl              Laboral    2018   \n",
       "86831               Dimecres          Dc              Laboral    2018   \n",
       "\n",
       "       Mes_any   Nom_mes  Dia_mes  Hora_dia Descripcio_causa_mediata  \\\n",
       "86827        6      Juny       29        13   No hi ha causa mediata   \n",
       "86828        7    Juliol       23        10   No hi ha causa mediata   \n",
       "86829       10   Octubre       19        19   No hi ha causa mediata   \n",
       "86830        7    Juliol        2         8   No hi ha causa mediata   \n",
       "86831       11  Novembre        7         7   No hi ha causa mediata   \n",
       "\n",
       "      Coordenada_UTM_Y Coordenada_UTM_X  \n",
       "86827      4.58473e+06           435017  \n",
       "86828      4.58473e+06           435017  \n",
       "86829      4.58473e+06           435033  \n",
       "86830      4.58488e+06           435046  \n",
       "86831      4.58492e+06           435086  "
      ]
     },
     "execution_count": 270,
     "metadata": {},
     "output_type": "execute_result"
    }
   ],
   "source": [
    "cause.tail()"
   ]
  },
  {
   "cell_type": "code",
   "execution_count": 271,
   "metadata": {},
   "outputs": [],
   "source": [
    "cause.to_excel('cause_db.xlsx')"
   ]
  },
  {
   "cell_type": "code",
   "execution_count": 272,
   "metadata": {},
   "outputs": [],
   "source": [
    "type_2018 = pd.read_csv('databases/accident_type/2018_accidents_tipus_gu_bcn_.csv')"
   ]
  },
  {
   "cell_type": "code",
   "execution_count": 274,
   "metadata": {},
   "outputs": [],
   "source": [
    "type_2018.columns = ['Numero_expedient', 'Codi_districte', 'Nom_districte', 'Codi_barri',\n",
    "       'Nom_barri', 'Codi_carrer', 'Nom_carrer', 'Num_postal',\n",
    "       'Descripcio_dia_setmana', 'Dia_setmana', 'Descripcio_tipus_dia',\n",
    "       'NK_Any', 'Mes_any', 'Nom_mes', 'Dia_mes', 'Hora_dia',\n",
    "       'Descripcio_torn', 'Descripcio_tipus_accident', 'Coordenada_UTM_X',\n",
    "       'Coordenada_UTM_Y', 'Longitud', 'Latitud']"
   ]
  },
  {
   "cell_type": "code",
   "execution_count": 275,
   "metadata": {},
   "outputs": [],
   "source": [
    "type_2017 = pd.read_excel('databases/accident_type/2017_accidents_tipus_gu_bcn_.xlsx')"
   ]
  },
  {
   "cell_type": "code",
   "execution_count": 277,
   "metadata": {},
   "outputs": [],
   "source": [
    "type_2017.columns = ['Numero_expedient', 'Codi_districte', 'Nom_districte', 'Codi_barri',\n",
    "       'Nom_barri', 'Codi_carrer', 'Nom_carrer', 'Num_postal',\n",
    "       'Descripcio_dia_setmana', 'Dia_setmana', 'Descripcio_tipus_dia',\n",
    "       'NK_Any', 'Mes_any', 'Nom_mes', 'Dia_mes', 'Hora_dia',\n",
    "       'Descripcio_torn', 'Descripcio_tipus_accident', 'Coordenada_UTM_X',\n",
    "       'Coordenada_UTM_Y', 'Longitud', 'Latitud']"
   ]
  },
  {
   "cell_type": "code",
   "execution_count": 278,
   "metadata": {},
   "outputs": [],
   "source": [
    "type_2016 = pd.read_excel('databases/accident_type/2016_accidents_tipus_gu_bcn_.xlsx')"
   ]
  },
  {
   "cell_type": "code",
   "execution_count": 280,
   "metadata": {},
   "outputs": [],
   "source": [
    "type_2016.columns = ['Numero_expedient', 'Codi_districte', 'Nom_districte', 'Codi_barri',\n",
    "       'Nom_barri', 'Codi_carrer', 'Nom_carrer', 'Num_postal',\n",
    "       'Descripcio_dia_setmana', 'Dia_setmana', 'Descripcio_tipus_dia',\n",
    "       'NK_Any', 'Mes_any', 'Nom_mes', 'Dia_mes', 'Hora_dia',\n",
    "       'Descripcio_torn', 'Descripcio_tipus_accident', 'Coordenada_UTM_X',\n",
    "       'Coordenada_UTM_Y', 'Longitud', 'Latitud']"
   ]
  },
  {
   "cell_type": "code",
   "execution_count": 281,
   "metadata": {},
   "outputs": [],
   "source": [
    "type_2015 = pd.read_excel('databases/accident_type/2015_ACCIDENTS_TIPUS_GU_BCN_2015.xlsx')"
   ]
  },
  {
   "cell_type": "code",
   "execution_count": 283,
   "metadata": {},
   "outputs": [],
   "source": [
    "type_2015.columns = ['Numero_expedient', 'Codi_districte', 'Nom_districte', 'Codi_barri',\n",
    "       'Nom_barri', 'Codi_carrer', 'Nom_carrer', 'Num_postal',\n",
    "       'Descripcio_dia_setmana', 'Dia_setmana', 'Descripcio_tipus_dia',\n",
    "       'NK_Any', 'Mes_any', 'Nom_mes', 'Dia_mes', 'Hora_dia',\n",
    "       'Descripcio_torn', 'Descripcio_tipus_accident', 'Coordenada_UTM_Y',\n",
    "       'Coordenada_UTM_X']"
   ]
  },
  {
   "cell_type": "code",
   "execution_count": 284,
   "metadata": {},
   "outputs": [],
   "source": [
    "type_2014 = pd.read_excel('databases/accident_type/2014_ACCIDENTS_TIPUS_GU_BCN_2014.xlsx')"
   ]
  },
  {
   "cell_type": "code",
   "execution_count": 286,
   "metadata": {},
   "outputs": [],
   "source": [
    "type_2014.columns = ['Numero_expedient', 'Codi_districte', 'Nom_districte', 'Codi_barri',\n",
    "       'Nom_barri', 'Codi_carrer', 'Nom_carrer', 'Num_postal',\n",
    "       'Descripcio_dia_setmana', 'Dia_setmana', 'Descripcio_tipus_dia',\n",
    "       'NK_Any', 'Mes_any', 'Nom_mes', 'Dia_mes', 'Hora_dia',\n",
    "       'Descripcio_torn', 'Descripcio_tipus_accident', 'Coordenada_UTM_Y',\n",
    "       'Coordenada_UTM_X']"
   ]
  },
  {
   "cell_type": "code",
   "execution_count": 287,
   "metadata": {},
   "outputs": [],
   "source": [
    "type_2013 = pd.read_excel('databases/accident_type/2013_ACCIDENTS_TIPUS_GU_BCN_2013.xlsx')"
   ]
  },
  {
   "cell_type": "code",
   "execution_count": 289,
   "metadata": {},
   "outputs": [],
   "source": [
    "type_2013.columns = ['Numero_expedient', 'Codi_districte', 'Nom_districte', 'Codi_barri',\n",
    "       'Nom_barri', 'Codi_carrer', 'Nom_carrer', 'Num_postal',\n",
    "       'Descripcio_dia_setmana', 'Dia_setmana', 'Descripcio_tipus_dia',\n",
    "       'NK_Any', 'Mes_any', 'Nom_mes', 'Dia_mes', 'Hora_dia',\n",
    "       'Descripcio_torn', 'Descripcio_tipus_accident', 'Coordenada_UTM_Y',\n",
    "       'Coordenada_UTM_X']"
   ]
  },
  {
   "cell_type": "code",
   "execution_count": 290,
   "metadata": {},
   "outputs": [],
   "source": [
    "type_2012 = pd.read_excel('databases/accident_type/2012_ACCIDENTS_TIPUS_GU_BCN_2012.xlsx')"
   ]
  },
  {
   "cell_type": "code",
   "execution_count": 292,
   "metadata": {},
   "outputs": [],
   "source": [
    "type_2012.columns = ['Numero_expedient', 'Codi_districte', 'Nom_districte', 'Codi_barri',\n",
    "       'Nom_barri', 'Codi_carrer', 'Nom_carrer', 'Num_postal',\n",
    "       'Descripcio_dia_setmana', 'Dia_setmana', 'Descripcio_tipus_dia',\n",
    "       'NK_Any', 'Mes_any', 'Nom_mes', 'Dia_mes', 'Hora_dia',\n",
    "       'Descripcio_torn', 'Descripcio_tipus_accident', 'Coordenada_UTM_Y',\n",
    "       'Coordenada_UTM_X']"
   ]
  },
  {
   "cell_type": "code",
   "execution_count": 293,
   "metadata": {},
   "outputs": [],
   "source": [
    "type_2011 = pd.read_excel('databases/accident_type/2011_ACCIDENTS_TIPUS_GU_BCN_2011.xlsx')"
   ]
  },
  {
   "cell_type": "code",
   "execution_count": 295,
   "metadata": {},
   "outputs": [],
   "source": [
    "type_2011.columns = ['Numero_expedient', 'Codi_districte', 'Nom_districte', 'Codi_barri',\n",
    "       'Nom_barri', 'Codi_carrer', 'Nom_carrer', 'Num_postal',\n",
    "       'Descripcio_dia_setmana', 'Dia_setmana', 'Descripcio_tipus_dia',\n",
    "       'NK_Any', 'Mes_any', 'Nom_mes', 'Dia_mes', 'Hora_dia',\n",
    "       'Descripcio_torn', 'Descripcio_tipus_accident', 'Coordenada_UTM_Y',\n",
    "       'Coordenada_UTM_X']"
   ]
  },
  {
   "cell_type": "code",
   "execution_count": 296,
   "metadata": {},
   "outputs": [],
   "source": [
    "type_2010 = pd.read_excel('databases/accident_type/2010_ACCIDENTS_TIPUS_GU_BCN_2010.xlsx')"
   ]
  },
  {
   "cell_type": "code",
   "execution_count": 298,
   "metadata": {},
   "outputs": [],
   "source": [
    "type_2010.columns = ['Numero_expedient', 'Codi_districte', 'Nom_districte', 'Codi_barri',\n",
    "       'Nom_barri', 'Codi_carrer', 'Nom_carrer', 'Num_postal',\n",
    "       'Descripcio_dia_setmana', 'Dia_setmana', 'Descripcio_tipus_dia',\n",
    "       'NK_Any', 'Mes_any', 'Nom_mes', 'Dia_mes', 'Hora_dia',\n",
    "       'Descripcio_torn', 'Descripcio_tipus_accident', 'Coordenada_UTM_Y',\n",
    "       'Coordenada_UTM_X']"
   ]
  },
  {
   "cell_type": "code",
   "execution_count": 300,
   "metadata": {},
   "outputs": [],
   "source": [
    "type_df = pd.concat([type_2010,type_2011,type_2012,type_2013,type_2014,type_2015,type_2016,type_2017,type_2018],sort=False,ignore_index=True)"
   ]
  },
  {
   "cell_type": "code",
   "execution_count": 301,
   "metadata": {},
   "outputs": [
    {
     "data": {
      "text/html": [
       "<div>\n",
       "<style scoped>\n",
       "    .dataframe tbody tr th:only-of-type {\n",
       "        vertical-align: middle;\n",
       "    }\n",
       "\n",
       "    .dataframe tbody tr th {\n",
       "        vertical-align: top;\n",
       "    }\n",
       "\n",
       "    .dataframe thead th {\n",
       "        text-align: right;\n",
       "    }\n",
       "</style>\n",
       "<table border=\"1\" class=\"dataframe\">\n",
       "  <thead>\n",
       "    <tr style=\"text-align: right;\">\n",
       "      <th></th>\n",
       "      <th>Numero_expedient</th>\n",
       "      <th>Codi_districte</th>\n",
       "      <th>Nom_districte</th>\n",
       "      <th>Codi_barri</th>\n",
       "      <th>Nom_barri</th>\n",
       "      <th>Codi_carrer</th>\n",
       "      <th>Nom_carrer</th>\n",
       "      <th>Num_postal</th>\n",
       "      <th>Descripcio_dia_setmana</th>\n",
       "      <th>Dia_setmana</th>\n",
       "      <th>...</th>\n",
       "      <th>Mes_any</th>\n",
       "      <th>Nom_mes</th>\n",
       "      <th>Dia_mes</th>\n",
       "      <th>Hora_dia</th>\n",
       "      <th>Descripcio_torn</th>\n",
       "      <th>Descripcio_tipus_accident</th>\n",
       "      <th>Coordenada_UTM_Y</th>\n",
       "      <th>Coordenada_UTM_X</th>\n",
       "      <th>Longitud</th>\n",
       "      <th>Latitud</th>\n",
       "    </tr>\n",
       "  </thead>\n",
       "  <tbody>\n",
       "    <tr>\n",
       "      <th>0</th>\n",
       "      <td>2010S006909</td>\n",
       "      <td>10</td>\n",
       "      <td>Sant Martí</td>\n",
       "      <td>64</td>\n",
       "      <td>el Camp de l'Arpa del Clot</td>\n",
       "      <td>134801</td>\n",
       "      <td>Freser</td>\n",
       "      <td>0176 0176</td>\n",
       "      <td>Dilluns</td>\n",
       "      <td>Dl</td>\n",
       "      <td>...</td>\n",
       "      <td>10.0</td>\n",
       "      <td>Octubre</td>\n",
       "      <td>11.0</td>\n",
       "      <td>20.0</td>\n",
       "      <td>Tarda</td>\n",
       "      <td>Atropellament</td>\n",
       "      <td>4585312,47</td>\n",
       "      <td>431736,08</td>\n",
       "      <td>NaN</td>\n",
       "      <td>NaN</td>\n",
       "    </tr>\n",
       "    <tr>\n",
       "      <th>1</th>\n",
       "      <td>2010S006757</td>\n",
       "      <td>10</td>\n",
       "      <td>Sant Martí</td>\n",
       "      <td>64</td>\n",
       "      <td>el Camp de l'Arpa del Clot</td>\n",
       "      <td>226400</td>\n",
       "      <td>Las Navas de Tolosa</td>\n",
       "      <td>0329 0329</td>\n",
       "      <td>Dimarts</td>\n",
       "      <td>Dm</td>\n",
       "      <td>...</td>\n",
       "      <td>10.0</td>\n",
       "      <td>Octubre</td>\n",
       "      <td>5.0</td>\n",
       "      <td>16.0</td>\n",
       "      <td>Tarda</td>\n",
       "      <td>Col.lisió lateral</td>\n",
       "      <td>4585527,16</td>\n",
       "      <td>431983,63</td>\n",
       "      <td>NaN</td>\n",
       "      <td>NaN</td>\n",
       "    </tr>\n",
       "    <tr>\n",
       "      <th>2</th>\n",
       "      <td>2010S005591</td>\n",
       "      <td>10</td>\n",
       "      <td>Sant Martí</td>\n",
       "      <td>64</td>\n",
       "      <td>el Camp de l'Arpa del Clot</td>\n",
       "      <td>297001</td>\n",
       "      <td>Sant Antoni Maria Claret</td>\n",
       "      <td>0268 0268</td>\n",
       "      <td>Divendres</td>\n",
       "      <td>Dv</td>\n",
       "      <td>...</td>\n",
       "      <td>8.0</td>\n",
       "      <td>Agost</td>\n",
       "      <td>13.0</td>\n",
       "      <td>15.0</td>\n",
       "      <td>Tarda</td>\n",
       "      <td>Xoc contra element estàtic</td>\n",
       "      <td>4585099,31</td>\n",
       "      <td>431268,10</td>\n",
       "      <td>NaN</td>\n",
       "      <td>NaN</td>\n",
       "    </tr>\n",
       "    <tr>\n",
       "      <th>3</th>\n",
       "      <td>2010S008924</td>\n",
       "      <td>10</td>\n",
       "      <td>Sant Martí</td>\n",
       "      <td>64</td>\n",
       "      <td>el Camp de l'Arpa del Clot</td>\n",
       "      <td>161407</td>\n",
       "      <td>Indústria</td>\n",
       "      <td>0258 0258</td>\n",
       "      <td>Divendres</td>\n",
       "      <td>Dv</td>\n",
       "      <td>...</td>\n",
       "      <td>12.0</td>\n",
       "      <td>Desembre</td>\n",
       "      <td>24.0</td>\n",
       "      <td>14.0</td>\n",
       "      <td>Tarda</td>\n",
       "      <td>Col.lisió lateral</td>\n",
       "      <td>4585137,05</td>\n",
       "      <td>431484,86</td>\n",
       "      <td>NaN</td>\n",
       "      <td>NaN</td>\n",
       "    </tr>\n",
       "    <tr>\n",
       "      <th>4</th>\n",
       "      <td>2010S000187</td>\n",
       "      <td>10</td>\n",
       "      <td>Sant Martí</td>\n",
       "      <td>64</td>\n",
       "      <td>el Camp de l'Arpa del Clot</td>\n",
       "      <td>350308</td>\n",
       "      <td>València</td>\n",
       "      <td>0589 0589</td>\n",
       "      <td>Dissabte</td>\n",
       "      <td>Ds</td>\n",
       "      <td>...</td>\n",
       "      <td>1.0</td>\n",
       "      <td>Gener</td>\n",
       "      <td>9.0</td>\n",
       "      <td>14.0</td>\n",
       "      <td>Tarda</td>\n",
       "      <td>Abast</td>\n",
       "      <td>4584685,43</td>\n",
       "      <td>431964,34</td>\n",
       "      <td>NaN</td>\n",
       "      <td>NaN</td>\n",
       "    </tr>\n",
       "  </tbody>\n",
       "</table>\n",
       "<p>5 rows × 22 columns</p>\n",
       "</div>"
      ],
      "text/plain": [
       "  Numero_expedient Codi_districte Nom_districte Codi_barri  \\\n",
       "0      2010S006909             10    Sant Martí         64   \n",
       "1      2010S006757             10    Sant Martí         64   \n",
       "2      2010S005591             10    Sant Martí         64   \n",
       "3      2010S008924             10    Sant Martí         64   \n",
       "4      2010S000187             10    Sant Martí         64   \n",
       "\n",
       "                    Nom_barri Codi_carrer                Nom_carrer  \\\n",
       "0  el Camp de l'Arpa del Clot      134801                    Freser   \n",
       "1  el Camp de l'Arpa del Clot      226400       Las Navas de Tolosa   \n",
       "2  el Camp de l'Arpa del Clot      297001  Sant Antoni Maria Claret   \n",
       "3  el Camp de l'Arpa del Clot      161407                 Indústria   \n",
       "4  el Camp de l'Arpa del Clot      350308                  València   \n",
       "\n",
       "  Num_postal Descripcio_dia_setmana Dia_setmana   ...   Mes_any   Nom_mes  \\\n",
       "0  0176 0176                Dilluns          Dl   ...      10.0   Octubre   \n",
       "1  0329 0329                Dimarts          Dm   ...      10.0   Octubre   \n",
       "2  0268 0268              Divendres          Dv   ...       8.0     Agost   \n",
       "3  0258 0258              Divendres          Dv   ...      12.0  Desembre   \n",
       "4  0589 0589               Dissabte          Ds   ...       1.0     Gener   \n",
       "\n",
       "   Dia_mes Hora_dia  Descripcio_torn   Descripcio_tipus_accident  \\\n",
       "0     11.0     20.0            Tarda               Atropellament   \n",
       "1      5.0     16.0            Tarda           Col.lisió lateral   \n",
       "2     13.0     15.0            Tarda  Xoc contra element estàtic   \n",
       "3     24.0     14.0            Tarda           Col.lisió lateral   \n",
       "4      9.0     14.0            Tarda                       Abast   \n",
       "\n",
       "  Coordenada_UTM_Y Coordenada_UTM_X Longitud Latitud  \n",
       "0       4585312,47        431736,08      NaN     NaN  \n",
       "1       4585527,16        431983,63      NaN     NaN  \n",
       "2       4585099,31        431268,10      NaN     NaN  \n",
       "3       4585137,05        431484,86      NaN     NaN  \n",
       "4       4584685,43        431964,34      NaN     NaN  \n",
       "\n",
       "[5 rows x 22 columns]"
      ]
     },
     "execution_count": 301,
     "metadata": {},
     "output_type": "execute_result"
    }
   ],
   "source": [
    "type_df.head()"
   ]
  },
  {
   "cell_type": "code",
   "execution_count": 302,
   "metadata": {},
   "outputs": [
    {
     "name": "stdout",
     "output_type": "stream",
     "text": [
      "<class 'pandas.core.frame.DataFrame'>\n",
      "RangeIndex: 91584 entries, 0 to 91583\n",
      "Data columns (total 22 columns):\n",
      "Numero_expedient             91584 non-null object\n",
      "Codi_districte               91583 non-null object\n",
      "Nom_districte                91583 non-null object\n",
      "Codi_barri                   91583 non-null object\n",
      "Nom_barri                    91583 non-null object\n",
      "Codi_carrer                  91583 non-null object\n",
      "Nom_carrer                   86517 non-null object\n",
      "Num_postal                   91580 non-null object\n",
      "Descripcio_dia_setmana       91583 non-null object\n",
      "Dia_setmana                  91583 non-null object\n",
      "Descripcio_tipus_dia         91583 non-null object\n",
      "NK_Any                       91583 non-null float64\n",
      "Mes_any                      91583 non-null float64\n",
      "Nom_mes                      91583 non-null object\n",
      "Dia_mes                      91583 non-null float64\n",
      "Hora_dia                     91583 non-null float64\n",
      "Descripcio_torn              91583 non-null object\n",
      "Descripcio_tipus_accident    91583 non-null object\n",
      "Coordenada_UTM_Y             91583 non-null object\n",
      "Coordenada_UTM_X             91583 non-null object\n",
      "Longitud                     32254 non-null object\n",
      "Latitud                      32254 non-null object\n",
      "dtypes: float64(4), object(18)\n",
      "memory usage: 15.4+ MB\n"
     ]
    }
   ],
   "source": [
    "type_df.info()"
   ]
  },
  {
   "cell_type": "code",
   "execution_count": 303,
   "metadata": {},
   "outputs": [],
   "source": [
    "type_df.drop(['Longitud','Latitud'],axis=1,inplace=True)"
   ]
  },
  {
   "cell_type": "code",
   "execution_count": 306,
   "metadata": {},
   "outputs": [],
   "source": [
    "type_df.to_excel('types.xlsx')"
   ]
  },
  {
   "cell_type": "code",
   "execution_count": null,
   "metadata": {},
   "outputs": [],
   "source": []
  }
 ],
 "metadata": {
  "kernelspec": {
   "display_name": "Python 3",
   "language": "python",
   "name": "python3"
  },
  "language_info": {
   "codemirror_mode": {
    "name": "ipython",
    "version": 3
   },
   "file_extension": ".py",
   "mimetype": "text/x-python",
   "name": "python",
   "nbconvert_exporter": "python",
   "pygments_lexer": "ipython3",
   "version": "3.7.2"
  }
 },
 "nbformat": 4,
 "nbformat_minor": 2
}
