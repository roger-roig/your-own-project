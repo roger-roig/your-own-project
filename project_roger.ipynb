{
 "cells": [
  {
   "cell_type": "markdown",
   "metadata": {},
   "source": [
    "###  ANALYSIS OF VEHICLES DATABASE"
   ]
  },
  {
   "cell_type": "code",
   "execution_count": 1,
   "metadata": {},
   "outputs": [],
   "source": [
    "import numpy as np\n",
    "import pandas as pd\n",
    "import matplotlib.pyplot as plt\n",
    "%matplotlib inline\n",
    "import seaborn as sns"
   ]
  },
  {
   "cell_type": "code",
   "execution_count": 2,
   "metadata": {},
   "outputs": [],
   "source": [
    "vehicles = pd.read_excel('databases/cleaned/vehicles_db.xlsx')"
   ]
  },
  {
   "cell_type": "code",
   "execution_count": 4,
   "metadata": {},
   "outputs": [],
   "source": [
    "people = pd.read_excel('databases/cleaned/people_db.xlsx')"
   ]
  },
  {
   "cell_type": "code",
   "execution_count": 3,
   "metadata": {},
   "outputs": [
    {
     "data": {
      "text/html": [
       "<div>\n",
       "<style scoped>\n",
       "    .dataframe tbody tr th:only-of-type {\n",
       "        vertical-align: middle;\n",
       "    }\n",
       "\n",
       "    .dataframe tbody tr th {\n",
       "        vertical-align: top;\n",
       "    }\n",
       "\n",
       "    .dataframe thead th {\n",
       "        text-align: right;\n",
       "    }\n",
       "</style>\n",
       "<table border=\"1\" class=\"dataframe\">\n",
       "  <thead>\n",
       "    <tr style=\"text-align: right;\">\n",
       "      <th></th>\n",
       "      <th>Codi_expedient</th>\n",
       "      <th>Codi_districte</th>\n",
       "      <th>Nom_districte</th>\n",
       "      <th>Codi_barri</th>\n",
       "      <th>Nom_barri</th>\n",
       "      <th>Codi_carrer</th>\n",
       "      <th>Nom_carrer</th>\n",
       "      <th>Descripcio_dia_setmana</th>\n",
       "      <th>Descripcio_tipus_dia</th>\n",
       "      <th>NK_Any</th>\n",
       "      <th>...</th>\n",
       "      <th>Hora_dia</th>\n",
       "      <th>Descripcio_causa_vianant</th>\n",
       "      <th>Descripcio_tipus_vehicle</th>\n",
       "      <th>Descripcio_model</th>\n",
       "      <th>Descripcio_marca</th>\n",
       "      <th>Descripcio_color</th>\n",
       "      <th>Descripcio_carnet</th>\n",
       "      <th>Antiguitat_carnet</th>\n",
       "      <th>Coordenada_UTM_Y</th>\n",
       "      <th>Coordenada_UTM_X</th>\n",
       "    </tr>\n",
       "  </thead>\n",
       "  <tbody>\n",
       "    <tr>\n",
       "      <th>0</th>\n",
       "      <td>2010S002961</td>\n",
       "      <td>7</td>\n",
       "      <td>Horta-Guinardó</td>\n",
       "      <td>34</td>\n",
       "      <td>Can Baró</td>\n",
       "      <td>170601</td>\n",
       "      <td>José Millán González</td>\n",
       "      <td>Divendres</td>\n",
       "      <td>Laboral</td>\n",
       "      <td>2010</td>\n",
       "      <td>...</td>\n",
       "      <td>23</td>\n",
       "      <td>Creuar per fora pas de vianants</td>\n",
       "      <td>Turismo</td>\n",
       "      <td>GOLF</td>\n",
       "      <td>VOLKSWAGEN</td>\n",
       "      <td>Desconegut</td>\n",
       "      <td>B</td>\n",
       "      <td>3</td>\n",
       "      <td>4585536,52</td>\n",
       "      <td>429863,89</td>\n",
       "    </tr>\n",
       "    <tr>\n",
       "      <th>1</th>\n",
       "      <td>2010S003114</td>\n",
       "      <td>8</td>\n",
       "      <td>Nou Barris</td>\n",
       "      <td>53</td>\n",
       "      <td>la Trinitat Nova</td>\n",
       "      <td>4409</td>\n",
       "      <td>Aiguablava</td>\n",
       "      <td>Divendres</td>\n",
       "      <td>Laboral</td>\n",
       "      <td>2010</td>\n",
       "      <td>...</td>\n",
       "      <td>15</td>\n",
       "      <td>No és causa del  vianant</td>\n",
       "      <td>Ciclomotor</td>\n",
       "      <td>YR</td>\n",
       "      <td>YAMAHA</td>\n",
       "      <td>Negre</td>\n",
       "      <td>AM</td>\n",
       "      <td>1</td>\n",
       "      <td>4589093,65</td>\n",
       "      <td>431789,16</td>\n",
       "    </tr>\n",
       "    <tr>\n",
       "      <th>2</th>\n",
       "      <td>2010S001244</td>\n",
       "      <td>3</td>\n",
       "      <td>Sants-Montjuïc</td>\n",
       "      <td>11</td>\n",
       "      <td>el Poble Sec</td>\n",
       "      <td>701266</td>\n",
       "      <td>Litoral (Llobregat)</td>\n",
       "      <td>Divendres</td>\n",
       "      <td>Laboral</td>\n",
       "      <td>2010</td>\n",
       "      <td>...</td>\n",
       "      <td>15</td>\n",
       "      <td>No és causa del  vianant</td>\n",
       "      <td>Furgoneta</td>\n",
       "      <td>BERLINGO</td>\n",
       "      <td>CITROEN</td>\n",
       "      <td>Blanc</td>\n",
       "      <td>B</td>\n",
       "      <td>9</td>\n",
       "      <td>4578885,90</td>\n",
       "      <td>429949,38</td>\n",
       "    </tr>\n",
       "    <tr>\n",
       "      <th>3</th>\n",
       "      <td>2010S001244</td>\n",
       "      <td>3</td>\n",
       "      <td>Sants-Montjuïc</td>\n",
       "      <td>11</td>\n",
       "      <td>el Poble Sec</td>\n",
       "      <td>701266</td>\n",
       "      <td>Litoral (Llobregat)</td>\n",
       "      <td>Divendres</td>\n",
       "      <td>Laboral</td>\n",
       "      <td>2010</td>\n",
       "      <td>...</td>\n",
       "      <td>15</td>\n",
       "      <td>No és causa del  vianant</td>\n",
       "      <td>Taxi</td>\n",
       "      <td>TOLEDO</td>\n",
       "      <td>SEAT</td>\n",
       "      <td>Altres</td>\n",
       "      <td>BTP</td>\n",
       "      <td>16</td>\n",
       "      <td>4578885,90</td>\n",
       "      <td>429949,38</td>\n",
       "    </tr>\n",
       "    <tr>\n",
       "      <th>4</th>\n",
       "      <td>2010S001421</td>\n",
       "      <td>2</td>\n",
       "      <td>Eixample</td>\n",
       "      <td>5</td>\n",
       "      <td>el Fort Pienc</td>\n",
       "      <td>325005</td>\n",
       "      <td>Sicília</td>\n",
       "      <td>Divendres</td>\n",
       "      <td>Laboral</td>\n",
       "      <td>2010</td>\n",
       "      <td>...</td>\n",
       "      <td>14</td>\n",
       "      <td>No és causa del  vianant</td>\n",
       "      <td>Furgoneta</td>\n",
       "      <td>TRANSIT</td>\n",
       "      <td>FORD</td>\n",
       "      <td>Blanc</td>\n",
       "      <td>B</td>\n",
       "      <td>5</td>\n",
       "      <td>4583562,68</td>\n",
       "      <td>431291,81</td>\n",
       "    </tr>\n",
       "  </tbody>\n",
       "</table>\n",
       "<p>5 rows × 23 columns</p>\n",
       "</div>"
      ],
      "text/plain": [
       "  Codi_expedient Codi_districte   Nom_districte Codi_barri         Nom_barri  \\\n",
       "0    2010S002961              7  Horta-Guinardó         34          Can Baró   \n",
       "1    2010S003114              8      Nou Barris         53  la Trinitat Nova   \n",
       "2    2010S001244              3  Sants-Montjuïc         11      el Poble Sec   \n",
       "3    2010S001244              3  Sants-Montjuïc         11      el Poble Sec   \n",
       "4    2010S001421              2        Eixample          5     el Fort Pienc   \n",
       "\n",
       "  Codi_carrer            Nom_carrer Descripcio_dia_setmana  \\\n",
       "0      170601  José Millán González              Divendres   \n",
       "1        4409            Aiguablava              Divendres   \n",
       "2      701266   Litoral (Llobregat)              Divendres   \n",
       "3      701266   Litoral (Llobregat)              Divendres   \n",
       "4      325005               Sicília              Divendres   \n",
       "\n",
       "  Descripcio_tipus_dia  NK_Any       ...         Hora_dia  \\\n",
       "0              Laboral    2010       ...               23   \n",
       "1              Laboral    2010       ...               15   \n",
       "2              Laboral    2010       ...               15   \n",
       "3              Laboral    2010       ...               15   \n",
       "4              Laboral    2010       ...               14   \n",
       "\n",
       "          Descripcio_causa_vianant  Descripcio_tipus_vehicle  \\\n",
       "0  Creuar per fora pas de vianants                   Turismo   \n",
       "1         No és causa del  vianant                Ciclomotor   \n",
       "2         No és causa del  vianant                 Furgoneta   \n",
       "3         No és causa del  vianant                      Taxi   \n",
       "4         No és causa del  vianant                 Furgoneta   \n",
       "\n",
       "   Descripcio_model Descripcio_marca Descripcio_color Descripcio_carnet  \\\n",
       "0              GOLF       VOLKSWAGEN       Desconegut                 B   \n",
       "1                YR           YAMAHA            Negre                AM   \n",
       "2          BERLINGO          CITROEN            Blanc                 B   \n",
       "3            TOLEDO             SEAT           Altres               BTP   \n",
       "4           TRANSIT             FORD            Blanc                 B   \n",
       "\n",
       "  Antiguitat_carnet Coordenada_UTM_Y Coordenada_UTM_X  \n",
       "0                 3       4585536,52        429863,89  \n",
       "1                 1       4589093,65        431789,16  \n",
       "2                 9       4578885,90        429949,38  \n",
       "3                16       4578885,90        429949,38  \n",
       "4                 5       4583562,68        431291,81  \n",
       "\n",
       "[5 rows x 23 columns]"
      ]
     },
     "execution_count": 3,
     "metadata": {},
     "output_type": "execute_result"
    }
   ],
   "source": [
    "vehicles.head()"
   ]
  },
  {
   "cell_type": "code",
   "execution_count": 5,
   "metadata": {},
   "outputs": [
    {
     "data": {
      "text/html": [
       "<div>\n",
       "<style scoped>\n",
       "    .dataframe tbody tr th:only-of-type {\n",
       "        vertical-align: middle;\n",
       "    }\n",
       "\n",
       "    .dataframe tbody tr th {\n",
       "        vertical-align: top;\n",
       "    }\n",
       "\n",
       "    .dataframe thead th {\n",
       "        text-align: right;\n",
       "    }\n",
       "</style>\n",
       "<table border=\"1\" class=\"dataframe\">\n",
       "  <thead>\n",
       "    <tr style=\"text-align: right;\">\n",
       "      <th></th>\n",
       "      <th>Numero_expedient</th>\n",
       "      <th>Codi_districte</th>\n",
       "      <th>Nom_districte</th>\n",
       "      <th>Codi_barri</th>\n",
       "      <th>Nom_barri</th>\n",
       "      <th>Codi_carrer</th>\n",
       "      <th>Nom_carrer</th>\n",
       "      <th>Descripcio_dia_setmana</th>\n",
       "      <th>Dia_setmana</th>\n",
       "      <th>Descripcio_tipus_dia</th>\n",
       "      <th>...</th>\n",
       "      <th>Dia_mes</th>\n",
       "      <th>Hora_dia</th>\n",
       "      <th>Descripcio_causa_vianant</th>\n",
       "      <th>Desc_Tipus_vehicle_implicat</th>\n",
       "      <th>Descripcio_sexe</th>\n",
       "      <th>Descripcio_tipus_persona</th>\n",
       "      <th>Edat</th>\n",
       "      <th>Descripcio_victimitzacio</th>\n",
       "      <th>Coordenada_UTM_Y</th>\n",
       "      <th>Coordenada_UTM_X</th>\n",
       "    </tr>\n",
       "  </thead>\n",
       "  <tbody>\n",
       "    <tr>\n",
       "      <th>0</th>\n",
       "      <td>2010S000001</td>\n",
       "      <td>2</td>\n",
       "      <td>Eixample</td>\n",
       "      <td>7</td>\n",
       "      <td>la Dreta de l'Eixample</td>\n",
       "      <td>335100</td>\n",
       "      <td>Tetuan</td>\n",
       "      <td>Divendres</td>\n",
       "      <td>Dv</td>\n",
       "      <td>Laboral</td>\n",
       "      <td>...</td>\n",
       "      <td>1.0</td>\n",
       "      <td>7.0</td>\n",
       "      <td>No és causa del  vianant</td>\n",
       "      <td>Motocicleta</td>\n",
       "      <td>Home</td>\n",
       "      <td>Conductor</td>\n",
       "      <td>30</td>\n",
       "      <td>Ferit lleu</td>\n",
       "      <td>4583198,28</td>\n",
       "      <td>431179,27</td>\n",
       "    </tr>\n",
       "    <tr>\n",
       "      <th>1</th>\n",
       "      <td>2010S000001</td>\n",
       "      <td>2</td>\n",
       "      <td>Eixample</td>\n",
       "      <td>7</td>\n",
       "      <td>la Dreta de l'Eixample</td>\n",
       "      <td>335100</td>\n",
       "      <td>Tetuan</td>\n",
       "      <td>Divendres</td>\n",
       "      <td>Dv</td>\n",
       "      <td>Laboral</td>\n",
       "      <td>...</td>\n",
       "      <td>1.0</td>\n",
       "      <td>7.0</td>\n",
       "      <td>No és causa del  vianant</td>\n",
       "      <td>Motocicleta</td>\n",
       "      <td>Home</td>\n",
       "      <td>Conductor</td>\n",
       "      <td>39</td>\n",
       "      <td>Ferit lleu</td>\n",
       "      <td>4583198,28</td>\n",
       "      <td>431179,27</td>\n",
       "    </tr>\n",
       "    <tr>\n",
       "      <th>2</th>\n",
       "      <td>2010S000002</td>\n",
       "      <td>2</td>\n",
       "      <td>Eixample</td>\n",
       "      <td>5</td>\n",
       "      <td>el Fort Pienc</td>\n",
       "      <td>76807</td>\n",
       "      <td>Sardenya</td>\n",
       "      <td>Divendres</td>\n",
       "      <td>Dv</td>\n",
       "      <td>Laboral</td>\n",
       "      <td>...</td>\n",
       "      <td>1.0</td>\n",
       "      <td>14.0</td>\n",
       "      <td>No és causa del  vianant</td>\n",
       "      <td>Ciclomotor</td>\n",
       "      <td>Home</td>\n",
       "      <td>Conductor</td>\n",
       "      <td>39</td>\n",
       "      <td>Ferit lleu</td>\n",
       "      <td>4583631,60</td>\n",
       "      <td>431444,51</td>\n",
       "    </tr>\n",
       "    <tr>\n",
       "      <th>3</th>\n",
       "      <td>2010S000005</td>\n",
       "      <td>9</td>\n",
       "      <td>Sant Andreu</td>\n",
       "      <td>61</td>\n",
       "      <td>la Sagrera</td>\n",
       "      <td>209900</td>\n",
       "      <td>Meridiana</td>\n",
       "      <td>Divendres</td>\n",
       "      <td>Dv</td>\n",
       "      <td>Laboral</td>\n",
       "      <td>...</td>\n",
       "      <td>1.0</td>\n",
       "      <td>20.0</td>\n",
       "      <td>No és causa del  vianant</td>\n",
       "      <td>Motocicleta</td>\n",
       "      <td>Home</td>\n",
       "      <td>Conductor</td>\n",
       "      <td>34</td>\n",
       "      <td>Ferit lleu</td>\n",
       "      <td>4586479,84</td>\n",
       "      <td>432062,05</td>\n",
       "    </tr>\n",
       "    <tr>\n",
       "      <th>4</th>\n",
       "      <td>2010S000006</td>\n",
       "      <td>10</td>\n",
       "      <td>Sant Martí</td>\n",
       "      <td>67</td>\n",
       "      <td>la Vila Olímpica del Poblenou</td>\n",
       "      <td>62609</td>\n",
       "      <td>Icària</td>\n",
       "      <td>Divendres</td>\n",
       "      <td>Dv</td>\n",
       "      <td>Laboral</td>\n",
       "      <td>...</td>\n",
       "      <td>1.0</td>\n",
       "      <td>21.0</td>\n",
       "      <td>No és causa del  vianant</td>\n",
       "      <td>Turismo</td>\n",
       "      <td>Dona</td>\n",
       "      <td>Conductor</td>\n",
       "      <td>32</td>\n",
       "      <td>Ferit lleu</td>\n",
       "      <td>4582584,02</td>\n",
       "      <td>432826,97</td>\n",
       "    </tr>\n",
       "  </tbody>\n",
       "</table>\n",
       "<p>5 rows × 23 columns</p>\n",
       "</div>"
      ],
      "text/plain": [
       "  Numero_expedient Codi_districte Nom_districte Codi_barri  \\\n",
       "0  2010S000001                  2      Eixample          7   \n",
       "1  2010S000001                  2      Eixample          7   \n",
       "2  2010S000002                  2      Eixample          5   \n",
       "3  2010S000005                  9   Sant Andreu         61   \n",
       "4  2010S000006                 10    Sant Martí         67   \n",
       "\n",
       "                       Nom_barri Codi_carrer Nom_carrer  \\\n",
       "0         la Dreta de l'Eixample      335100     Tetuan   \n",
       "1         la Dreta de l'Eixample      335100     Tetuan   \n",
       "2                  el Fort Pienc       76807   Sardenya   \n",
       "3                     la Sagrera      209900  Meridiana   \n",
       "4  la Vila Olímpica del Poblenou       62609     Icària   \n",
       "\n",
       "  Descripcio_dia_setmana Dia_setmana Descripcio_tipus_dia       ...         \\\n",
       "0              Divendres          Dv              Laboral       ...          \n",
       "1              Divendres          Dv              Laboral       ...          \n",
       "2              Divendres          Dv              Laboral       ...          \n",
       "3              Divendres          Dv              Laboral       ...          \n",
       "4              Divendres          Dv              Laboral       ...          \n",
       "\n",
       "   Dia_mes  Hora_dia  Descripcio_causa_vianant  Desc_Tipus_vehicle_implicat  \\\n",
       "0      1.0       7.0  No és causa del  vianant                  Motocicleta   \n",
       "1      1.0       7.0  No és causa del  vianant                  Motocicleta   \n",
       "2      1.0      14.0  No és causa del  vianant                   Ciclomotor   \n",
       "3      1.0      20.0  No és causa del  vianant                  Motocicleta   \n",
       "4      1.0      21.0  No és causa del  vianant                      Turismo   \n",
       "\n",
       "   Descripcio_sexe Descripcio_tipus_persona Edat Descripcio_victimitzacio  \\\n",
       "0             Home                Conductor   30               Ferit lleu   \n",
       "1             Home                Conductor   39               Ferit lleu   \n",
       "2             Home                Conductor   39               Ferit lleu   \n",
       "3             Home                Conductor   34               Ferit lleu   \n",
       "4             Dona                Conductor   32               Ferit lleu   \n",
       "\n",
       "  Coordenada_UTM_Y Coordenada_UTM_X  \n",
       "0       4583198,28        431179,27  \n",
       "1       4583198,28        431179,27  \n",
       "2       4583631,60        431444,51  \n",
       "3       4586479,84        432062,05  \n",
       "4       4582584,02        432826,97  \n",
       "\n",
       "[5 rows x 23 columns]"
      ]
     },
     "execution_count": 5,
     "metadata": {},
     "output_type": "execute_result"
    }
   ],
   "source": [
    "people.head()"
   ]
  },
  {
   "cell_type": "code",
   "execution_count": 6,
   "metadata": {},
   "outputs": [
    {
     "data": {
      "text/plain": [
       "166552"
      ]
     },
     "execution_count": 6,
     "metadata": {},
     "output_type": "execute_result"
    }
   ],
   "source": [
    "len(vehicles['Codi_expedient'])"
   ]
  },
  {
   "cell_type": "code",
   "execution_count": 7,
   "metadata": {},
   "outputs": [
    {
     "data": {
      "text/plain": [
       "86631"
      ]
     },
     "execution_count": 7,
     "metadata": {},
     "output_type": "execute_result"
    }
   ],
   "source": [
    "len(set(vehicles['Codi_expedient']))"
   ]
  },
  {
   "cell_type": "code",
   "execution_count": 8,
   "metadata": {},
   "outputs": [
    {
     "data": {
      "text/plain": [
       "102783"
      ]
     },
     "execution_count": 8,
     "metadata": {},
     "output_type": "execute_result"
    }
   ],
   "source": [
    "len(people['Numero_expedient'])"
   ]
  },
  {
   "cell_type": "code",
   "execution_count": 9,
   "metadata": {},
   "outputs": [
    {
     "data": {
      "text/plain": [
       "79097"
      ]
     },
     "execution_count": 9,
     "metadata": {},
     "output_type": "execute_result"
    }
   ],
   "source": [
    "len(set(people['Numero_expedient']))"
   ]
  },
  {
   "cell_type": "code",
   "execution_count": 11,
   "metadata": {},
   "outputs": [
    {
     "data": {
      "text/plain": [
       "119902"
      ]
     },
     "execution_count": 11,
     "metadata": {},
     "output_type": "execute_result"
    }
   ],
   "source": [
    "len(set(vehicles['Codi_expedient']).union(set(people['Numero_expedient'])))"
   ]
  },
  {
   "cell_type": "code",
   "execution_count": 13,
   "metadata": {},
   "outputs": [],
   "source": [
    "types = pd.read_excel('databases/cleaned/types_db.xlsx')"
   ]
  },
  {
   "cell_type": "code",
   "execution_count": 14,
   "metadata": {},
   "outputs": [],
   "source": [
    "causes = pd.read_excel('databases/cleaned/cause_db.xlsx')"
   ]
  },
  {
   "cell_type": "code",
   "execution_count": 17,
   "metadata": {},
   "outputs": [
    {
     "data": {
      "text/plain": [
       "86670"
      ]
     },
     "execution_count": 17,
     "metadata": {},
     "output_type": "execute_result"
    }
   ],
   "source": [
    "len(set(types['Numero_expedient']))"
   ]
  },
  {
   "cell_type": "code",
   "execution_count": 21,
   "metadata": {},
   "outputs": [
    {
     "data": {
      "text/plain": [
       "86665"
      ]
     },
     "execution_count": 21,
     "metadata": {},
     "output_type": "execute_result"
    }
   ],
   "source": [
    "len(set(causes['Numero_expedient']))"
   ]
  },
  {
   "cell_type": "code",
   "execution_count": 22,
   "metadata": {},
   "outputs": [
    {
     "data": {
      "text/plain": [
       "91584"
      ]
     },
     "execution_count": 22,
     "metadata": {},
     "output_type": "execute_result"
    }
   ],
   "source": [
    "len(types['Numero_expedient'])"
   ]
  },
  {
   "cell_type": "code",
   "execution_count": 23,
   "metadata": {},
   "outputs": [
    {
     "data": {
      "text/plain": [
       "86832"
      ]
     },
     "execution_count": 23,
     "metadata": {},
     "output_type": "execute_result"
    }
   ],
   "source": [
    "len(causes['Numero_expedient'])"
   ]
  },
  {
   "cell_type": "code",
   "execution_count": 47,
   "metadata": {},
   "outputs": [
    {
     "data": {
      "text/plain": [
       "Index(['Codi_expedient', 'Codi_districte', 'Nom_districte', 'Codi_barri',\n",
       "       'Nom_barri', 'Codi_carrer', 'Nom_carrer', 'Descripcio_dia_setmana',\n",
       "       'Descripcio_tipus_dia', 'NK_Any', 'Mes_any', 'Nom_mes', 'Dia_mes',\n",
       "       'Hora_dia', 'Descripcio_causa_vianant', 'Descripcio_tipus_vehicle',\n",
       "       'Descripcio_model', 'Descripcio_marca', 'Descripcio_color',\n",
       "       'Descripcio_carnet', 'Antiguitat_carnet', 'Coordenada_UTM_Y',\n",
       "       'Coordenada_UTM_X'],\n",
       "      dtype='object')"
      ]
     },
     "execution_count": 47,
     "metadata": {},
     "output_type": "execute_result"
    }
   ],
   "source": [
    "vehicles.columns"
   ]
  },
  {
   "cell_type": "code",
   "execution_count": 39,
   "metadata": {},
   "outputs": [
    {
     "data": {
      "text/plain": [
       "<matplotlib.axes._subplots.AxesSubplot at 0x1f3ecf64128>"
      ]
     },
     "execution_count": 39,
     "metadata": {},
     "output_type": "execute_result"
    },
    {
     "data": {
      "image/png": "[encoded data removed]",
      "text/plain": [
       "<Figure size 432x288 with 1 Axes>"
      ]
     },
     "metadata": {
      "needs_background": "light"
     },
     "output_type": "display_data"
    }
   ],
   "source": [
    "vehicles.groupby(['NK_Any']).count()['Codi_expedient'].plot()"
   ]
  },
  {
   "cell_type": "code",
   "execution_count": 46,
   "metadata": {},
   "outputs": [
    {
     "data": {
      "text/plain": [
       "<matplotlib.axes._subplots.AxesSubplot at 0x1f3ea08a3c8>"
      ]
     },
     "execution_count": 46,
     "metadata": {},
     "output_type": "execute_result"
    },
    {
     "data": {
      "image/png": "[encoded data removed]",
      "text/plain": [
       "<Figure size 432x288 with 1 Axes>"
      ]
     },
     "metadata": {
      "needs_background": "light"
     },
     "output_type": "display_data"
    }
   ],
   "source": [
    "vehicles.groupby(['NK_Any','Mes_any']).count()['Codi_expedient'].plot()"
   ]
  },
  {
   "cell_type": "code",
   "execution_count": 61,
   "metadata": {},
   "outputs": [
    {
     "data": {
      "text/plain": [
       "<matplotlib.axes._subplots.AxesSubplot at 0x1f3e892b908>"
      ]
     },
     "execution_count": 61,
     "metadata": {},
     "output_type": "execute_result"
    },
    {
     "data": {
      "image/png": "[encoded data removed]",
      "text/plain": [
       "<Figure size 432x288 with 1 Axes>"
      ]
     },
     "metadata": {
      "needs_background": "light"
     },
     "output_type": "display_data"
    }
   ],
   "source": [
    "vehicles.groupby('Hora_dia').count()['Codi_expedient'].plot()"
   ]
  },
  {
   "cell_type": "code",
   "execution_count": 59,
   "metadata": {},
   "outputs": [
    {
     "data": {
      "text/plain": [
       "<matplotlib.axes._subplots.AxesSubplot at 0x1f3e6fcc390>"
      ]
     },
     "execution_count": 59,
     "metadata": {},
     "output_type": "execute_result"
    },
    {
     "data": {
      "image/png": "[encoded data removed]",
      "text/plain": [
       "<Figure size 432x288 with 1 Axes>"
      ]
     },
     "metadata": {
      "needs_background": "light"
     },
     "output_type": "display_data"
    }
   ],
   "source": [
    "vehicles.groupby('Dia_mes').count()['Codi_expedient'].plot()"
   ]
  },
  {
   "cell_type": "code",
   "execution_count": 57,
   "metadata": {},
   "outputs": [
    {
     "data": {
      "text/plain": [
       "<matplotlib.axes._subplots.AxesSubplot at 0x1f3e64c0ac8>"
      ]
     },
     "execution_count": 57,
     "metadata": {},
     "output_type": "execute_result"
    },
    {
     "data": {
      "image/png": "[encoded data removed]",
      "text/plain": [
       "<Figure size 432x288 with 1 Axes>"
      ]
     },
     "metadata": {
      "needs_background": "light"
     },
     "output_type": "display_data"
    }
   ],
   "source": [
    "vehicles.groupby('Descripcio_dia_setmana').count()['Codi_expedient'].plot(kind='bar')"
   ]
  },
  {
   "cell_type": "code",
   "execution_count": 62,
   "metadata": {},
   "outputs": [
    {
     "data": {
      "text/plain": [
       "Index(['Codi_expedient', 'Codi_districte', 'Nom_districte', 'Codi_barri',\n",
       "       'Nom_barri', 'Codi_carrer', 'Nom_carrer', 'Descripcio_dia_setmana',\n",
       "       'Descripcio_tipus_dia', 'NK_Any', 'Mes_any', 'Nom_mes', 'Dia_mes',\n",
       "       'Hora_dia', 'Descripcio_causa_vianant', 'Descripcio_tipus_vehicle',\n",
       "       'Descripcio_model', 'Descripcio_marca', 'Descripcio_color',\n",
       "       'Descripcio_carnet', 'Antiguitat_carnet', 'Coordenada_UTM_Y',\n",
       "       'Coordenada_UTM_X'],\n",
       "      dtype='object')"
      ]
     },
     "execution_count": 62,
     "metadata": {},
     "output_type": "execute_result"
    }
   ],
   "source": [
    "vehicles.columns"
   ]
  },
  {
   "cell_type": "code",
   "execution_count": 63,
   "metadata": {},
   "outputs": [
    {
     "data": {
      "text/plain": [
       "<matplotlib.axes._subplots.AxesSubplot at 0x1f3e8bc0be0>"
      ]
     },
     "execution_count": 63,
     "metadata": {},
     "output_type": "execute_result"
    },
    {
     "data": {
      "image/png": "[encoded data removed]",
      "text/plain": [
       "<Figure size 432x288 with 1 Axes>"
      ]
     },
     "metadata": {
      "needs_background": "light"
     },
     "output_type": "display_data"
    }
   ],
   "source": [
    "vehicles.groupby('Nom_districte').count()['Codi_expedient'].plot(kind='bar')"
   ]
  },
  {
   "cell_type": "code",
   "execution_count": 66,
   "metadata": {},
   "outputs": [
    {
     "data": {
      "text/plain": [
       "<matplotlib.axes._subplots.AxesSubplot at 0x1f3e6eb10f0>"
      ]
     },
     "execution_count": 66,
     "metadata": {},
     "output_type": "execute_result"
    },
    {
     "data": {
      "image/png": "[encoded data removed]",
      "text/plain": [
       "<Figure size 432x288 with 1 Axes>"
      ]
     },
     "metadata": {
      "needs_background": "light"
     },
     "output_type": "display_data"
    }
   ],
   "source": [
    "vehicles.groupby('Descripcio_color').count()['Codi_expedient'].plot(kind='bar')"
   ]
  },
  {
   "cell_type": "code",
   "execution_count": 67,
   "metadata": {},
   "outputs": [
    {
     "data": {
      "text/plain": [
       "<matplotlib.axes._subplots.AxesSubplot at 0x1f3ebb41fd0>"
      ]
     },
     "execution_count": 67,
     "metadata": {},
     "output_type": "execute_result"
    },
    {
     "data": {
      "image/png": "[encoded data removed]",
      "text/plain": [
       "<Figure size 432x288 with 1 Axes>"
      ]
     },
     "metadata": {
      "needs_background": "light"
     },
     "output_type": "display_data"
    }
   ],
   "source": [
    "vehicles.groupby('Descripcio_tipus_vehicle').count()['Codi_expedient'].plot(kind='bar')"
   ]
  },
  {
   "cell_type": "code",
   "execution_count": null,
   "metadata": {},
   "outputs": [],
   "source": []
  }
 ],
 "metadata": {
  "kernelspec": {
   "display_name": "Python 3",
   "language": "python",
   "name": "python3"
  },
  "language_info": {
   "codemirror_mode": {
    "name": "ipython",
    "version": 3
   },
   "file_extension": ".py",
   "mimetype": "text/x-python",
   "name": "python",
   "nbconvert_exporter": "python",
   "pygments_lexer": "ipython3",
   "version": "3.7.2"
  }
 },
 "nbformat": 4,
 "nbformat_minor": 2
}
