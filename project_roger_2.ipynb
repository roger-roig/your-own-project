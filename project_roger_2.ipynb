{
 "cells": [
  {
   "cell_type": "code",
   "execution_count": 2,
   "metadata": {},
   "outputs": [],
   "source": [
    "# IMPORT LIBRARIES\n",
    "import numpy as np\n",
    "import pandas as pd\n",
    "import matplotlib.pyplot as plt\n",
    "%matplotlib inline\n",
    "import seaborn as sns\n",
    "from scipy import stats"
   ]
  },
  {
   "cell_type": "code",
   "execution_count": 3,
   "metadata": {},
   "outputs": [],
   "source": [
    "# IMPORT DATA\n",
    "vehicles = pd.read_excel('databases/cleaned/vehicles_db.xlsx')"
   ]
  },
  {
   "cell_type": "code",
   "execution_count": 4,
   "metadata": {},
   "outputs": [],
   "source": [
    "people = pd.read_excel('databases/cleaned/people_db.xlsx')"
   ]
  },
  {
   "cell_type": "code",
   "execution_count": 5,
   "metadata": {},
   "outputs": [],
   "source": [
    "causes = pd.read_excel('databases/cleaned/cause_db.xlsx')"
   ]
  },
  {
   "cell_type": "code",
   "execution_count": 6,
   "metadata": {},
   "outputs": [],
   "source": [
    "types = pd.read_excel('databases/cleaned/types_db.xlsx')"
   ]
  },
  {
   "cell_type": "markdown",
   "metadata": {},
   "source": [
    "#### DATA INFORMATION:\n",
    "\n",
    "The common information among the data sets is the following:\n",
    "\n",
    "- Accident_ID\n",
    "- Geographical: Codi_districte, Nom_districte, Codi_barri, Nom_barri, Codi_carrer, Nom_carrer, \n",
    "  Coordenada_UTM_X, Coordenada_UTM_Y\n",
    "- Data, time: Any, Mes_any, Nom_mes, Dia_mes, Descripcio_dia_setmana, Hora_dia\n",
    "\n",
    "The unique data to each data set is:\n",
    "- Vehicles: Descripcio_causa_vianant, Descripcio_tipus_vehicle, Descripcio_model, Descripcio_marca, Descripcio_color,\n",
    "  Descripcio_carnet, Antiguitat_carnet\n",
    "- People: Descripcio_causa_vianant, Desc_Tipus_vehicle_implicat, Descripcio_sexe, Descripcio_tipus_persona,\n",
    "  Descripcio_victimitzacio, Edat\n",
    "- Types: Descripcio_tipus_accident\n",
    "- Causes: Descripcio_causa_mediata\n",
    "\n",
    "Data length:\n",
    "- Vehicles: 166552 (unique accident_ID = 86630)\n",
    "- People: 102783 (unique accident_ID = 79097)\n",
    "- Types: 91584 (unique accident_ID = 86670)\n",
    "- Causes: 86832 (unique accident_ID = 86665)\n",
    "\n",
    "There seem to be around 86600 accidents in the database. The lower number in the people db might just indicate that some people was not registered?"
   ]
  },
  {
   "cell_type": "code",
   "execution_count": 19,
   "metadata": {},
   "outputs": [
    {
     "data": {
      "text/plain": [
       "86630"
      ]
     },
     "execution_count": 19,
     "metadata": {},
     "output_type": "execute_result"
    }
   ],
   "source": [
    "vehicles['Codi_expedient'].nunique()"
   ]
  },
  {
   "cell_type": "markdown",
   "metadata": {},
   "source": [
    "#### QUESTIONS\n",
    "\n",
    "Vehicle-related\n",
    "- What kind of vehicle is associated with a higher rate of accidents?\n",
    "- Are red vehicles more often involved in accidents?\n",
    "- Are old vehicles more likely to suffer an accident?\n",
    "\n",
    "Geographical/time related\n",
    "- What neighborhoods have more accidents?\n",
    "- What month/ day of the week / time of the day are you more likely to have an accident?\n",
    "- Are there more accidents during a work day or during a weekend day?\n",
    "- Are accidents equally distributed during the days of the week?\n",
    "- Are accidents equally distributed during the months?\n",
    "\n",
    "People-related\n",
    "- At what age are you more likely to suffer an accident?\n",
    "- Is there a correlation between license age and accidents?\n",
    "\n",
    "Causes/types:\n",
    "- What is the main cause of accidents?\n",
    "- How likely are you to suffer an accident as a pedestrian?\n",
    "- How likely are you to survive a car accident?\n",
    "- Is rain correlated with a higher rate of accidents?\n",
    "- Has the use of mobile phones increased the rate of accidents?\n"
   ]
  },
  {
   "cell_type": "markdown",
   "metadata": {},
   "source": [
    "#### What neighborhoods have more accidents?"
   ]
  },
  {
   "cell_type": "code",
   "execution_count": 20,
   "metadata": {},
   "outputs": [
    {
     "data": {
      "text/html": [
       "<div>\n",
       "<style scoped>\n",
       "    .dataframe tbody tr th:only-of-type {\n",
       "        vertical-align: middle;\n",
       "    }\n",
       "\n",
       "    .dataframe tbody tr th {\n",
       "        vertical-align: top;\n",
       "    }\n",
       "\n",
       "    .dataframe thead th {\n",
       "        text-align: right;\n",
       "    }\n",
       "</style>\n",
       "<table border=\"1\" class=\"dataframe\">\n",
       "  <thead>\n",
       "    <tr style=\"text-align: right;\">\n",
       "      <th></th>\n",
       "      <th>Numero_expedient</th>\n",
       "      <th>Codi_districte</th>\n",
       "      <th>Nom_districte</th>\n",
       "      <th>Codi_barri</th>\n",
       "      <th>Nom_barri</th>\n",
       "      <th>Codi_carrer</th>\n",
       "      <th>Nom_carrer</th>\n",
       "      <th>Num_postal</th>\n",
       "      <th>Descripcio_dia_setmana</th>\n",
       "      <th>Dia_setmana</th>\n",
       "      <th>Descripcio_tipus_dia</th>\n",
       "      <th>NK_Any</th>\n",
       "      <th>Mes_any</th>\n",
       "      <th>Nom_mes</th>\n",
       "      <th>Dia_mes</th>\n",
       "      <th>Hora_dia</th>\n",
       "      <th>Descripcio_torn</th>\n",
       "      <th>Descripcio_tipus_accident</th>\n",
       "      <th>Coordenada_UTM_Y</th>\n",
       "      <th>Coordenada_UTM_X</th>\n",
       "    </tr>\n",
       "  </thead>\n",
       "  <tbody>\n",
       "    <tr>\n",
       "      <th>0</th>\n",
       "      <td>2010S006909</td>\n",
       "      <td>10</td>\n",
       "      <td>Sant Martí</td>\n",
       "      <td>64</td>\n",
       "      <td>el Camp de l'Arpa del Clot</td>\n",
       "      <td>134801</td>\n",
       "      <td>Freser</td>\n",
       "      <td>0176 0176</td>\n",
       "      <td>Dilluns</td>\n",
       "      <td>Dl</td>\n",
       "      <td>Laboral</td>\n",
       "      <td>2010.0</td>\n",
       "      <td>10.0</td>\n",
       "      <td>Octubre</td>\n",
       "      <td>11.0</td>\n",
       "      <td>20.0</td>\n",
       "      <td>Tarda</td>\n",
       "      <td>Atropellament</td>\n",
       "      <td>4585312,47</td>\n",
       "      <td>431736,08</td>\n",
       "    </tr>\n",
       "    <tr>\n",
       "      <th>1</th>\n",
       "      <td>2010S006757</td>\n",
       "      <td>10</td>\n",
       "      <td>Sant Martí</td>\n",
       "      <td>64</td>\n",
       "      <td>el Camp de l'Arpa del Clot</td>\n",
       "      <td>226400</td>\n",
       "      <td>Las Navas de Tolosa</td>\n",
       "      <td>0329 0329</td>\n",
       "      <td>Dimarts</td>\n",
       "      <td>Dm</td>\n",
       "      <td>Laboral</td>\n",
       "      <td>2010.0</td>\n",
       "      <td>10.0</td>\n",
       "      <td>Octubre</td>\n",
       "      <td>5.0</td>\n",
       "      <td>16.0</td>\n",
       "      <td>Tarda</td>\n",
       "      <td>Col.lisió lateral</td>\n",
       "      <td>4585527,16</td>\n",
       "      <td>431983,63</td>\n",
       "    </tr>\n",
       "    <tr>\n",
       "      <th>2</th>\n",
       "      <td>2010S005591</td>\n",
       "      <td>10</td>\n",
       "      <td>Sant Martí</td>\n",
       "      <td>64</td>\n",
       "      <td>el Camp de l'Arpa del Clot</td>\n",
       "      <td>297001</td>\n",
       "      <td>Sant Antoni Maria Claret</td>\n",
       "      <td>0268 0268</td>\n",
       "      <td>Divendres</td>\n",
       "      <td>Dv</td>\n",
       "      <td>Laboral</td>\n",
       "      <td>2010.0</td>\n",
       "      <td>8.0</td>\n",
       "      <td>Agost</td>\n",
       "      <td>13.0</td>\n",
       "      <td>15.0</td>\n",
       "      <td>Tarda</td>\n",
       "      <td>Xoc contra element estàtic</td>\n",
       "      <td>4585099,31</td>\n",
       "      <td>431268,10</td>\n",
       "    </tr>\n",
       "    <tr>\n",
       "      <th>3</th>\n",
       "      <td>2010S008924</td>\n",
       "      <td>10</td>\n",
       "      <td>Sant Martí</td>\n",
       "      <td>64</td>\n",
       "      <td>el Camp de l'Arpa del Clot</td>\n",
       "      <td>161407</td>\n",
       "      <td>Indústria</td>\n",
       "      <td>0258 0258</td>\n",
       "      <td>Divendres</td>\n",
       "      <td>Dv</td>\n",
       "      <td>Laboral</td>\n",
       "      <td>2010.0</td>\n",
       "      <td>12.0</td>\n",
       "      <td>Desembre</td>\n",
       "      <td>24.0</td>\n",
       "      <td>14.0</td>\n",
       "      <td>Tarda</td>\n",
       "      <td>Col.lisió lateral</td>\n",
       "      <td>4585137,05</td>\n",
       "      <td>431484,86</td>\n",
       "    </tr>\n",
       "    <tr>\n",
       "      <th>4</th>\n",
       "      <td>2010S000187</td>\n",
       "      <td>10</td>\n",
       "      <td>Sant Martí</td>\n",
       "      <td>64</td>\n",
       "      <td>el Camp de l'Arpa del Clot</td>\n",
       "      <td>350308</td>\n",
       "      <td>València</td>\n",
       "      <td>0589 0589</td>\n",
       "      <td>Dissabte</td>\n",
       "      <td>Ds</td>\n",
       "      <td>Laboral</td>\n",
       "      <td>2010.0</td>\n",
       "      <td>1.0</td>\n",
       "      <td>Gener</td>\n",
       "      <td>9.0</td>\n",
       "      <td>14.0</td>\n",
       "      <td>Tarda</td>\n",
       "      <td>Abast</td>\n",
       "      <td>4584685,43</td>\n",
       "      <td>431964,34</td>\n",
       "    </tr>\n",
       "  </tbody>\n",
       "</table>\n",
       "</div>"
      ],
      "text/plain": [
       "  Numero_expedient Codi_districte Nom_districte Codi_barri  \\\n",
       "0      2010S006909             10    Sant Martí         64   \n",
       "1      2010S006757             10    Sant Martí         64   \n",
       "2      2010S005591             10    Sant Martí         64   \n",
       "3      2010S008924             10    Sant Martí         64   \n",
       "4      2010S000187             10    Sant Martí         64   \n",
       "\n",
       "                    Nom_barri Codi_carrer                Nom_carrer  \\\n",
       "0  el Camp de l'Arpa del Clot      134801                    Freser   \n",
       "1  el Camp de l'Arpa del Clot      226400       Las Navas de Tolosa   \n",
       "2  el Camp de l'Arpa del Clot      297001  Sant Antoni Maria Claret   \n",
       "3  el Camp de l'Arpa del Clot      161407                 Indústria   \n",
       "4  el Camp de l'Arpa del Clot      350308                  València   \n",
       "\n",
       "  Num_postal Descripcio_dia_setmana Dia_setmana Descripcio_tipus_dia  NK_Any  \\\n",
       "0  0176 0176                Dilluns          Dl              Laboral  2010.0   \n",
       "1  0329 0329                Dimarts          Dm              Laboral  2010.0   \n",
       "2  0268 0268              Divendres          Dv              Laboral  2010.0   \n",
       "3  0258 0258              Divendres          Dv              Laboral  2010.0   \n",
       "4  0589 0589               Dissabte          Ds              Laboral  2010.0   \n",
       "\n",
       "   Mes_any   Nom_mes  Dia_mes  Hora_dia Descripcio_torn  \\\n",
       "0     10.0   Octubre     11.0      20.0           Tarda   \n",
       "1     10.0   Octubre      5.0      16.0           Tarda   \n",
       "2      8.0     Agost     13.0      15.0           Tarda   \n",
       "3     12.0  Desembre     24.0      14.0           Tarda   \n",
       "4      1.0     Gener      9.0      14.0           Tarda   \n",
       "\n",
       "    Descripcio_tipus_accident Coordenada_UTM_Y Coordenada_UTM_X  \n",
       "0               Atropellament       4585312,47        431736,08  \n",
       "1           Col.lisió lateral       4585527,16        431983,63  \n",
       "2  Xoc contra element estàtic       4585099,31        431268,10  \n",
       "3           Col.lisió lateral       4585137,05        431484,86  \n",
       "4                       Abast       4584685,43        431964,34  "
      ]
     },
     "execution_count": 20,
     "metadata": {},
     "output_type": "execute_result"
    }
   ],
   "source": [
    "types.head()"
   ]
  },
  {
   "cell_type": "code",
   "execution_count": 80,
   "metadata": {},
   "outputs": [
    {
     "data": {
      "text/plain": [
       "<matplotlib.axes._subplots.AxesSubplot at 0x2695090eef0>"
      ]
     },
     "execution_count": 80,
     "metadata": {},
     "output_type": "execute_result"
    },
    {
     "data": {
      "image/png": "[encoded data removed]",
      "text/plain": [
       "<Figure size 432x288 with 1 Axes>"
      ]
     },
     "metadata": {
      "needs_background": "light"
     },
     "output_type": "display_data"
    }
   ],
   "source": [
    "types[types['Nom_districte']!='Desconegut'].groupby('Nom_districte').count()['Numero_expedient'].sort_values().plot(kind='bar')"
   ]
  },
  {
   "cell_type": "code",
   "execution_count": 57,
   "metadata": {},
   "outputs": [],
   "source": [
    "typ_yr_dist = types[types['Nom_districte']!='Desconegut'].groupby(['NK_Any','Nom_districte']).count()[['Numero_expedient']].reset_index()"
   ]
  },
  {
   "cell_type": "code",
   "execution_count": 58,
   "metadata": {},
   "outputs": [
    {
     "data": {
      "text/html": [
       "<div>\n",
       "<style scoped>\n",
       "    .dataframe tbody tr th:only-of-type {\n",
       "        vertical-align: middle;\n",
       "    }\n",
       "\n",
       "    .dataframe tbody tr th {\n",
       "        vertical-align: top;\n",
       "    }\n",
       "\n",
       "    .dataframe thead th {\n",
       "        text-align: right;\n",
       "    }\n",
       "</style>\n",
       "<table border=\"1\" class=\"dataframe\">\n",
       "  <thead>\n",
       "    <tr style=\"text-align: right;\">\n",
       "      <th></th>\n",
       "      <th>NK_Any</th>\n",
       "      <th>Nom_districte</th>\n",
       "      <th>Numero_expedient</th>\n",
       "    </tr>\n",
       "  </thead>\n",
       "  <tbody>\n",
       "    <tr>\n",
       "      <th>0</th>\n",
       "      <td>2010.0</td>\n",
       "      <td>Ciutat Vella</td>\n",
       "      <td>510</td>\n",
       "    </tr>\n",
       "    <tr>\n",
       "      <th>1</th>\n",
       "      <td>2010.0</td>\n",
       "      <td>Eixample</td>\n",
       "      <td>2609</td>\n",
       "    </tr>\n",
       "    <tr>\n",
       "      <th>2</th>\n",
       "      <td>2010.0</td>\n",
       "      <td>Gràcia</td>\n",
       "      <td>536</td>\n",
       "    </tr>\n",
       "    <tr>\n",
       "      <th>3</th>\n",
       "      <td>2010.0</td>\n",
       "      <td>Horta-Guinardó</td>\n",
       "      <td>796</td>\n",
       "    </tr>\n",
       "    <tr>\n",
       "      <th>4</th>\n",
       "      <td>2010.0</td>\n",
       "      <td>Les Corts</td>\n",
       "      <td>693</td>\n",
       "    </tr>\n",
       "  </tbody>\n",
       "</table>\n",
       "</div>"
      ],
      "text/plain": [
       "   NK_Any   Nom_districte  Numero_expedient\n",
       "0  2010.0    Ciutat Vella               510\n",
       "1  2010.0        Eixample              2609\n",
       "2  2010.0          Gràcia               536\n",
       "3  2010.0  Horta-Guinardó               796\n",
       "4  2010.0       Les Corts               693"
      ]
     },
     "execution_count": 58,
     "metadata": {},
     "output_type": "execute_result"
    }
   ],
   "source": [
    "typ_yr_dist.head()"
   ]
  },
  {
   "cell_type": "code",
   "execution_count": 78,
   "metadata": {},
   "outputs": [
    {
     "data": {
      "image/png": "[encoded data removed]",
      "text/plain": [
       "<Figure size 1440x1080 with 1 Axes>"
      ]
     },
     "metadata": {
      "needs_background": "light"
     },
     "output_type": "display_data"
    }
   ],
   "source": [
    "plt.figure(figsize=(20,15))\n",
    "plt.tick_params(labelsize=14)\n",
    "sns.barplot(x='Nom_districte',y='Numero_expedient',data=typ_yr_dist,hue='NK_Any')\n",
    "plt.show()"
   ]
  },
  {
   "cell_type": "code",
   "execution_count": 81,
   "metadata": {},
   "outputs": [],
   "source": [
    "# Comments:\n",
    "\n",
    "# l'Eixample is clearly the district in Barcelona where there are more traffic accidents\n",
    "# In addition, it seems to be the district where the number has increased more."
   ]
  },
  {
   "cell_type": "code",
   "execution_count": 115,
   "metadata": {},
   "outputs": [],
   "source": [
    "typ_yr_dist_diffs = typ_yr_dist[typ_yr_dist['NK_Any']==2018][['Nom_districte','Numero_expedient']].reset_index()"
   ]
  },
  {
   "cell_type": "code",
   "execution_count": 119,
   "metadata": {},
   "outputs": [],
   "source": [
    "typ_yr_dist_diffs.drop('index',axis=1,inplace=True)"
   ]
  },
  {
   "cell_type": "code",
   "execution_count": 120,
   "metadata": {},
   "outputs": [],
   "source": [
    "typ_yr_dist_diffs.columns = ['Nom_districte','Count_2018']"
   ]
  },
  {
   "cell_type": "code",
   "execution_count": 121,
   "metadata": {},
   "outputs": [],
   "source": [
    "typ_yr_dist_diffs['Count_2010'] = typ_yr_dist[typ_yr_dist['NK_Any']==2010]['Numero_expedient']"
   ]
  },
  {
   "cell_type": "code",
   "execution_count": 127,
   "metadata": {},
   "outputs": [],
   "source": [
    "typ_yr_dist_diffs['Diff_value'] = (typ_yr_dist_diffs['Count_2018'] - typ_yr_dist_diffs['Count_2010'])"
   ]
  },
  {
   "cell_type": "code",
   "execution_count": 128,
   "metadata": {},
   "outputs": [],
   "source": [
    "typ_yr_dist_diffs['Diff_percent'] = (typ_yr_dist_diffs['Count_2018'] - typ_yr_dist_diffs['Count_2010'])/typ_yr_dist_diffs['Count_2010']*100"
   ]
  },
  {
   "cell_type": "code",
   "execution_count": 129,
   "metadata": {},
   "outputs": [
    {
     "data": {
      "text/html": [
       "<div>\n",
       "<style scoped>\n",
       "    .dataframe tbody tr th:only-of-type {\n",
       "        vertical-align: middle;\n",
       "    }\n",
       "\n",
       "    .dataframe tbody tr th {\n",
       "        vertical-align: top;\n",
       "    }\n",
       "\n",
       "    .dataframe thead th {\n",
       "        text-align: right;\n",
       "    }\n",
       "</style>\n",
       "<table border=\"1\" class=\"dataframe\">\n",
       "  <thead>\n",
       "    <tr style=\"text-align: right;\">\n",
       "      <th></th>\n",
       "      <th>Nom_districte</th>\n",
       "      <th>Count_2018</th>\n",
       "      <th>Count_2010</th>\n",
       "      <th>Diff</th>\n",
       "      <th>Diff_value</th>\n",
       "      <th>Diff_percent</th>\n",
       "    </tr>\n",
       "  </thead>\n",
       "  <tbody>\n",
       "    <tr>\n",
       "      <th>0</th>\n",
       "      <td>Ciutat Vella</td>\n",
       "      <td>592</td>\n",
       "      <td>510</td>\n",
       "      <td>0.160784</td>\n",
       "      <td>82</td>\n",
       "      <td>16.078431</td>\n",
       "    </tr>\n",
       "    <tr>\n",
       "      <th>1</th>\n",
       "      <td>Eixample</td>\n",
       "      <td>3137</td>\n",
       "      <td>2609</td>\n",
       "      <td>0.202376</td>\n",
       "      <td>528</td>\n",
       "      <td>20.237639</td>\n",
       "    </tr>\n",
       "    <tr>\n",
       "      <th>2</th>\n",
       "      <td>Gràcia</td>\n",
       "      <td>485</td>\n",
       "      <td>536</td>\n",
       "      <td>-0.095149</td>\n",
       "      <td>-51</td>\n",
       "      <td>-9.514925</td>\n",
       "    </tr>\n",
       "    <tr>\n",
       "      <th>3</th>\n",
       "      <td>Horta-Guinardó</td>\n",
       "      <td>777</td>\n",
       "      <td>796</td>\n",
       "      <td>-0.023869</td>\n",
       "      <td>-19</td>\n",
       "      <td>-2.386935</td>\n",
       "    </tr>\n",
       "    <tr>\n",
       "      <th>4</th>\n",
       "      <td>Les Corts</td>\n",
       "      <td>716</td>\n",
       "      <td>693</td>\n",
       "      <td>0.033189</td>\n",
       "      <td>23</td>\n",
       "      <td>3.318903</td>\n",
       "    </tr>\n",
       "    <tr>\n",
       "      <th>5</th>\n",
       "      <td>Nou Barris</td>\n",
       "      <td>583</td>\n",
       "      <td>506</td>\n",
       "      <td>0.152174</td>\n",
       "      <td>77</td>\n",
       "      <td>15.217391</td>\n",
       "    </tr>\n",
       "    <tr>\n",
       "      <th>6</th>\n",
       "      <td>Sant Andreu</td>\n",
       "      <td>714</td>\n",
       "      <td>590</td>\n",
       "      <td>0.210169</td>\n",
       "      <td>124</td>\n",
       "      <td>21.016949</td>\n",
       "    </tr>\n",
       "    <tr>\n",
       "      <th>7</th>\n",
       "      <td>Sant Martí</td>\n",
       "      <td>1254</td>\n",
       "      <td>1126</td>\n",
       "      <td>0.113677</td>\n",
       "      <td>128</td>\n",
       "      <td>11.367673</td>\n",
       "    </tr>\n",
       "    <tr>\n",
       "      <th>8</th>\n",
       "      <td>Sants-Montjuïc</td>\n",
       "      <td>1087</td>\n",
       "      <td>1039</td>\n",
       "      <td>0.046198</td>\n",
       "      <td>48</td>\n",
       "      <td>4.619827</td>\n",
       "    </tr>\n",
       "    <tr>\n",
       "      <th>9</th>\n",
       "      <td>Sarrià-Sant Gervasi</td>\n",
       "      <td>1190</td>\n",
       "      <td>1096</td>\n",
       "      <td>0.085766</td>\n",
       "      <td>94</td>\n",
       "      <td>8.576642</td>\n",
       "    </tr>\n",
       "  </tbody>\n",
       "</table>\n",
       "</div>"
      ],
      "text/plain": [
       "         Nom_districte  Count_2018  Count_2010      Diff  Diff_value  \\\n",
       "0         Ciutat Vella         592         510  0.160784          82   \n",
       "1             Eixample        3137        2609  0.202376         528   \n",
       "2               Gràcia         485         536 -0.095149         -51   \n",
       "3       Horta-Guinardó         777         796 -0.023869         -19   \n",
       "4            Les Corts         716         693  0.033189          23   \n",
       "5           Nou Barris         583         506  0.152174          77   \n",
       "6          Sant Andreu         714         590  0.210169         124   \n",
       "7           Sant Martí        1254        1126  0.113677         128   \n",
       "8       Sants-Montjuïc        1087        1039  0.046198          48   \n",
       "9  Sarrià-Sant Gervasi        1190        1096  0.085766          94   \n",
       "\n",
       "   Diff_percent  \n",
       "0     16.078431  \n",
       "1     20.237639  \n",
       "2     -9.514925  \n",
       "3     -2.386935  \n",
       "4      3.318903  \n",
       "5     15.217391  \n",
       "6     21.016949  \n",
       "7     11.367673  \n",
       "8      4.619827  \n",
       "9      8.576642  "
      ]
     },
     "execution_count": 129,
     "metadata": {},
     "output_type": "execute_result"
    }
   ],
   "source": [
    "typ_yr_dist_diffs"
   ]
  },
  {
   "cell_type": "code",
   "execution_count": 130,
   "metadata": {},
   "outputs": [],
   "source": [
    "# Comments:\n",
    "\n",
    "# Total number of traffic accidents have increased l'Eixample, followed by Sant Andreu and Sant Marti.\n",
    "# However, the change in percentage is similar between l'Eixample and Sant Andreu, followed by Ciutat Vell and Nou Barris."
   ]
  },
  {
   "cell_type": "code",
   "execution_count": 132,
   "metadata": {},
   "outputs": [],
   "source": [
    "# Other comments:\n",
    "\n",
    "# There are a lot of important rows passing through l'Eixample (Av. Diagonal, Gran Via de les Corts Catalanes,\n",
    "# Av. Paral·lel, Passeig de Gràcia), which could justify the higher number of vehicles.\n",
    "\n",
    "# Need to compare this with the vehicle number passing through every main road.\n",
    "\n",
    "# Also, could do a test of differences between 2018 and 2010 to check whether the increase is statistically significant."
   ]
  },
  {
   "cell_type": "code",
   "execution_count": null,
   "metadata": {},
   "outputs": [],
   "source": []
  }
 ],
 "metadata": {
  "kernelspec": {
   "display_name": "Python 3",
   "language": "python",
   "name": "python3"
  },
  "language_info": {
   "codemirror_mode": {
    "name": "ipython",
    "version": 3
   },
   "file_extension": ".py",
   "mimetype": "text/x-python",
   "name": "python",
   "nbconvert_exporter": "python",
   "pygments_lexer": "ipython3",
   "version": "3.7.2"
  }
 },
 "nbformat": 4,
 "nbformat_minor": 2
}
